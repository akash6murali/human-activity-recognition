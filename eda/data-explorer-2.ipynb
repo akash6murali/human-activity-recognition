{
 "cells": [
  {
   "cell_type": "markdown",
   "id": "d346bdc6",
   "metadata": {},
   "source": [
    "## With EDA 1 It gaves us a hint that with PCA the activities are spatially sepearted with static activities towards the left and dynamic activities towards the right. Based on this knowledge we have used a different set of labels[sleep, light, sedentary, moderate-vigorous] to hide away the heirarchy."
   ]
  },
  {
   "cell_type": "code",
   "execution_count": 1,
   "id": "51e6394c",
   "metadata": {},
   "outputs": [
    {
     "name": "stdout",
     "output_type": "stream",
     "text": [
      "/Users/akashmurali/Documents/capstone/project\n"
     ]
    }
   ],
   "source": [
    "cd /Users/akashmurali/Documents/capstone/project"
   ]
  },
  {
   "cell_type": "code",
   "execution_count": 2,
   "id": "50f206d1",
   "metadata": {},
   "outputs": [],
   "source": [
    "import pandas as pd\n",
    "import os\n",
    "\n",
    "# load as a df\n",
    "df_147 = pd.read_csv(\"capture24/P147.csv\", index_col=\"time\", parse_dates=[\"time\"], dtype={'x': 'f4', 'y': 'f4', 'z': 'f4', 'annotation': 'string'})"
   ]
  },
  {
   "cell_type": "code",
   "execution_count": 3,
   "id": "3f1919e5",
   "metadata": {},
   "outputs": [
    {
     "name": "stdout",
     "output_type": "stream",
     "text": [
      "<class 'pandas.core.frame.DataFrame'>\n",
      "Index: 206 entries, 7030 sleeping;MET 0.95 to vehicle;MET 1.3\n",
      "Data columns (total 6 columns):\n",
      " #   Column                      Non-Null Count  Dtype \n",
      "---  ------                      --------------  ----- \n",
      " 0   label:WillettsSpecific2018  206 non-null    string\n",
      " 1   label:WillettsMET2018       206 non-null    string\n",
      " 2   label:DohertySpecific2018   206 non-null    string\n",
      " 3   label:Willetts2018          206 non-null    string\n",
      " 4   label:Doherty2018           206 non-null    string\n",
      " 5   label:Walmsley2020          206 non-null    string\n",
      "dtypes: string(6)\n",
      "memory usage: 11.3+ KB\n"
     ]
    }
   ],
   "source": [
    "# load annotation-label-dictionary.csv as df to remap the annotation to proper labels\n",
    "annotation_df = pd.read_csv(\"capture24/annotation-label-dictionary.csv\", index_col = \"annotation\", dtype = \"string\")\n",
    "annotation_df.info()"
   ]
  },
  {
   "cell_type": "code",
   "execution_count": 16,
   "id": "bab74372",
   "metadata": {},
   "outputs": [
    {
     "data": {
      "text/html": [
       "<div>\n",
       "<style scoped>\n",
       "    .dataframe tbody tr th:only-of-type {\n",
       "        vertical-align: middle;\n",
       "    }\n",
       "\n",
       "    .dataframe tbody tr th {\n",
       "        vertical-align: top;\n",
       "    }\n",
       "\n",
       "    .dataframe thead th {\n",
       "        text-align: right;\n",
       "    }\n",
       "</style>\n",
       "<table border=\"1\" class=\"dataframe\">\n",
       "  <thead>\n",
       "    <tr style=\"text-align: right;\">\n",
       "      <th></th>\n",
       "      <th>label:WillettsSpecific2018</th>\n",
       "      <th>label:WillettsMET2018</th>\n",
       "      <th>label:DohertySpecific2018</th>\n",
       "      <th>label:Willetts2018</th>\n",
       "      <th>label:Doherty2018</th>\n",
       "      <th>label:Walmsley2020</th>\n",
       "    </tr>\n",
       "    <tr>\n",
       "      <th>annotation</th>\n",
       "      <th></th>\n",
       "      <th></th>\n",
       "      <th></th>\n",
       "      <th></th>\n",
       "      <th></th>\n",
       "      <th></th>\n",
       "    </tr>\n",
       "  </thead>\n",
       "  <tbody>\n",
       "    <tr>\n",
       "      <th>7030 sleeping;MET 0.95</th>\n",
       "      <td>sleep</td>\n",
       "      <td>sleep</td>\n",
       "      <td>sleep</td>\n",
       "      <td>sleep</td>\n",
       "      <td>sleep</td>\n",
       "      <td>sleep</td>\n",
       "    </tr>\n",
       "    <tr>\n",
       "      <th>occupation;office and administrative support;11580 office/computer work general;MET 1.5</th>\n",
       "      <td>sitting</td>\n",
       "      <td>sitstand+lowactivity</td>\n",
       "      <td>sedentary-screen</td>\n",
       "      <td>sit-stand</td>\n",
       "      <td>sedentary</td>\n",
       "      <td>sedentary</td>\n",
       "    </tr>\n",
       "    <tr>\n",
       "      <th>home activity;household chores;preparing meals/cooking/washing dishes;5035 kitchen activity general cooking/washing/dishes/cleaning up;MET 3.3</th>\n",
       "      <td>household-chores</td>\n",
       "      <td>sitstand+activity</td>\n",
       "      <td>tasks-moderate</td>\n",
       "      <td>mixed</td>\n",
       "      <td>moderate</td>\n",
       "      <td>light</td>\n",
       "    </tr>\n",
       "    <tr>\n",
       "      <th>occupation;office and administrative support;11580 office wok/computer work general;MET 1.5</th>\n",
       "      <td>sitting</td>\n",
       "      <td>sitstand+lowactivity</td>\n",
       "      <td>sedentary-screen</td>\n",
       "      <td>sit-stand</td>\n",
       "      <td>sedentary</td>\n",
       "      <td>sedentary</td>\n",
       "    </tr>\n",
       "    <tr>\n",
       "      <th>home activity;miscellaneous;sitting;9060 sitting/lying reading or without observable/identifiable activities;MET 1.3</th>\n",
       "      <td>sitting</td>\n",
       "      <td>sitstand+lowactivity</td>\n",
       "      <td>sedentary-non-screen</td>\n",
       "      <td>sit-stand</td>\n",
       "      <td>sedentary</td>\n",
       "      <td>sedentary</td>\n",
       "    </tr>\n",
       "  </tbody>\n",
       "</table>\n",
       "</div>"
      ],
      "text/plain": [
       "                                                   label:WillettsSpecific2018  \\\n",
       "annotation                                                                      \n",
       "7030 sleeping;MET 0.95                                                  sleep   \n",
       "occupation;office and administrative support;11...                    sitting   \n",
       "home activity;household chores;preparing meals/...           household-chores   \n",
       "occupation;office and administrative support;11...                    sitting   \n",
       "home activity;miscellaneous;sitting;9060 sittin...                    sitting   \n",
       "\n",
       "                                                   label:WillettsMET2018  \\\n",
       "annotation                                                                 \n",
       "7030 sleeping;MET 0.95                                             sleep   \n",
       "occupation;office and administrative support;11...  sitstand+lowactivity   \n",
       "home activity;household chores;preparing meals/...     sitstand+activity   \n",
       "occupation;office and administrative support;11...  sitstand+lowactivity   \n",
       "home activity;miscellaneous;sitting;9060 sittin...  sitstand+lowactivity   \n",
       "\n",
       "                                                   label:DohertySpecific2018  \\\n",
       "annotation                                                                     \n",
       "7030 sleeping;MET 0.95                                                 sleep   \n",
       "occupation;office and administrative support;11...          sedentary-screen   \n",
       "home activity;household chores;preparing meals/...            tasks-moderate   \n",
       "occupation;office and administrative support;11...          sedentary-screen   \n",
       "home activity;miscellaneous;sitting;9060 sittin...      sedentary-non-screen   \n",
       "\n",
       "                                                   label:Willetts2018  \\\n",
       "annotation                                                              \n",
       "7030 sleeping;MET 0.95                                          sleep   \n",
       "occupation;office and administrative support;11...          sit-stand   \n",
       "home activity;household chores;preparing meals/...              mixed   \n",
       "occupation;office and administrative support;11...          sit-stand   \n",
       "home activity;miscellaneous;sitting;9060 sittin...          sit-stand   \n",
       "\n",
       "                                                   label:Doherty2018  \\\n",
       "annotation                                                             \n",
       "7030 sleeping;MET 0.95                                         sleep   \n",
       "occupation;office and administrative support;11...         sedentary   \n",
       "home activity;household chores;preparing meals/...          moderate   \n",
       "occupation;office and administrative support;11...         sedentary   \n",
       "home activity;miscellaneous;sitting;9060 sittin...         sedentary   \n",
       "\n",
       "                                                   label:Walmsley2020  \n",
       "annotation                                                             \n",
       "7030 sleeping;MET 0.95                                          sleep  \n",
       "occupation;office and administrative support;11...          sedentary  \n",
       "home activity;household chores;preparing meals/...              light  \n",
       "occupation;office and administrative support;11...          sedentary  \n",
       "home activity;miscellaneous;sitting;9060 sittin...          sedentary  "
      ]
     },
     "execution_count": 16,
     "metadata": {},
     "output_type": "execute_result"
    }
   ],
   "source": [
    "annotation_df.head()"
   ]
  },
  {
   "cell_type": "code",
   "execution_count": 4,
   "id": "708d60f3",
   "metadata": {},
   "outputs": [],
   "source": [
    "import plotly.express as px\n",
    "import plotly.graph_objects as go\n",
    "from plotly.subplots import make_subplots"
   ]
  },
  {
   "cell_type": "code",
   "execution_count": 5,
   "id": "16bd6948",
   "metadata": {},
   "outputs": [
    {
     "name": "stdout",
     "output_type": "stream",
     "text": [
      "Unmapped rows: 2788381\n"
     ]
    }
   ],
   "source": [
    "# Direct mapping\n",
    "df_147['activity_label'] = df_147['annotation'].map(annotation_df['label:Walmsley2020'])\n",
    "\n",
    "# Check for unmapped\n",
    "print(f\"Unmapped rows: {df_147['activity_label'].isna().sum()}\")"
   ]
  },
  {
   "cell_type": "code",
   "execution_count": 6,
   "id": "21bf6393",
   "metadata": {},
   "outputs": [
    {
     "data": {
      "text/plain": [
       "4"
      ]
     },
     "execution_count": 6,
     "metadata": {},
     "output_type": "execute_result"
    }
   ],
   "source": [
    "df_147['activity_label'].nunique()"
   ]
  },
  {
   "cell_type": "code",
   "execution_count": 7,
   "id": "88726f6a",
   "metadata": {},
   "outputs": [],
   "source": [
    "from tqdm import tqdm\n",
    "import numpy as np\n",
    "\n",
    "def extract_windows(data, winsize='10s'):\n",
    "    X, Y = [], []\n",
    "    for t, w in tqdm(data.resample(winsize, origin='start')):\n",
    "\n",
    "        # Check window has no NaNs and is of correct length\n",
    "        if w.isna().any().any() or len(w) != 1000:\n",
    "            continue\n",
    "\n",
    "        x = w[['x', 'y', 'z']].to_numpy()\n",
    "        y = w['activity_label'].mode(dropna=False).item()\n",
    "\n",
    "        X.append(x)\n",
    "        Y.append(y)\n",
    "\n",
    "    X = np.stack(X)\n",
    "    Y = np.stack(Y)\n",
    "\n",
    "    return X, Y"
   ]
  },
  {
   "cell_type": "code",
   "execution_count": 8,
   "id": "5c3027df",
   "metadata": {},
   "outputs": [
    {
     "name": "stderr",
     "output_type": "stream",
     "text": [
      "100%|██████████| 9721/9721 [00:02<00:00, 4426.83it/s]\n"
     ]
    }
   ],
   "source": [
    "X, Y =extract_windows(df_147)"
   ]
  },
  {
   "cell_type": "code",
   "execution_count": 9,
   "id": "995830ad",
   "metadata": {},
   "outputs": [
    {
     "name": "stdout",
     "output_type": "stream",
     "text": [
      "Original shape: (6826, 1000, 3)\n",
      "Flattened shape: (6826, 3000)\n",
      "\n",
      "Explained variance ratio:\n",
      "  PC1: 31.17%\n",
      "  PC2: 28.30%\n",
      "  Total: 59.47%\n"
     ]
    },
    {
     "data": {
      "application/vnd.plotly.v1+json": {
       "config": {
        "plotlyServerURL": "https://plot.ly"
       },
       "data": [
        {
         "hovertemplate": "Activity=sleep<br>PC1 (31.2%)=%{x}<br>PC2 (28.3%)=%{y}<extra></extra>",
         "legendgroup": "sleep",
         "marker": {
          "color": "#636efa",
          "opacity": 0.6,
          "size": 5,
          "symbol": "circle"
         },
         "mode": "markers",
         "name": "sleep",
         "showlegend": true,
         "type": "scattergl",
         "x": {
          "bdata": "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",
          "dtype": "f4"
         },
         "xaxis": "x",
         "y": {
          "bdata": "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",
          "dtype": "f4"
         },
         "yaxis": "y"
        },
        {
         "hovertemplate": "Activity=light<br>PC1 (31.2%)=%{x}<br>PC2 (28.3%)=%{y}<extra></extra>",
         "legendgroup": "light",
         "marker": {
          "color": "#EF553B",
          "opacity": 0.6,
          "size": 5,
          "symbol": "circle"
         },
         "mode": "markers",
         "name": "light",
         "showlegend": true,
         "type": "scattergl",
         "x": {
          "bdata": "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",
          "dtype": "f4"
         },
         "xaxis": "x",
         "y": {
          "bdata": "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",
          "dtype": "f4"
         },
         "yaxis": "y"
        },
        {
         "hovertemplate": "Activity=moderate-vigorous<br>PC1 (31.2%)=%{x}<br>PC2 (28.3%)=%{y}<extra></extra>",
         "legendgroup": "moderate-vigorous",
         "marker": {
          "color": "#00cc96",
          "opacity": 0.6,
          "size": 5,
          "symbol": "circle"
         },
         "mode": "markers",
         "name": "moderate-vigorous",
         "showlegend": true,
         "type": "scattergl",
         "x": {
          "bdata": "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",
          "dtype": "f4"
         },
         "xaxis": "x",
         "y": {
          "bdata": "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",
          "dtype": "f4"
         },
         "yaxis": "y"
        },
        {
         "hovertemplate": "Activity=sedentary<br>PC1 (31.2%)=%{x}<br>PC2 (28.3%)=%{y}<extra></extra>",
         "legendgroup": "sedentary",
         "marker": {
          "color": "#ab63fa",
          "opacity": 0.6,
          "size": 5,
          "symbol": "circle"
         },
         "mode": "markers",
         "name": "sedentary",
         "showlegend": true,
         "type": "scattergl",
         "x": {
          "bdata": "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",
          "dtype": "f4"
         },
         "xaxis": "x",
         "y": {
          "bdata": "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",
          "dtype": "f4"
         },
         "yaxis": "y"
        }
       ],
       "layout": {
        "height": 600,
        "legend": {
         "title": {
          "text": "Activity"
         },
         "tracegroupgap": 0
        },
        "template": {
         "data": {
          "bar": [
           {
            "error_x": {
             "color": "#2a3f5f"
            },
            "error_y": {
             "color": "#2a3f5f"
            },
            "marker": {
             "line": {
              "color": "#E5ECF6",
              "width": 0.5
             },
             "pattern": {
              "fillmode": "overlay",
              "size": 10,
              "solidity": 0.2
             }
            },
            "type": "bar"
           }
          ],
          "barpolar": [
           {
            "marker": {
             "line": {
              "color": "#E5ECF6",
              "width": 0.5
             },
             "pattern": {
              "fillmode": "overlay",
              "size": 10,
              "solidity": 0.2
             }
            },
            "type": "barpolar"
           }
          ],
          "carpet": [
           {
            "aaxis": {
             "endlinecolor": "#2a3f5f",
             "gridcolor": "white",
             "linecolor": "white",
             "minorgridcolor": "white",
             "startlinecolor": "#2a3f5f"
            },
            "baxis": {
             "endlinecolor": "#2a3f5f",
             "gridcolor": "white",
             "linecolor": "white",
             "minorgridcolor": "white",
             "startlinecolor": "#2a3f5f"
            },
            "type": "carpet"
           }
          ],
          "choropleth": [
           {
            "colorbar": {
             "outlinewidth": 0,
             "ticks": ""
            },
            "type": "choropleth"
           }
          ],
          "contour": [
           {
            "colorbar": {
             "outlinewidth": 0,
             "ticks": ""
            },
            "colorscale": [
             [
              0,
              "#0d0887"
             ],
             [
              0.1111111111111111,
              "#46039f"
             ],
             [
              0.2222222222222222,
              "#7201a8"
             ],
             [
              0.3333333333333333,
              "#9c179e"
             ],
             [
              0.4444444444444444,
              "#bd3786"
             ],
             [
              0.5555555555555556,
              "#d8576b"
             ],
             [
              0.6666666666666666,
              "#ed7953"
             ],
             [
              0.7777777777777778,
              "#fb9f3a"
             ],
             [
              0.8888888888888888,
              "#fdca26"
             ],
             [
              1,
              "#f0f921"
             ]
            ],
            "type": "contour"
           }
          ],
          "contourcarpet": [
           {
            "colorbar": {
             "outlinewidth": 0,
             "ticks": ""
            },
            "type": "contourcarpet"
           }
          ],
          "heatmap": [
           {
            "colorbar": {
             "outlinewidth": 0,
             "ticks": ""
            },
            "colorscale": [
             [
              0,
              "#0d0887"
             ],
             [
              0.1111111111111111,
              "#46039f"
             ],
             [
              0.2222222222222222,
              "#7201a8"
             ],
             [
              0.3333333333333333,
              "#9c179e"
             ],
             [
              0.4444444444444444,
              "#bd3786"
             ],
             [
              0.5555555555555556,
              "#d8576b"
             ],
             [
              0.6666666666666666,
              "#ed7953"
             ],
             [
              0.7777777777777778,
              "#fb9f3a"
             ],
             [
              0.8888888888888888,
              "#fdca26"
             ],
             [
              1,
              "#f0f921"
             ]
            ],
            "type": "heatmap"
           }
          ],
          "histogram": [
           {
            "marker": {
             "pattern": {
              "fillmode": "overlay",
              "size": 10,
              "solidity": 0.2
             }
            },
            "type": "histogram"
           }
          ],
          "histogram2d": [
           {
            "colorbar": {
             "outlinewidth": 0,
             "ticks": ""
            },
            "colorscale": [
             [
              0,
              "#0d0887"
             ],
             [
              0.1111111111111111,
              "#46039f"
             ],
             [
              0.2222222222222222,
              "#7201a8"
             ],
             [
              0.3333333333333333,
              "#9c179e"
             ],
             [
              0.4444444444444444,
              "#bd3786"
             ],
             [
              0.5555555555555556,
              "#d8576b"
             ],
             [
              0.6666666666666666,
              "#ed7953"
             ],
             [
              0.7777777777777778,
              "#fb9f3a"
             ],
             [
              0.8888888888888888,
              "#fdca26"
             ],
             [
              1,
              "#f0f921"
             ]
            ],
            "type": "histogram2d"
           }
          ],
          "histogram2dcontour": [
           {
            "colorbar": {
             "outlinewidth": 0,
             "ticks": ""
            },
            "colorscale": [
             [
              0,
              "#0d0887"
             ],
             [
              0.1111111111111111,
              "#46039f"
             ],
             [
              0.2222222222222222,
              "#7201a8"
             ],
             [
              0.3333333333333333,
              "#9c179e"
             ],
             [
              0.4444444444444444,
              "#bd3786"
             ],
             [
              0.5555555555555556,
              "#d8576b"
             ],
             [
              0.6666666666666666,
              "#ed7953"
             ],
             [
              0.7777777777777778,
              "#fb9f3a"
             ],
             [
              0.8888888888888888,
              "#fdca26"
             ],
             [
              1,
              "#f0f921"
             ]
            ],
            "type": "histogram2dcontour"
           }
          ],
          "mesh3d": [
           {
            "colorbar": {
             "outlinewidth": 0,
             "ticks": ""
            },
            "type": "mesh3d"
           }
          ],
          "parcoords": [
           {
            "line": {
             "colorbar": {
              "outlinewidth": 0,
              "ticks": ""
             }
            },
            "type": "parcoords"
           }
          ],
          "pie": [
           {
            "automargin": true,
            "type": "pie"
           }
          ],
          "scatter": [
           {
            "fillpattern": {
             "fillmode": "overlay",
             "size": 10,
             "solidity": 0.2
            },
            "type": "scatter"
           }
          ],
          "scatter3d": [
           {
            "line": {
             "colorbar": {
              "outlinewidth": 0,
              "ticks": ""
             }
            },
            "marker": {
             "colorbar": {
              "outlinewidth": 0,
              "ticks": ""
             }
            },
            "type": "scatter3d"
           }
          ],
          "scattercarpet": [
           {
            "marker": {
             "colorbar": {
              "outlinewidth": 0,
              "ticks": ""
             }
            },
            "type": "scattercarpet"
           }
          ],
          "scattergeo": [
           {
            "marker": {
             "colorbar": {
              "outlinewidth": 0,
              "ticks": ""
             }
            },
            "type": "scattergeo"
           }
          ],
          "scattergl": [
           {
            "marker": {
             "colorbar": {
              "outlinewidth": 0,
              "ticks": ""
             }
            },
            "type": "scattergl"
           }
          ],
          "scattermap": [
           {
            "marker": {
             "colorbar": {
              "outlinewidth": 0,
              "ticks": ""
             }
            },
            "type": "scattermap"
           }
          ],
          "scattermapbox": [
           {
            "marker": {
             "colorbar": {
              "outlinewidth": 0,
              "ticks": ""
             }
            },
            "type": "scattermapbox"
           }
          ],
          "scatterpolar": [
           {
            "marker": {
             "colorbar": {
              "outlinewidth": 0,
              "ticks": ""
             }
            },
            "type": "scatterpolar"
           }
          ],
          "scatterpolargl": [
           {
            "marker": {
             "colorbar": {
              "outlinewidth": 0,
              "ticks": ""
             }
            },
            "type": "scatterpolargl"
           }
          ],
          "scatterternary": [
           {
            "marker": {
             "colorbar": {
              "outlinewidth": 0,
              "ticks": ""
             }
            },
            "type": "scatterternary"
           }
          ],
          "surface": [
           {
            "colorbar": {
             "outlinewidth": 0,
             "ticks": ""
            },
            "colorscale": [
             [
              0,
              "#0d0887"
             ],
             [
              0.1111111111111111,
              "#46039f"
             ],
             [
              0.2222222222222222,
              "#7201a8"
             ],
             [
              0.3333333333333333,
              "#9c179e"
             ],
             [
              0.4444444444444444,
              "#bd3786"
             ],
             [
              0.5555555555555556,
              "#d8576b"
             ],
             [
              0.6666666666666666,
              "#ed7953"
             ],
             [
              0.7777777777777778,
              "#fb9f3a"
             ],
             [
              0.8888888888888888,
              "#fdca26"
             ],
             [
              1,
              "#f0f921"
             ]
            ],
            "type": "surface"
           }
          ],
          "table": [
           {
            "cells": {
             "fill": {
              "color": "#EBF0F8"
             },
             "line": {
              "color": "white"
             }
            },
            "header": {
             "fill": {
              "color": "#C8D4E3"
             },
             "line": {
              "color": "white"
             }
            },
            "type": "table"
           }
          ]
         },
         "layout": {
          "annotationdefaults": {
           "arrowcolor": "#2a3f5f",
           "arrowhead": 0,
           "arrowwidth": 1
          },
          "autotypenumbers": "strict",
          "coloraxis": {
           "colorbar": {
            "outlinewidth": 0,
            "ticks": ""
           }
          },
          "colorscale": {
           "diverging": [
            [
             0,
             "#8e0152"
            ],
            [
             0.1,
             "#c51b7d"
            ],
            [
             0.2,
             "#de77ae"
            ],
            [
             0.3,
             "#f1b6da"
            ],
            [
             0.4,
             "#fde0ef"
            ],
            [
             0.5,
             "#f7f7f7"
            ],
            [
             0.6,
             "#e6f5d0"
            ],
            [
             0.7,
             "#b8e186"
            ],
            [
             0.8,
             "#7fbc41"
            ],
            [
             0.9,
             "#4d9221"
            ],
            [
             1,
             "#276419"
            ]
           ],
           "sequential": [
            [
             0,
             "#0d0887"
            ],
            [
             0.1111111111111111,
             "#46039f"
            ],
            [
             0.2222222222222222,
             "#7201a8"
            ],
            [
             0.3333333333333333,
             "#9c179e"
            ],
            [
             0.4444444444444444,
             "#bd3786"
            ],
            [
             0.5555555555555556,
             "#d8576b"
            ],
            [
             0.6666666666666666,
             "#ed7953"
            ],
            [
             0.7777777777777778,
             "#fb9f3a"
            ],
            [
             0.8888888888888888,
             "#fdca26"
            ],
            [
             1,
             "#f0f921"
            ]
           ],
           "sequentialminus": [
            [
             0,
             "#0d0887"
            ],
            [
             0.1111111111111111,
             "#46039f"
            ],
            [
             0.2222222222222222,
             "#7201a8"
            ],
            [
             0.3333333333333333,
             "#9c179e"
            ],
            [
             0.4444444444444444,
             "#bd3786"
            ],
            [
             0.5555555555555556,
             "#d8576b"
            ],
            [
             0.6666666666666666,
             "#ed7953"
            ],
            [
             0.7777777777777778,
             "#fb9f3a"
            ],
            [
             0.8888888888888888,
             "#fdca26"
            ],
            [
             1,
             "#f0f921"
            ]
           ]
          },
          "colorway": [
           "#636efa",
           "#EF553B",
           "#00cc96",
           "#ab63fa",
           "#FFA15A",
           "#19d3f3",
           "#FF6692",
           "#B6E880",
           "#FF97FF",
           "#FECB52"
          ],
          "font": {
           "color": "#2a3f5f"
          },
          "geo": {
           "bgcolor": "white",
           "lakecolor": "white",
           "landcolor": "#E5ECF6",
           "showlakes": true,
           "showland": true,
           "subunitcolor": "white"
          },
          "hoverlabel": {
           "align": "left"
          },
          "hovermode": "closest",
          "mapbox": {
           "style": "light"
          },
          "paper_bgcolor": "white",
          "plot_bgcolor": "#E5ECF6",
          "polar": {
           "angularaxis": {
            "gridcolor": "white",
            "linecolor": "white",
            "ticks": ""
           },
           "bgcolor": "#E5ECF6",
           "radialaxis": {
            "gridcolor": "white",
            "linecolor": "white",
            "ticks": ""
           }
          },
          "scene": {
           "xaxis": {
            "backgroundcolor": "#E5ECF6",
            "gridcolor": "white",
            "gridwidth": 2,
            "linecolor": "white",
            "showbackground": true,
            "ticks": "",
            "zerolinecolor": "white"
           },
           "yaxis": {
            "backgroundcolor": "#E5ECF6",
            "gridcolor": "white",
            "gridwidth": 2,
            "linecolor": "white",
            "showbackground": true,
            "ticks": "",
            "zerolinecolor": "white"
           },
           "zaxis": {
            "backgroundcolor": "#E5ECF6",
            "gridcolor": "white",
            "gridwidth": 2,
            "linecolor": "white",
            "showbackground": true,
            "ticks": "",
            "zerolinecolor": "white"
           }
          },
          "shapedefaults": {
           "line": {
            "color": "#2a3f5f"
           }
          },
          "ternary": {
           "aaxis": {
            "gridcolor": "white",
            "linecolor": "white",
            "ticks": ""
           },
           "baxis": {
            "gridcolor": "white",
            "linecolor": "white",
            "ticks": ""
           },
           "bgcolor": "#E5ECF6",
           "caxis": {
            "gridcolor": "white",
            "linecolor": "white",
            "ticks": ""
           }
          },
          "title": {
           "x": 0.05
          },
          "xaxis": {
           "automargin": true,
           "gridcolor": "white",
           "linecolor": "white",
           "ticks": "",
           "title": {
            "standoff": 15
           },
           "zerolinecolor": "white",
           "zerolinewidth": 2
          },
          "yaxis": {
           "automargin": true,
           "gridcolor": "white",
           "linecolor": "white",
           "ticks": "",
           "title": {
            "standoff": 15
           },
           "zerolinecolor": "white",
           "zerolinewidth": 2
          }
         }
        },
        "title": {
         "text": "PCA: Activity Clustering <br>Explained Variance: PC1=31.2%, PC2=28.3%"
        },
        "xaxis": {
         "anchor": "y",
         "domain": [
          0,
          1
         ],
         "title": {
          "text": "PC1 (31.2%)"
         }
        },
        "yaxis": {
         "anchor": "x",
         "domain": [
          0,
          1
         ],
         "title": {
          "text": "PC2 (28.3%)"
         }
        }
       }
      }
     },
     "metadata": {},
     "output_type": "display_data"
    }
   ],
   "source": [
    "from sklearn.decomposition import PCA\n",
    "from sklearn.preprocessing import StandardScaler\n",
    "\n",
    "\n",
    "def apply_pca_visualization(X, Y, n_components=2):\n",
    "    \"\"\"\n",
    "    Apply PCA to visualize activity clusters in 2D\n",
    "    \n",
    "    Parameters:\n",
    "    -----------\n",
    "    X : np.array\n",
    "        Shape (n_windows, 1000, 3) - windowed acceleration data\n",
    "    Y : np.array\n",
    "        Shape (n_windows,) - activity labels\n",
    "    \n",
    "    Returns:\n",
    "    --------\n",
    "    plotly figure\n",
    "    \"\"\"\n",
    "    # Flatten each window into a feature vector\n",
    "    # From (n_windows, 1000, 3) to (n_windows, 3000)\n",
    "    X_flattened = X.reshape(X.shape[0], -1)\n",
    "    \n",
    "    print(f\"Original shape: {X.shape}\")\n",
    "    print(f\"Flattened shape: {X_flattened.shape}\")\n",
    "    \n",
    "    # Standardize features (PCA needs normalization)\n",
    "    scaler = StandardScaler()\n",
    "    X_scaled = scaler.fit_transform(X_flattened)\n",
    "    \n",
    "    # Apply PCA\n",
    "    pca = PCA(n_components=n_components)\n",
    "    X_pca = pca.fit_transform(X_scaled)\n",
    "    \n",
    "    # Create dataframe for plotting\n",
    "    df_pca = pd.DataFrame({\n",
    "        'PC1': X_pca[:, 0],\n",
    "        'PC2': X_pca[:, 1],\n",
    "        'Activity': Y\n",
    "    })\n",
    "    \n",
    "    # Print explained variance\n",
    "    explained_var = pca.explained_variance_ratio_\n",
    "    print(f\"\\nExplained variance ratio:\")\n",
    "    for i, var in enumerate(explained_var):\n",
    "        print(f\"  PC{i+1}: {var*100:.2f}%\")\n",
    "    print(f\"  Total: {sum(explained_var)*100:.2f}%\")\n",
    "    \n",
    "    # Create visualization\n",
    "    fig = px.scatter(\n",
    "        df_pca,\n",
    "        x='PC1',\n",
    "        y='PC2',\n",
    "        color='Activity',\n",
    "        title=f'PCA: Activity Clustering <br>Explained Variance: PC1={explained_var[0]*100:.1f}%, PC2={explained_var[1]*100:.1f}%',\n",
    "        labels={'PC1': f'PC1 ({explained_var[0]*100:.1f}%)', \n",
    "                'PC2': f'PC2 ({explained_var[1]*100:.1f}%)'},\n",
    "        opacity=0.6,\n",
    "        height=600\n",
    "    )\n",
    "    \n",
    "    fig.update_traces(marker=dict(size=5))\n",
    "    \n",
    "    return fig, pca, df_pca\n",
    "\n",
    "# Apply 2D PCA\n",
    "fig_2d, pca_model, df_pca = apply_pca_visualization(X, Y, n_components=2)\n",
    "fig_2d.show()"
   ]
  },
  {
   "cell_type": "markdown",
   "id": "bc3f643a",
   "metadata": {},
   "source": [
    "#### the seperation is much more evident with by hiding way the heirarchy.|"
   ]
  },
  {
   "cell_type": "code",
   "execution_count": 10,
   "id": "727bf33c",
   "metadata": {},
   "outputs": [
    {
     "data": {
      "image/png": "[encoded data removed]",
      "text/plain": [
       "<Figure size 1200x600 with 1 Axes>"
      ]
     },
     "metadata": {},
     "output_type": "display_data"
    }
   ],
   "source": [
    "import matplotlib.pyplot as plt\n",
    "import numpy as np\n",
    "\n",
    "# Data from your results\n",
    "activities = ['Sleep', 'Bicycling', 'Sitting', 'Vehicle', 'Walking', \n",
    "              'Household-chores', 'Sports', 'Mixed-activity', 'Manual-work']\n",
    "accuracies = [95, 84, 78, 64, 51, 48, 38, 30, 25]  # Manual-work estimated\n",
    "\n",
    "# Color coding based on performance tiers\n",
    "colors = []\n",
    "for acc in accuracies:\n",
    "    if acc >= 75:\n",
    "        colors.append('#27ae60')  # High performing - Green\n",
    "    elif acc >= 45:\n",
    "        colors.append('#f39c12')  # Moderate performing - Orange  \n",
    "    else:\n",
    "        colors.append('#e74c3c')  # Challenging - Red\n",
    "\n",
    "# Create the plot\n",
    "plt.figure(figsize=(12, 6))\n",
    "bars = plt.bar(activities, accuracies, color=colors, alpha=0.8, edgecolor='black', linewidth=0.8)\n",
    "\n",
    "# Add value labels on top of bars\n",
    "for bar, acc in zip(bars, accuracies):\n",
    "    plt.text(bar.get_x() + bar.get_width()/2, bar.get_height() + 1, \n",
    "             f'{acc}%', ha='center', va='bottom', fontweight='bold', fontsize=10)\n",
    "\n",
    "# Customize the plot\n",
    "plt.title('1D CNN Class-wise Performance Analysis', fontsize=16, fontweight='bold', pad=20)\n",
    "plt.xlabel('Activity Classes', fontsize=12, fontweight='bold')\n",
    "plt.ylabel('Classification Accuracy (%)', fontsize=12, fontweight='bold')\n",
    "plt.ylim(0, 100)\n",
    "\n",
    "# Rotate x-axis labels for better readability\n",
    "plt.xticks(rotation=45, ha='right')\n",
    "\n",
    "# Add horizontal line at overall accuracy\n",
    "plt.axhline(y=74.55, color='blue', linestyle='--', alpha=0.7, linewidth=2, \n",
    "            label='Overall Validation Accuracy (74.55%)')\n",
    "\n",
    "# Add legend for performance tiers\n",
    "from matplotlib.patches import Patch\n",
    "legend_elements = [\n",
    "    Patch(facecolor='#27ae60', label='High Performance (≥75%)'),\n",
    "    Patch(facecolor='#f39c12', label='Moderate Performance (45-74%)'),\n",
    "    Patch(facecolor='#e74c3c', label='Challenging (<45%)'),\n",
    "    plt.Line2D([0], [0], color='blue', linestyle='--', label='Overall Accuracy')\n",
    "]\n",
    "plt.legend(handles=legend_elements, loc='upper right')\n",
    "\n",
    "# Add F1 scores as text box\n",
    "textstr = f'F1-Macro: 0.529\\nF1-Weighted: 0.722'\n",
    "props = dict(boxstyle='round', facecolor='lightgray', alpha=0.8)\n",
    "plt.text(0.02, 0.98, textstr, transform=plt.gca().transAxes, fontsize=10,\n",
    "         verticalalignment='top', bbox=props)\n",
    "\n",
    "plt.grid(axis='y', alpha=0.3, linestyle='-', linewidth=0.5)\n",
    "plt.tight_layout()\n",
    "plt.show()"
   ]
  },
  {
   "cell_type": "code",
   "execution_count": 12,
   "id": "0fbda463",
   "metadata": {},
   "outputs": [
    {
     "data": {
      "image/png": "[encoded data removed]",
      "text/plain": [
       "<Figure size 1200x600 with 1 Axes>"
      ]
     },
     "metadata": {},
     "output_type": "display_data"
    }
   ],
   "source": [
    "import matplotlib.pyplot as plt\n",
    "import numpy as np\n",
    "\n",
    "# Data from your XGBoost results\n",
    "activities = ['Sleep', 'Sitting', 'Bicycling', 'Household-chores', 'Sports', \n",
    "              'Vehicle', 'Walking', 'Mixed-activity', 'Manual-work']\n",
    "accuracies = [89.4, 81.0, 71.7, 56.0, 40.6, 38.7, 37.2, 21.0, 2.4]\n",
    "\n",
    "# Color coding based on performance tiers\n",
    "colors = []\n",
    "for acc in accuracies:\n",
    "    if acc >= 70:\n",
    "        colors.append('#27ae60')  # Strong performers - Green\n",
    "    elif acc >= 35:\n",
    "        colors.append('#f39c12')  # Moderate performers - Orange  \n",
    "    else:\n",
    "        colors.append('#e74c3c')  # Poor performers - Red\n",
    "\n",
    "# Create the plot\n",
    "plt.figure(figsize=(12, 6))\n",
    "bars = plt.bar(activities, accuracies, color=colors, alpha=0.8, edgecolor='black', linewidth=0.8)\n",
    "\n",
    "# Add value labels on top of bars\n",
    "for bar, acc in zip(bars, accuracies):\n",
    "    plt.text(bar.get_x() + bar.get_width()/2, bar.get_height() + 1, \n",
    "             f'{acc}%', ha='center', va='bottom', fontweight='bold', fontsize=10)\n",
    "\n",
    "# Customize the plot\n",
    "plt.title('XGBoost Class-wise Performance Analysis', fontsize=16, fontweight='bold', pad=20)\n",
    "plt.xlabel('Activity Classes', fontsize=12, fontweight='bold')\n",
    "plt.ylabel('Classification Accuracy (%)', fontsize=12, fontweight='bold')\n",
    "plt.ylim(0, 100)\n",
    "\n",
    "# Rotate x-axis labels for better readability\n",
    "plt.xticks(rotation=45, ha='right')\n",
    "\n",
    "# Add horizontal line at overall accuracy (71% from your paper)\n",
    "plt.axhline(y=71, color='blue', linestyle='--', alpha=0.7, linewidth=2, \n",
    "            label='Overall Test Accuracy (71%)')\n",
    "\n",
    "# Add legend for performance tiers\n",
    "from matplotlib.patches import Patch\n",
    "legend_elements = [\n",
    "    Patch(facecolor='#27ae60', label='Strong Performers (≥70%)'),\n",
    "    Patch(facecolor='#f39c12', label='Moderate Performers (35-69%)'),\n",
    "    Patch(facecolor='#e74c3c', label='Poor Performers (<35%)'),\n",
    "    plt.Line2D([0], [0], color='blue', linestyle='--', label='Overall Accuracy')\n",
    "]\n",
    "plt.legend(handles=legend_elements, loc='upper right')\n",
    "\n",
    "# Add note about feature-based approach\n",
    "textstr = 'Hand-crafted Features\\nParticipant-based Split\\n(P001-P101 train, P102-P151 test)'\n",
    "props = dict(boxstyle='round', facecolor='lightgray', alpha=0.8)\n",
    "plt.text(0.02, 0.98, textstr, transform=plt.gca().transAxes, fontsize=10,\n",
    "         verticalalignment='top', bbox=props)\n",
    "\n",
    "plt.grid(axis='y', alpha=0.3, linestyle='-', linewidth=0.5)\n",
    "plt.tight_layout()\n",
    "plt.show()"
   ]
  },
  {
   "cell_type": "code",
   "execution_count": null,
   "id": "afdd8b1d",
   "metadata": {},
   "outputs": [],
   "source": []
  }
 ],
 "metadata": {
  "kernelspec": {
   "display_name": "har",
   "language": "python",
   "name": "python3"
  },
  "language_info": {
   "codemirror_mode": {
    "name": "ipython",
    "version": 3
   },
   "file_extension": ".py",
   "mimetype": "text/x-python",
   "name": "python",
   "nbconvert_exporter": "python",
   "pygments_lexer": "ipython3",
   "version": "3.13.7"
  }
 },
 "nbformat": 4,
 "nbformat_minor": 5
}
