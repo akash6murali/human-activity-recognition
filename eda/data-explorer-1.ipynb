{
 "cells": [
  {
   "cell_type": "markdown",
   "id": "67ec059d",
   "metadata": {},
   "source": [
    "# P-147 EDA"
   ]
  },
  {
   "cell_type": "code",
   "execution_count": 39,
   "id": "412e0f55",
   "metadata": {},
   "outputs": [],
   "source": [
    "import pandas as pd\n",
    "\n",
    "# load as a df\n",
    "df_147 = pd.read_csv(\"P147.csv\", index_col=\"time\", parse_dates=[\"time\"], dtype={'x': 'f4', 'y': 'f4', 'z': 'f4', 'annotation': 'string'})"
   ]
  },
  {
   "cell_type": "code",
   "execution_count": 41,
   "id": "0bf37031",
   "metadata": {},
   "outputs": [
    {
     "name": "stdout",
     "output_type": "stream",
     "text": [
      "<class 'pandas.core.frame.DataFrame'>\n",
      "Index: 206 entries, 7030 sleeping;MET 0.95 to vehicle;MET 1.3\n",
      "Data columns (total 6 columns):\n",
      " #   Column                      Non-Null Count  Dtype \n",
      "---  ------                      --------------  ----- \n",
      " 0   label:WillettsSpecific2018  206 non-null    string\n",
      " 1   label:WillettsMET2018       206 non-null    string\n",
      " 2   label:DohertySpecific2018   206 non-null    string\n",
      " 3   label:Willetts2018          206 non-null    string\n",
      " 4   label:Doherty2018           206 non-null    string\n",
      " 5   label:Walmsley2020          206 non-null    string\n",
      "dtypes: string(6)\n",
      "memory usage: 11.3+ KB\n"
     ]
    }
   ],
   "source": [
    "# load annotation-label-dictionary.csv as df to remap the annotation to proper labels\n",
    "annotation_df = pd.read_csv(\"annotation-label-dictionary.csv\", index_col = \"annotation\", dtype = \"string\")\n",
    "annotation_df.info()"
   ]
  },
  {
   "cell_type": "code",
   "execution_count": null,
   "id": "8e1d5020",
   "metadata": {},
   "outputs": [],
   "source": [
    "import plotly.express as px\n",
    "import plotly.graph_objects as go\n",
    "from plotly.subplots import make_subplots"
   ]
  },
  {
   "cell_type": "markdown",
   "id": "109031f1",
   "metadata": {},
   "source": [
    "## to map the activity annotations from CPA code to willetts_label"
   ]
  },
  {
   "cell_type": "code",
   "execution_count": 42,
   "id": "1137f403",
   "metadata": {},
   "outputs": [
    {
     "name": "stdout",
     "output_type": "stream",
     "text": [
      "Unmapped rows: 2788381\n"
     ]
    }
   ],
   "source": [
    "# Direct mapping\n",
    "df_147['activity_label'] = df_147['annotation'].map(annotation_df['label:WillettsSpecific2018'])\n",
    "\n",
    "# Check for unmapped\n",
    "print(f\"Unmapped rows: {df_147['activity_label'].isna().sum()}\")"
   ]
  },
  {
   "cell_type": "code",
   "execution_count": 45,
   "id": "ad9f0862",
   "metadata": {},
   "outputs": [
    {
     "data": {
      "text/plain": [
       "8"
      ]
     },
     "execution_count": 45,
     "metadata": {},
     "output_type": "execute_result"
    }
   ],
   "source": [
    "df_147['activity_label'].nunique()"
   ]
  },
  {
   "cell_type": "markdown",
   "id": "8c24d5c8",
   "metadata": {},
   "source": [
    "## handling missing data"
   ]
  },
  {
   "cell_type": "code",
   "execution_count": 46,
   "id": "94a0f73d",
   "metadata": {},
   "outputs": [
    {
     "name": "stdout",
     "output_type": "stream",
     "text": [
      "x                  0.000000\n",
      "y                  0.000000\n",
      "z                  0.000000\n",
      "annotation        28.687044\n",
      "activity_label    28.687044\n",
      "dtype: float64\n"
     ]
    }
   ],
   "source": [
    "# let us check the percentage of null counts associated with each column in the data\n",
    "null_counts = (df_147.isnull().sum()/len(df_147))*100\n",
    "print(null_counts) # these missing labels needs to be taken care of seperately, for now  we will not do anything special with it."
   ]
  },
  {
   "cell_type": "markdown",
   "id": "38a83a4c",
   "metadata": {},
   "source": [
    "## windowing approach to chunk the data. we are choosing win_size = 10sec. So @100hz it is 1000 ticks."
   ]
  },
  {
   "cell_type": "code",
   "execution_count": 49,
   "id": "cb0cc0e5",
   "metadata": {},
   "outputs": [],
   "source": [
    "from tqdm import tqdm\n",
    "import numpy as np\n",
    "\n",
    "def extract_windows(data, winsize='10s'):\n",
    "    X, Y = [], []\n",
    "    for t, w in tqdm(data.resample(winsize, origin='start')):\n",
    "\n",
    "        # Check window has no NaNs and is of correct length\n",
    "        if w.isna().any().any() or len(w) != 1000:\n",
    "            continue\n",
    "\n",
    "        x = w[['x', 'y', 'z']].to_numpy()\n",
    "        y = w['activity_label'].mode(dropna=False).item()\n",
    "\n",
    "        X.append(x)\n",
    "        Y.append(y)\n",
    "\n",
    "    X = np.stack(X)\n",
    "    Y = np.stack(Y)\n",
    "\n",
    "    return X, Y"
   ]
  },
  {
   "cell_type": "code",
   "execution_count": 50,
   "id": "512c78f0",
   "metadata": {},
   "outputs": [
    {
     "name": "stderr",
     "output_type": "stream",
     "text": [
      "100%|██████████| 9721/9721 [00:02<00:00, 4264.23it/s]\n"
     ]
    }
   ],
   "source": [
    "X, Y =extract_windows(df_147)"
   ]
  },
  {
   "cell_type": "code",
   "execution_count": 55,
   "id": "4005b058",
   "metadata": {},
   "outputs": [
    {
     "data": {
      "text/plain": [
       "(6826, 1000, 3)"
      ]
     },
     "execution_count": 55,
     "metadata": {},
     "output_type": "execute_result"
    }
   ],
   "source": [
    "X.shape"
   ]
  },
  {
   "cell_type": "code",
   "execution_count": 66,
   "id": "140fac4a",
   "metadata": {},
   "outputs": [
    {
     "name": "stdout",
     "output_type": "stream",
     "text": [
      "[[[-0.3381657  -0.05728219 -0.9303979 ]\n",
      "  [-0.3381657  -0.05728219 -0.9303979 ]\n",
      "  [-0.3381657  -0.07305303 -0.9303979 ]\n",
      "  ...\n",
      "  [-0.3381657  -0.07305303 -0.9303979 ]\n",
      "  [-0.3381657  -0.07305303 -0.9303979 ]\n",
      "  [-0.3381657  -0.07305303 -0.9303979 ]]\n",
      "\n",
      " [[-0.3381657  -0.07305303 -0.94610983]\n",
      "  [-0.3381657  -0.07305303 -0.9303979 ]\n",
      "  [-0.3381657  -0.07305303 -0.9303979 ]\n",
      "  ...\n",
      "  [-0.64837205 -0.59349126 -0.2547866 ]\n",
      "  [-0.8810268  -0.5461787  -0.19193906]\n",
      "  [-1.03613    -0.38847014 -0.20765096]]\n",
      "\n",
      " [[-1.1912332  -0.404241    0.01231551]\n",
      "  [-1.2532744  -0.4357827   0.373689  ]\n",
      "  [-0.4312276  -0.7985124   0.10658685]\n",
      "  ...\n",
      "  [-0.91204745 -0.6092621   0.18514633]\n",
      "  [-0.91204745 -0.6408038   0.24799389]\n",
      "  [-0.83449584 -0.6092621   0.32655334]]\n",
      "\n",
      " ...\n",
      "\n",
      " [[ 0.67015004  0.02166779 -0.7236136 ]\n",
      "  [ 0.67015004  0.03743864 -0.7236136 ]\n",
      "  [ 0.67015004  0.03743864 -0.7236136 ]\n",
      "  ...\n",
      "  [ 0.68566036  0.03743864 -0.7236136 ]\n",
      "  [ 0.68566036  0.03743864 -0.7236136 ]\n",
      "  [ 0.68566036  0.03743864 -0.7236136 ]]\n",
      "\n",
      " [[ 0.67015004  0.03743864 -0.7236136 ]\n",
      "  [ 0.68566036  0.03743864 -0.7236136 ]\n",
      "  [ 0.68566036  0.03743864 -0.7236136 ]\n",
      "  ...\n",
      "  [ 0.68566036  0.03743864 -0.7236136 ]\n",
      "  [ 0.68566036  0.03743864 -0.7236136 ]\n",
      "  [ 0.68566036  0.03743864 -0.7236136 ]]\n",
      "\n",
      " [[ 0.68566036  0.03743864 -0.7236136 ]\n",
      "  [ 0.68566036  0.03743864 -0.7236136 ]\n",
      "  [ 0.68566036  0.03743864 -0.7236136 ]\n",
      "  ...\n",
      "  [ 0.67015004  0.03743864 -0.7236136 ]\n",
      "  [ 0.67015004  0.03743864 -0.7236136 ]\n",
      "  [ 0.68566036  0.03743864 -0.7236136 ]]]\n"
     ]
    }
   ],
   "source": [
    "print(X)"
   ]
  },
  {
   "cell_type": "markdown",
   "id": "13ea1845",
   "metadata": {},
   "source": [
    "## activity distribution"
   ]
  },
  {
   "cell_type": "code",
   "execution_count": 52,
   "id": "a8920f63",
   "metadata": {},
   "outputs": [
    {
     "name": "stdout",
     "output_type": "stream",
     "text": [
      "Activity Label Distribution:\n",
      "activity_label\n",
      "sleep               0.424144\n",
      "mixed-activity      0.126134\n",
      "sitting             0.111694\n",
      "household-chores     0.10894\n",
      "walking              0.10291\n",
      "bicycling           0.058025\n",
      "manual-work         0.043194\n",
      "standing             0.02496\n",
      "Name: proportion, dtype: Float64\n"
     ]
    }
   ],
   "source": [
    "print(\"Activity Label Distribution:\")\n",
    "print(df_147['activity_label'].value_counts(normalize=True))"
   ]
  },
  {
   "cell_type": "code",
   "execution_count": 57,
   "id": "8b0f7e0b",
   "metadata": {},
   "outputs": [
    {
     "data": {
      "application/vnd.plotly.v1+json": {
       "config": {
        "plotlyServerURL": "https://plot.ly"
       },
       "data": [
        {
         "hovertemplate": "Activity=%{x}<br>Duration (hours)=%{y}<br>text=%{text}<extra></extra>",
         "legendgroup": "",
         "marker": {
          "color": "#636efa",
          "pattern": {
           "shape": ""
          }
         },
         "name": "",
         "orientation": "v",
         "showlegend": false,
         "text": {
          "bdata": "AAAAAABAPkB7FK5H4fohQOF6FK5H4R9AFK5H4XoUH0Bcj8L1KFwdQI/C9ShcjxBApHA9CtejCEB7FK5H4Xr8Pw==",
          "dtype": "f8"
         },
         "textposition": "outside",
         "texttemplate": "%{text}%",
         "type": "bar",
         "x": [
          "sleep",
          "mixed-activity",
          "sitting",
          "household-chores",
          "walking",
          "bicycling",
          "manual-work",
          "standing"
         ],
         "xaxis": "x",
         "y": {
          "bdata": "16NwPQpXIEBxPQrXo3ADQDMzMzMzMwFAzczMzMzMAECuR+F6FK7/P+xRuB6F6/E/j8L1KFyP6j+4HoXrUbjePw==",
          "dtype": "f8"
         },
         "yaxis": "y"
        }
       ],
       "layout": {
        "barmode": "relative",
        "height": 500,
        "legend": {
         "tracegroupgap": 0
        },
        "showlegend": false,
        "template": {
         "data": {
          "bar": [
           {
            "error_x": {
             "color": "#2a3f5f"
            },
            "error_y": {
             "color": "#2a3f5f"
            },
            "marker": {
             "line": {
              "color": "#E5ECF6",
              "width": 0.5
             },
             "pattern": {
              "fillmode": "overlay",
              "size": 10,
              "solidity": 0.2
             }
            },
            "type": "bar"
           }
          ],
          "barpolar": [
           {
            "marker": {
             "line": {
              "color": "#E5ECF6",
              "width": 0.5
             },
             "pattern": {
              "fillmode": "overlay",
              "size": 10,
              "solidity": 0.2
             }
            },
            "type": "barpolar"
           }
          ],
          "carpet": [
           {
            "aaxis": {
             "endlinecolor": "#2a3f5f",
             "gridcolor": "white",
             "linecolor": "white",
             "minorgridcolor": "white",
             "startlinecolor": "#2a3f5f"
            },
            "baxis": {
             "endlinecolor": "#2a3f5f",
             "gridcolor": "white",
             "linecolor": "white",
             "minorgridcolor": "white",
             "startlinecolor": "#2a3f5f"
            },
            "type": "carpet"
           }
          ],
          "choropleth": [
           {
            "colorbar": {
             "outlinewidth": 0,
             "ticks": ""
            },
            "type": "choropleth"
           }
          ],
          "contour": [
           {
            "colorbar": {
             "outlinewidth": 0,
             "ticks": ""
            },
            "colorscale": [
             [
              0,
              "#0d0887"
             ],
             [
              0.1111111111111111,
              "#46039f"
             ],
             [
              0.2222222222222222,
              "#7201a8"
             ],
             [
              0.3333333333333333,
              "#9c179e"
             ],
             [
              0.4444444444444444,
              "#bd3786"
             ],
             [
              0.5555555555555556,
              "#d8576b"
             ],
             [
              0.6666666666666666,
              "#ed7953"
             ],
             [
              0.7777777777777778,
              "#fb9f3a"
             ],
             [
              0.8888888888888888,
              "#fdca26"
             ],
             [
              1,
              "#f0f921"
             ]
            ],
            "type": "contour"
           }
          ],
          "contourcarpet": [
           {
            "colorbar": {
             "outlinewidth": 0,
             "ticks": ""
            },
            "type": "contourcarpet"
           }
          ],
          "heatmap": [
           {
            "colorbar": {
             "outlinewidth": 0,
             "ticks": ""
            },
            "colorscale": [
             [
              0,
              "#0d0887"
             ],
             [
              0.1111111111111111,
              "#46039f"
             ],
             [
              0.2222222222222222,
              "#7201a8"
             ],
             [
              0.3333333333333333,
              "#9c179e"
             ],
             [
              0.4444444444444444,
              "#bd3786"
             ],
             [
              0.5555555555555556,
              "#d8576b"
             ],
             [
              0.6666666666666666,
              "#ed7953"
             ],
             [
              0.7777777777777778,
              "#fb9f3a"
             ],
             [
              0.8888888888888888,
              "#fdca26"
             ],
             [
              1,
              "#f0f921"
             ]
            ],
            "type": "heatmap"
           }
          ],
          "histogram": [
           {
            "marker": {
             "pattern": {
              "fillmode": "overlay",
              "size": 10,
              "solidity": 0.2
             }
            },
            "type": "histogram"
           }
          ],
          "histogram2d": [
           {
            "colorbar": {
             "outlinewidth": 0,
             "ticks": ""
            },
            "colorscale": [
             [
              0,
              "#0d0887"
             ],
             [
              0.1111111111111111,
              "#46039f"
             ],
             [
              0.2222222222222222,
              "#7201a8"
             ],
             [
              0.3333333333333333,
              "#9c179e"
             ],
             [
              0.4444444444444444,
              "#bd3786"
             ],
             [
              0.5555555555555556,
              "#d8576b"
             ],
             [
              0.6666666666666666,
              "#ed7953"
             ],
             [
              0.7777777777777778,
              "#fb9f3a"
             ],
             [
              0.8888888888888888,
              "#fdca26"
             ],
             [
              1,
              "#f0f921"
             ]
            ],
            "type": "histogram2d"
           }
          ],
          "histogram2dcontour": [
           {
            "colorbar": {
             "outlinewidth": 0,
             "ticks": ""
            },
            "colorscale": [
             [
              0,
              "#0d0887"
             ],
             [
              0.1111111111111111,
              "#46039f"
             ],
             [
              0.2222222222222222,
              "#7201a8"
             ],
             [
              0.3333333333333333,
              "#9c179e"
             ],
             [
              0.4444444444444444,
              "#bd3786"
             ],
             [
              0.5555555555555556,
              "#d8576b"
             ],
             [
              0.6666666666666666,
              "#ed7953"
             ],
             [
              0.7777777777777778,
              "#fb9f3a"
             ],
             [
              0.8888888888888888,
              "#fdca26"
             ],
             [
              1,
              "#f0f921"
             ]
            ],
            "type": "histogram2dcontour"
           }
          ],
          "mesh3d": [
           {
            "colorbar": {
             "outlinewidth": 0,
             "ticks": ""
            },
            "type": "mesh3d"
           }
          ],
          "parcoords": [
           {
            "line": {
             "colorbar": {
              "outlinewidth": 0,
              "ticks": ""
             }
            },
            "type": "parcoords"
           }
          ],
          "pie": [
           {
            "automargin": true,
            "type": "pie"
           }
          ],
          "scatter": [
           {
            "fillpattern": {
             "fillmode": "overlay",
             "size": 10,
             "solidity": 0.2
            },
            "type": "scatter"
           }
          ],
          "scatter3d": [
           {
            "line": {
             "colorbar": {
              "outlinewidth": 0,
              "ticks": ""
             }
            },
            "marker": {
             "colorbar": {
              "outlinewidth": 0,
              "ticks": ""
             }
            },
            "type": "scatter3d"
           }
          ],
          "scattercarpet": [
           {
            "marker": {
             "colorbar": {
              "outlinewidth": 0,
              "ticks": ""
             }
            },
            "type": "scattercarpet"
           }
          ],
          "scattergeo": [
           {
            "marker": {
             "colorbar": {
              "outlinewidth": 0,
              "ticks": ""
             }
            },
            "type": "scattergeo"
           }
          ],
          "scattergl": [
           {
            "marker": {
             "colorbar": {
              "outlinewidth": 0,
              "ticks": ""
             }
            },
            "type": "scattergl"
           }
          ],
          "scattermap": [
           {
            "marker": {
             "colorbar": {
              "outlinewidth": 0,
              "ticks": ""
             }
            },
            "type": "scattermap"
           }
          ],
          "scattermapbox": [
           {
            "marker": {
             "colorbar": {
              "outlinewidth": 0,
              "ticks": ""
             }
            },
            "type": "scattermapbox"
           }
          ],
          "scatterpolar": [
           {
            "marker": {
             "colorbar": {
              "outlinewidth": 0,
              "ticks": ""
             }
            },
            "type": "scatterpolar"
           }
          ],
          "scatterpolargl": [
           {
            "marker": {
             "colorbar": {
              "outlinewidth": 0,
              "ticks": ""
             }
            },
            "type": "scatterpolargl"
           }
          ],
          "scatterternary": [
           {
            "marker": {
             "colorbar": {
              "outlinewidth": 0,
              "ticks": ""
             }
            },
            "type": "scatterternary"
           }
          ],
          "surface": [
           {
            "colorbar": {
             "outlinewidth": 0,
             "ticks": ""
            },
            "colorscale": [
             [
              0,
              "#0d0887"
             ],
             [
              0.1111111111111111,
              "#46039f"
             ],
             [
              0.2222222222222222,
              "#7201a8"
             ],
             [
              0.3333333333333333,
              "#9c179e"
             ],
             [
              0.4444444444444444,
              "#bd3786"
             ],
             [
              0.5555555555555556,
              "#d8576b"
             ],
             [
              0.6666666666666666,
              "#ed7953"
             ],
             [
              0.7777777777777778,
              "#fb9f3a"
             ],
             [
              0.8888888888888888,
              "#fdca26"
             ],
             [
              1,
              "#f0f921"
             ]
            ],
            "type": "surface"
           }
          ],
          "table": [
           {
            "cells": {
             "fill": {
              "color": "#EBF0F8"
             },
             "line": {
              "color": "white"
             }
            },
            "header": {
             "fill": {
              "color": "#C8D4E3"
             },
             "line": {
              "color": "white"
             }
            },
            "type": "table"
           }
          ]
         },
         "layout": {
          "annotationdefaults": {
           "arrowcolor": "#2a3f5f",
           "arrowhead": 0,
           "arrowwidth": 1
          },
          "autotypenumbers": "strict",
          "coloraxis": {
           "colorbar": {
            "outlinewidth": 0,
            "ticks": ""
           }
          },
          "colorscale": {
           "diverging": [
            [
             0,
             "#8e0152"
            ],
            [
             0.1,
             "#c51b7d"
            ],
            [
             0.2,
             "#de77ae"
            ],
            [
             0.3,
             "#f1b6da"
            ],
            [
             0.4,
             "#fde0ef"
            ],
            [
             0.5,
             "#f7f7f7"
            ],
            [
             0.6,
             "#e6f5d0"
            ],
            [
             0.7,
             "#b8e186"
            ],
            [
             0.8,
             "#7fbc41"
            ],
            [
             0.9,
             "#4d9221"
            ],
            [
             1,
             "#276419"
            ]
           ],
           "sequential": [
            [
             0,
             "#0d0887"
            ],
            [
             0.1111111111111111,
             "#46039f"
            ],
            [
             0.2222222222222222,
             "#7201a8"
            ],
            [
             0.3333333333333333,
             "#9c179e"
            ],
            [
             0.4444444444444444,
             "#bd3786"
            ],
            [
             0.5555555555555556,
             "#d8576b"
            ],
            [
             0.6666666666666666,
             "#ed7953"
            ],
            [
             0.7777777777777778,
             "#fb9f3a"
            ],
            [
             0.8888888888888888,
             "#fdca26"
            ],
            [
             1,
             "#f0f921"
            ]
           ],
           "sequentialminus": [
            [
             0,
             "#0d0887"
            ],
            [
             0.1111111111111111,
             "#46039f"
            ],
            [
             0.2222222222222222,
             "#7201a8"
            ],
            [
             0.3333333333333333,
             "#9c179e"
            ],
            [
             0.4444444444444444,
             "#bd3786"
            ],
            [
             0.5555555555555556,
             "#d8576b"
            ],
            [
             0.6666666666666666,
             "#ed7953"
            ],
            [
             0.7777777777777778,
             "#fb9f3a"
            ],
            [
             0.8888888888888888,
             "#fdca26"
            ],
            [
             1,
             "#f0f921"
            ]
           ]
          },
          "colorway": [
           "#636efa",
           "#EF553B",
           "#00cc96",
           "#ab63fa",
           "#FFA15A",
           "#19d3f3",
           "#FF6692",
           "#B6E880",
           "#FF97FF",
           "#FECB52"
          ],
          "font": {
           "color": "#2a3f5f"
          },
          "geo": {
           "bgcolor": "white",
           "lakecolor": "white",
           "landcolor": "#E5ECF6",
           "showlakes": true,
           "showland": true,
           "subunitcolor": "white"
          },
          "hoverlabel": {
           "align": "left"
          },
          "hovermode": "closest",
          "mapbox": {
           "style": "light"
          },
          "paper_bgcolor": "white",
          "plot_bgcolor": "#E5ECF6",
          "polar": {
           "angularaxis": {
            "gridcolor": "white",
            "linecolor": "white",
            "ticks": ""
           },
           "bgcolor": "#E5ECF6",
           "radialaxis": {
            "gridcolor": "white",
            "linecolor": "white",
            "ticks": ""
           }
          },
          "scene": {
           "xaxis": {
            "backgroundcolor": "#E5ECF6",
            "gridcolor": "white",
            "gridwidth": 2,
            "linecolor": "white",
            "showbackground": true,
            "ticks": "",
            "zerolinecolor": "white"
           },
           "yaxis": {
            "backgroundcolor": "#E5ECF6",
            "gridcolor": "white",
            "gridwidth": 2,
            "linecolor": "white",
            "showbackground": true,
            "ticks": "",
            "zerolinecolor": "white"
           },
           "zaxis": {
            "backgroundcolor": "#E5ECF6",
            "gridcolor": "white",
            "gridwidth": 2,
            "linecolor": "white",
            "showbackground": true,
            "ticks": "",
            "zerolinecolor": "white"
           }
          },
          "shapedefaults": {
           "line": {
            "color": "#2a3f5f"
           }
          },
          "ternary": {
           "aaxis": {
            "gridcolor": "white",
            "linecolor": "white",
            "ticks": ""
           },
           "baxis": {
            "gridcolor": "white",
            "linecolor": "white",
            "ticks": ""
           },
           "bgcolor": "#E5ECF6",
           "caxis": {
            "gridcolor": "white",
            "linecolor": "white",
            "ticks": ""
           }
          },
          "title": {
           "x": 0.05
          },
          "xaxis": {
           "automargin": true,
           "gridcolor": "white",
           "linecolor": "white",
           "ticks": "",
           "title": {
            "standoff": 15
           },
           "zerolinecolor": "white",
           "zerolinewidth": 2
          },
          "yaxis": {
           "automargin": true,
           "gridcolor": "white",
           "linecolor": "white",
           "ticks": "",
           "title": {
            "standoff": 15
           },
           "zerolinecolor": "white",
           "zerolinewidth": 2
          }
         }
        },
        "title": {
         "text": "Activity Distribution - Time Spent in Each Activity"
        },
        "xaxis": {
         "anchor": "y",
         "domain": [
          0,
          1
         ],
         "tickangle": -45,
         "title": {
          "text": "Activity"
         }
        },
        "yaxis": {
         "anchor": "x",
         "domain": [
          0,
          1
         ],
         "title": {
          "text": "Duration (hours)"
         }
        }
       }
      }
     },
     "metadata": {},
     "output_type": "display_data"
    }
   ],
   "source": [
    "def plot_activity_distribution(df):\n",
    "    \"\"\"\n",
    "    Visualize distribution of activities\n",
    "    \"\"\"\n",
    "    activity_counts = df['activity_label'].value_counts()\n",
    "    \n",
    "    # Calculate percentage\n",
    "    activity_pct = (activity_counts / len(df) * 100).round(2)\n",
    "    \n",
    "    # Convert sample counts to hours for better interpretation\n",
    "    activity_hours = (activity_counts * 0.01 / 3600).round(2)  # samples * 0.01s / 3600s(sampled at 100hz i.e for every 0.01sec 1 reading*number of records with that label divided by 60sec*60min )\n",
    "    \n",
    "    fig = px.bar(\n",
    "        x=activity_counts.index,\n",
    "        y=activity_hours.values,\n",
    "        labels={'x': 'Activity', 'y': 'Duration (hours)'},\n",
    "        title='Activity Distribution - Time Spent in Each Activity',\n",
    "        text=activity_pct.values\n",
    "    )\n",
    "    \n",
    "    fig.update_traces(texttemplate='%{text}%', textposition='outside')\n",
    "    fig.update_layout(\n",
    "        xaxis_tickangle=-45,\n",
    "        height=500,\n",
    "        showlegend=False\n",
    "    )\n",
    "    \n",
    "    return fig\n",
    "\n",
    "plot_activity_distribution(df_147)"
   ]
  },
  {
   "cell_type": "markdown",
   "id": "c62defeb",
   "metadata": {},
   "source": [
    "## visualization"
   ]
  },
  {
   "cell_type": "code",
   "execution_count": 63,
   "id": "786e3059",
   "metadata": {},
   "outputs": [
    {
     "data": {
      "application/vnd.plotly.v1+json": {
       "config": {
        "plotlyServerURL": "https://plot.ly"
       },
       "data": [
        {
         "line": {
          "color": "blue",
          "width": 1
         },
         "mode": "lines",
         "opacity": 0.7,
         "showlegend": false,
         "type": "scatter",
         "x": {
          "bdata": "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",
          "dtype": "f8"
         },
         "xaxis": "x",
         "y": {
          "bdata": "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",
          "dtype": "f4"
         },
         "yaxis": "y"
        },
        {
         "line": {
          "color": "blue",
          "width": 1
         },
         "mode": "lines",
         "opacity": 0.7,
         "showlegend": false,
         "type": "scatter",
         "x": {
          "bdata": "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",
          "dtype": "f8"
         },
         "xaxis": "x9",
         "y": {
          "bdata": "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",
          "dtype": "f4"
         },
         "yaxis": "y9"
        },
        {
         "line": {
          "color": "blue",
          "width": 1
         },
         "mode": "lines",
         "opacity": 0.7,
         "showlegend": false,
         "type": "scatter",
         "x": {
          "bdata": "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",
          "dtype": "f8"
         },
         "xaxis": "x17",
         "y": {
          "bdata": "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",
          "dtype": "f4"
         },
         "yaxis": "y17"
        },
        {
         "line": {
          "color": "orange",
          "width": 1
         },
         "mode": "lines",
         "opacity": 0.7,
         "showlegend": false,
         "type": "scatter",
         "x": {
          "bdata": "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",
          "dtype": "f8"
         },
         "xaxis": "x",
         "y": {
          "bdata": "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",
          "dtype": "f4"
         },
         "yaxis": "y"
        },
        {
         "line": {
          "color": "orange",
          "width": 1
         },
         "mode": "lines",
         "opacity": 0.7,
         "showlegend": false,
         "type": "scatter",
         "x": {
          "bdata": "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",
          "dtype": "f8"
         },
         "xaxis": "x9",
         "y": {
          "bdata": "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",
          "dtype": "f4"
         },
         "yaxis": "y9"
        },
        {
         "line": {
          "color": "orange",
          "width": 1
         },
         "mode": "lines",
         "opacity": 0.7,
         "showlegend": false,
         "type": "scatter",
         "x": {
          "bdata": "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",
          "dtype": "f8"
         },
         "xaxis": "x17",
         "y": {
          "bdata": "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",
          "dtype": "f4"
         },
         "yaxis": "y17"
        },
        {
         "line": {
          "color": "blue",
          "width": 1
         },
         "mode": "lines",
         "opacity": 0.7,
         "showlegend": false,
         "type": "scatter",
         "x": {
          "bdata": "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",
          "dtype": "f8"
         },
         "xaxis": "x2",
         "y": {
          "bdata": "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",
          "dtype": "f4"
         },
         "yaxis": "y2"
        },
        {
         "line": {
          "color": "blue",
          "width": 1
         },
         "mode": "lines",
         "opacity": 0.7,
         "showlegend": false,
         "type": "scatter",
         "x": {
          "bdata": "AAAAAAAAAAACSAHNIICEPwJIAc0ggJQ/A+yBMzHAnj8CSAHNIICkPwKaQQApoKk/A+yBMzHArj8CH2GzHPCxPwJIAc0ggLQ/AnGh5iQQtz8CmkEAKaC5PwPD4RktMLw/A+yBMzHAvj+CCpGmGqjAPwIfYbMc8ME/gjMxwB44wz8CSAHNIIDEP4Jc0dkiyMU/AnGh5iQQxz+ChXHzJljIPwKaQQApoMk/g64RDSvoyj8Dw+EZLTDMP4PXsSYveM0/A+yBMzHAzj9CACmgGQTQP4IKkaYaqNA/whT5rBtM0T8CH2GzHPDRP0IpybkdlNI/gjMxwB440z/CPZnGH9zTPwJIAc0ggNQ/QlJp0yEk1T+CXNHZIsjVP8JmOeAjbNY/AnGh5iQQ1z9CewntJbTXP4KFcfMmWNg/wo/Z+Sf82D8CmkEAKaDZP0OkqQYqRNo/g64RDSvo2j/DuHkTLIzbPwPD4RktMNw/Q81JIC7U3D+D17EmL3jdP8PhGS0wHN4/A+yBMzHA3j9D9uk5MmTfP0IAKaAZBOA/YgVdIxpW4D+CCpGmGqjgP6IPxSkb+uA/whT5rBtM4T/iGS0wHJ7hPwIfYbMc8OE/IiSVNh1C4j9CKcm5HZTiP2Iu/Twe5uI/gjMxwB444z+iOGVDH4rjP8I9mcYf3OM/4kLNSSAu5D8CSAHNIIDkPyJNNVAh0uQ/QlJp0yEk5T9iV51WInblP4Jc0dkiyOU/omEFXSMa5j/CZjngI2zmP+JrbWMkvuY/AnGh5iQQ5z8idtVpJWLnP0J7Ce0ltOc/YoA9cCYG6D+ChXHzJljoP6KKpXYnqug/wo/Z+Sf86D/ilA19KE7pPwKaQQApoOk/I591gyny6T9DpKkGKkTqP2Op3Ykqluo/g64RDSvo6j+js0WQKzrrP8O4eRMsjOs/472tlize6z8Dw+EZLTDsPyPIFZ0tguw/Q81JIC7U7D9j0n2jLibtP4PXsSYveO0/o9zlqS/K7T/D4RktMBzuP+PmTbAwbu4/A+yBMzHA7j8j8bW2MRLvP0P26TkyZO8/Y/sdvTK27z9CACmgGQTwP9ICw+EZLfA/YgVdIxpW8D/yB/dkGn/wP4IKkaYaqPA/Eg0r6BrR8D+iD8UpG/rwPzISX2sbI/E/whT5rBtM8T9SF5PuG3XxP+IZLTAcnvE/chzHcRzH8T8CH2GzHPDxP5Ih+/QcGfI/IiSVNh1C8j+yJi94HWvyP0IpybkdlPI/0itj+x298j9iLv08HubyP/Iwl34eD/M/gjMxwB448z8SNssBH2HzP6I4ZUMfivM/Mjv/hB+z8z/CPZnGH9zzP1JAMwggBfQ/4kLNSSAu9D9yRWeLIFf0PwJIAc0ggPQ/kkqbDiGp9D8iTTVQIdL0P7JPz5Eh+/Q/QlJp0yEk9T/SVAMVIk31P2JXnVYidvU/8lk3mCKf9T+CXNHZIsj1PxJfaxsj8fU/omEFXSMa9j8yZJ+eI0P2P8JmOeAjbPY/UmnTISSV9j/ia21jJL72P3JuB6Uk5/Y/AnGh5iQQ9z+SczsoJTn3PyJ21WklYvc/snhvqyWL9z9CewntJbT3P9J9oy4m3fc/YoA9cCYG+D/ygtexJi/4P4KFcfMmWPg/EogLNSeB+D+iiqV2J6r4PzKNP7gn0/g/wo/Z+Sf8+D9SknM7KCX5P+KUDX0oTvk/cpenvih3+T8CmkEAKaD5P5Oc20Epyfk/I591gyny+T+zoQ/FKRv6P0OkqQYqRPo/06ZDSCpt+j9jqd2JKpb6P/Ord8sqv/o/g64RDSvo+j8TsatOKxH7P6OzRZArOvs/M7bf0Stj+z/DuHkTLIz7P1O7E1Ustfs/472tlize+z9zwEfYLAf8PwPD4RktMPw/k8V7Wy1Z/D8jyBWdLYL8P7PKr94tq/w/Q81JIC7U/D/Tz+NhLv38P2PSfaMuJv0/89QX5S5P/T+D17EmL3j9PxPaS2gvof0/o9zlqS/K/T8z33/rL/P9P8PhGS0wHP4/U+SzbjBF/j/j5k2wMG7+P3Pp5/Ewl/4/A+yBMzHA/j+T7ht1Men+PyPxtbYxEv8/s/NP+DE7/z9D9uk5MmT/P9P4g3syjf8/Y/sdvTK2/z/z/bf+Mt//P0IAKaAZBABAigH2wJkYAEDSAsPhGS0AQBoEkAKaQQBAYgVdIxpWAECqBipEmmoAQPIH92QafwBAOgnEhZqTAECCCpGmGqgAQMoLXseavABAEg0r6BrRAEBaDvgIm+UAQKIPxSkb+gBA6hCSSpsOAUAyEl9rGyMBQHoTLIybNwFAwhT5rBtMAUAKFsbNm2ABQFIXk+4bdQFAmhhgD5yJAUDiGS0wHJ4BQCob+lCcsgFAchzHcRzHAUC6HZSSnNsBQAIfYbMc8AFASiAu1JwEAkCSIfv0HBkCQNoiyBWdLQJAIiSVNh1CAkBqJWJXnVYCQLImL3gdawJA+if8mJ1/AkBCKcm5HZQCQIoqltqdqAJA0itj+x29AkAaLTAcntECQGIu/Twe5gJAqi/KXZ76AkDyMJd+Hg8DQDoyZJ+eIwNAgjMxwB44A0DKNP7gnkwDQBI2ywEfYQNAWjeYIp91A0CiOGVDH4oDQOo5MmSfngNAMjv/hB+zA0B6PMyln8cDQMI9mcYf3ANACj9m55/wA0BSQDMIIAUEQJpBACmgGQRA4kLNSSAuBEAqRJpqoEIEQHJFZ4sgVwRAukY0rKBrBEACSAHNIIAEQEpJzu2glARAkkqbDiGpBEDaS2gvob0EQCJNNVAh0gRAak4CcaHmBECyT8+RIfsEQPpQnLKhDwVAQlJp0yEkBUCKUzb0oTgFQNJUAxUiTQVAGlbQNaJhBUBiV51WInYFQKpYaneiigVA8lk3mCKfBUA6WwS5orMFQIJc0dkiyAVAyl2e+qLcBUASX2sbI/EFQFpgODyjBQZAomEFXSMaBkDqYtJ9oy4GQDJkn54jQwZAemVsv6NXBkDCZjngI2wGQApoBgGkgAZAUmnTISSVBkCaaqBCpKkGQOJrbWMkvgZAKm06hKTSBkBybgelJOcGQLpv1MWk+wZAAnGh5iQQB0BKcm4HpSQHQJJzOyglOQdA2nQISaVNB0AidtVpJWIHQGp3ooqldgdAsnhvqyWLB0D6eTzMpZ8HQEJ7Ce0ltAdAinzWDabIB0DSfaMuJt0HQBp/cE+m8QdAYoA9cCYGCECqgQqRphoIQPKC17EmLwhAOoSk0qZDCECChXHzJlgIQMqGPhSnbAhAEogLNSeBCEBaidhVp5UIQKKKpXYnqghA6otyl6e+CEAyjT+4J9MIQHqODNmn5whAwo/Z+Sf8CEAKkaYaqBAJQFKSczsoJQlAmpNAXKg5CUDilA19KE4JQCqW2p2oYglAcpenvih3CUC6mHTfqIsJQAKaQQApoAlAS5sOIam0CUCTnNtBKckJQNudqGKp3QlAI591gynyCUBroEKkqQYKQLOhD8UpGwpA+6Lc5akvCkBDpKkGKkQKQIuldieqWApA06ZDSCptCkAbqBBpqoEKQGOp3YkqlgpAq6qqqqqqCkDzq3fLKr8KQDutROyq0wpAg64RDSvoCkDLr94tq/wKQBOxq04rEQtAW7J4b6slC0Cjs0WQKzoLQOu0ErGrTgtAM7bf0StjC0B7t6zyq3cLQMO4eRMsjAtAC7pGNKygC0BTuxNVLLULQJu84HWsyQtA472tlizeC0Arv3q3rPILQHPAR9gsBwxAu8EU+awbDEADw+EZLTAMQEvErjqtRAxAk8V7Wy1ZDEDbxkh8rW0MQCPIFZ0tggxAa8niva2WDECzyq/eLasMQPvLfP+tvwxAQ81JIC7UDECLzhZBrugMQNPP42Eu/QxAG9Gwgq4RDUBj0n2jLiYNQKvTSsSuOg1A89QX5S5PDUA71uQFr2MNQIPXsSYveA1Ay9h+R6+MDUAT2ktoL6ENQFvbGImvtQ1Ao9zlqS/KDUDr3bLKr94NQDPff+sv8w1Ae+BMDLAHDkDD4RktMBwOQAvj5k2wMA5AU+SzbjBFDkCb5YCPsFkOQOPmTbAwbg5AK+ga0bCCDkBz6efxMJcOQLvqtBKxqw5AA+yBMzHADkBL7U5UsdQOQJPuG3Ux6Q5A2+/olbH9DkAj8bW2MRIPQGvygtexJg9As/NP+DE7D0D79BwZsk8PQEP26TkyZA9Ai/e2WrJ4D0DT+IN7Mo0PQBv6UJyyoQ9AY/sdvTK2D0Cr/OrdssoPQPP9t/4y3w9AO/+EH7PzD0BCACmgGQQQQOaAj7BZDhBAigH2wJkYEEAuglzR2SIQQNICw+EZLRBAdoMp8lk3EEAaBJACmkEQQL6E9hLaSxBAYgVdIxpWEEAGhsMzWmAQQKoGKkSaahBAToeQVNp0EEDyB/dkGn8QQJaIXXVaiRBAOgnEhZqTEEDeiSqW2p0QQIIKkaYaqBBAJov3tlqyEEDKC17HmrwQQG6MxNfaxhBAEg0r6BrREEC2jZH4WtsQQFoO+Aib5RBA/o5eGdvvEECiD8UpG/oQQEaQKzpbBBFA6hCSSpsOEUCOkfha2xgRQDISX2sbIxFA1pLFe1stEUB6EyyMmzcRQB6UkpzbQRFAwhT5rBtMEUBmlV+9W1YRQAoWxs2bYBFArpYs3ttqEUBSF5PuG3URQPaX+f5bfxFAmhhgD5yJEUA+mcYf3JMRQOIZLTAcnhFAhpqTQFyoEUAqG/pQnLIRQM6bYGHcvBFAchzHcRzHEUAWnS2CXNERQLodlJKc2xFAXp76otzlEUACH2GzHPARQKafx8Nc+hFASiAu1JwEEkDuoJTk3A4SQJIh+/QcGRJANqJhBV0jEkDaIsgVnS0SQH6jLibdNxJAIiSVNh1CEkDGpPtGXUwSQGolYledVhJADqbIZ91gEkCyJi94HWsSQFanlYhddRJA+if8mJ1/EkCeqGKp3YkSQEIpybkdlBJA5qkvyl2eEkCKKpbanagSQC6r/OrdshJA0itj+x29EkB2rMkLXscSQBotMBye0RJAvq2WLN7bEkBiLv08HuYSQAavY01e8BJAqi/KXZ76EkBOsDBu3gQTQPIwl34eDxNAlrH9jl4ZE0A6MmSfniMTQN6yyq/eLRNAgjMxwB44E0AmtJfQXkITQMo0/uCeTBNAbrVk8d5WE0ASNssBH2ETQLa2MRJfaxNAWjeYIp91E0D+t/4y338TQKI4ZUMfihNARrnLU1+UE0DqOTJkn54TQI66mHTfqBNAMjv/hB+zE0DWu2WVX70TQHo8zKWfxxNAHr0ytt/RE0DCPZnGH9wTQGa+/9Zf5hNACj9m55/wE0Cuv8z33/oTQFJAMwggBRRA9sCZGGAPFECaQQApoBkUQD7CZjngIxRA4kLNSSAuFECGwzNaYDgUQCpEmmqgQhRAzsQAe+BMFEByRWeLIFcUQBbGzZtgYRRAukY0rKBrFEBex5q84HUUQAJIAc0ggBRApshn3WCKFEBKSc7toJQUQO7JNP7gnhRAkkqbDiGpFEA2ywEfYbMUQNpLaC+hvRRAfszOP+HHFEAiTTVQIdIUQMbNm2Bh3BRAak4CcaHmFEAOz2iB4fAUQLJPz5Eh+xRAVtA1omEFFUD6UJyyoQ8VQJ7RAsPhGRVAQlJp0yEkFUDm0s/jYS4VQIpTNvShOBVALtScBOJCFUDSVAMVIk0VQHbVaSViVxVAGlbQNaJhFUC+1jZG4msVQGJXnVYidhVABtgDZ2KAFUCqWGp3oooVQE7Z0IfilBVA8lk3mCKfFUCW2p2oYqkVQDpbBLmisxVA3ttqyeK9FUCCXNHZIsgVQCbdN+pi0hVAyl2e+qLcFUBu3gQL4+YVQBJfaxsj8RVAtt/RK2P7FUBaYDg8owUWQP7gnkzjDxZAomEFXSMaFkBG4mttYyQWQOpi0n2jLhZAjuM4juM4FkAyZJ+eI0MWQNbkBa9jTRZAemVsv6NXFkAe5tLP42EWQMJmOeAjbBZAZuef8GN2FkAKaAYBpIAWQK7obBHkihZAUmnTISSVFkD26TkyZJ8WQJpqoEKkqRZAPusGU+SzFkDia21jJL4WQIbs03NkyBZAKm06hKTSFkDO7aCU5NwWQHJuB6Uk5xZAFu9ttWTxFkC6b9TFpPsWQF7wOtbkBRdAAnGh5iQQF0Cm8Qf3ZBoXQEpybgelJBdA7vLUF+UuF0CSczsoJTkXQDb0oThlQxdA2nQISaVNF0B+9W5Z5VcXQCJ21WklYhdAxvY7emVsF0Bqd6KKpXYXQA74CJvlgBdAsnhvqyWLF0BW+dW7ZZUXQPp5PMylnxdAnvqi3OWpF0BCewntJbQXQOb7b/1lvhdAinzWDabIF0Au/Twe5tIXQNJ9oy4m3RdAdv4JP2bnF0Aaf3BPpvEXQL7/1l/m+xdAYoA9cCYGGEAGAaSAZhAYQKqBCpGmGhhATgJxoeYkGEDygtexJi8YQJYDPsJmORhAOoSk0qZDGEDeBAvj5k0YQIKFcfMmWBhAJgbYA2diGEDKhj4Up2wYQG4HpSTndhhAEogLNSeBGEC2CHJFZ4sYQFqJ2FWnlRhA/gk/ZuefGECiiqV2J6oYQEYLDIdntBhA6otyl6e+GECODNmn58gYQDKNP7gn0xhA1g2myGfdGEB6jgzZp+cYQB4Pc+nn8RhAwo/Z+Sf8GEBmEEAKaAYZQAqRphqoEBlArhENK+gaGUBSknM7KCUZQPYS2ktoLxlAmpNAXKg5GUA+FKds6EMZQOKUDX0oThlAhhV0jWhYGUAqltqdqGIZQM4WQa7obBlAcpenvih3GUAWGA7PaIEZQLqYdN+oixlAXhnb7+iVGUACmkEAKaAZQKcaqBBpqhlAS5sOIam0GUDvG3Ux6b4ZQJOc20EpyRlANx1CUmnTGUDbnahiqd0ZQH8eD3Pp5xlAI591gynyGUDHH9yTafwZQGugQqSpBhpADyGptOkQGkCzoQ/FKRsaQFcidtVpJRpA+6Lc5akvGkCfI0P26TkaQEOkqQYqRBpA5yQQF2pOGkCLpXYnqlgaQC8m3TfqYhpA06ZDSCptGkB3J6pYancaQBuoEGmqgRpAvyh3eeqLGkBjqd2JKpYaQAcqRJpqoBpAq6qqqqqqGkBPKxG76rQaQPOrd8sqvxpAlyze22rJGkA7rUTsqtMaQN8tq/zq3RpAg64RDSvoGkAnL3gda/IaQMuv3i2r/BpAbzBFPusGG0ATsatOKxEbQLcxEl9rGxtAW7J4b6slG0D/Mt9/6y8bQKOzRZArOhtARzSsoGtEG0DrtBKxq04bQI81ecHrWBtAM7bf0StjG0DXNkbia20bQHu3rPKrdxtAHzgTA+yBG0DDuHkTLIwbQGc54CNslhtAC7pGNKygG0CvOq1E7KobQFO7E1UstRtA9zt6ZWy/G0CbvOB1rMkbQD89R4bs0xtA472tlizeG0CHPhSnbOgbQCu/eres8htAzz/hx+z8G0BzwEfYLAccQBdBruhsERxAu8EU+awbHEBfQnsJ7SUcQAPD4RktMBxAp0NIKm06HEBLxK46rUQcQO9EFUvtThxAk8V7Wy1ZHEA3RuJrbWMcQNvGSHytbRxAf0evjO13HEAjyBWdLYIcQMdIfK1tjBxAa8niva2WHEAPSknO7aAcQLPKr94tqxxAV0sW7221HED7y3z/rb8cQJ9M4w/uyRxAQ81JIC7UHEDnTbAwbt4cQIvOFkGu6BxAL099Ue7yHEDTz+NhLv0cQHdQSnJuBx1AG9Gwgq4RHUC/UReT7hsdQGPSfaMuJh1AB1Pks24wHUCr00rErjodQE9UsdTuRB1A89QX5S5PHUCXVX71blkdQDvW5AWvYx1A31ZLFu9tHUCD17EmL3gdQCdYGDdvgh1Ay9h+R6+MHUBvWeVX75YdQBPaS2gvoR1At1qyeG+rHUBb2xiJr7UdQP9bf5nvvx1Ao9zlqS/KHUBHXUy6b9QdQOvdssqv3h1Aj14Z2+/oHUAz33/rL/MdQNdf5vtv/R1Ae+BMDLAHHkAfYbMc8BEeQMPhGS0wHB5AZ2KAPXAmHkAL4+ZNsDAeQK9jTV7wOh5AU+SzbjBFHkD3ZBp/cE8eQJvlgI+wWR5AP2bnn/BjHkDj5k2wMG4eQIdntMBweB5AK+ga0bCCHkDPaIHh8IweQHPp5/Ewlx5AF2pOAnGhHkC76rQSsaseQF9rGyPxtR5AA+yBMzHAHkCnbOhDccoeQEvtTlSx1B5A7221ZPHeHkCT7ht1MekeQDdvgoVx8x5A2+/olbH9HkB/cE+m8QcfQCPxtbYxEh9Ax3Ecx3EcH0Br8oLXsSYfQA9z6efxMB9As/NP+DE7H0BXdLYIckUfQPv0HBmyTx9An3WDKfJZH0BD9uk5MmQfQOd2UEpybh9Ai/e2WrJ4H0AveB1r8oIfQNP4g3syjR9Ad3nqi3KXH0Ab+lCcsqEfQL96t6zyqx9AY/sdvTK2H0AHfITNcsAfQKv86t2yyh9AT31R7vLUH0Dz/bf+Mt8fQJd+Hg9z6R9AO/+EH7PzH0Dff+sv8/0fQEIAKaAZBCBAlEBcqDkJIEDmgI+wWQ4gQDjBwrh5EyBAigH2wJkYIEDcQSnJuR0gQC6CXNHZIiBAgMKP2fknIEDSAsPhGS0gQCRD9uk5MiBAdoMp8lk3IEDIw1z6eTwgQBoEkAKaQSBAbETDCrpGIEC+hPYS2ksgQBDFKRv6UCBAYgVdIxpWIEC0RZArOlsgQAaGwzNaYCBAWMb2O3plIECqBipEmmogQPxGXUy6byBAToeQVNp0IECgx8Nc+nkgQPIH92QafyBAREgqbTqEIECWiF11WokgQOjIkH16jiBAOgnEhZqTIECMSfeNupggQN6JKpbanSBAMMpdnvqiIECCCpGmGqggQNRKxK46rSBAJov3tlqyIEB4yyq/ercgQMoLXseavCBAHEyRz7rBIEBujMTX2sYgQMDM99/6yyBAEg0r6BrRIEBkTV7wOtYgQLaNkfha2yBACM7EAHvgIEBaDvgIm+UgQKxOKxG76iBA/o5eGdvvIEBQz5Eh+/QgQKIPxSkb+iBA9E/4MTv/IEBGkCs6WwQhQJjQXkJ7CSFA6hCSSpsOIUA8UcVSuxMhQI6R+FrbGCFA4NErY/sdIUAyEl9rGyMhQIRSknM7KCFA1pLFe1stIUAo0/iDezIhQHoTLIybNyFAzFNflLs8IUAelJKc20EhQHDUxaT7RiFAwhT5rBtMIUAUVSy1O1EhQGaVX71bViFAuNWSxXtbIUAKFsbNm2AhQFxW+dW7ZSFArpYs3ttqIUAA11/m+28hQFIXk+4bdSFApFfG9jt6IUD2l/n+W38hQEjYLAd8hCFAmhhgD5yJIUDsWJMXvI4hQD6Zxh/ckyFAkNn5J/yYIUDiGS0wHJ4hQDRaYDg8oyFAhpqTQFyoIUDY2sZIfK0hQCob+lCcsiFAfFstWby3IUDOm2Bh3LwhQCDck2n8wSFAchzHcRzHIUDEXPp5PMwhQBadLYJc0SFAaN1ginzWIUC6HZSSnNshQAxex5q84CFAXp76otzlIUCw3i2r/OohQAIfYbMc8CFAVF+Uuzz1IUCmn8fDXPohQPjf+st8/yFASiAu1JwEIkCcYGHcvAkiQO6glOTcDiJAQOHH7PwTIkCSIfv0HBkiQORhLv08HiJANqJhBV0jIkCI4pQNfSgiQNoiyBWdLSJALGP7Hb0yIkB+oy4m3TciQNDjYS79PCJAIiSVNh1CIkB0ZMg+PUciQMak+0ZdTCJAGOUuT31RIkBqJWJXnVYiQLxllV+9WyJADqbIZ91gIkBg5vtv/WUiQLImL3gdayJABGdigD1wIkBWp5WIXXUiQKjnyJB9eiJA+if8mJ1/IkBMaC+hvYQiQJ6oYqndiSJA8OiVsf2OIkBCKcm5HZQiQJRp/ME9mSJA5qkvyl2eIkA46mLSfaMiQIoqltqdqCJA3GrJ4r2tIkAuq/zq3bIiQIDrL/P9tyJA0itj+x29IkAkbJYDPsIiQHasyQtexyJAyOz8E37MIkAaLTAcntEiQGxtYyS+1iJAvq2WLN7bIkAQ7sk0/uAiQGIu/Twe5iJAtG4wRT7rIkAGr2NNXvAiQFjvllV+9SJAqi/KXZ76IkD8b/1lvv8iQE6wMG7eBCNAoPBjdv4JI0DyMJd+Hg8jQERxyoY+FCNAlrH9jl4ZI0Do8TCXfh4jQDoyZJ+eIyNAjHKXp74oI0Dessqv3i0jQDDz/bf+MiNAgjMxwB44I0DUc2TIPj0jQCa0l9BeQiNAePTK2H5HI0DKNP7gnkwjQBx1Mem+USNAbrVk8d5WI0DA9Zf5/lsjQBI2ywEfYSNAZHb+CT9mI0C2tjESX2sjQAj3ZBp/cCNAWjeYIp91I0Csd8sqv3ojQP63/jLffyNAUPgxO/+EI0CiOGVDH4ojQPR4mEs/jyNARrnLU1+UI0CY+f5bf5kjQOo5MmSfniNAPHplbL+jI0COuph036gjQOD6y3z/rSNAMjv/hB+zI0CEezKNP7gjQNa7ZZVfvSNAKPyYnX/CI0B6PMyln8cjQMx8/62/zCNAHr0ytt/RI0Bw/WW+/9YjQMI9mcYf3CNAFH7Mzj/hI0Bmvv/WX+YjQLj+Mt9/6yNACj9m55/wI0Bcf5nvv/UjQK6/zPff+iNAAAAAAAAAJEA=",
          "dtype": "f8"
         },
         "xaxis": "x10",
         "y": {
          "bdata": "cBgoPiWLWD4li1g++MsHPj6aGz12Yie9K0qUvStKlL12Yie9ZvtnvWb7Z726MDu+Br4KvjTyFz6d13g+7X6EPke4nD6h8bQ+OFHdPmbYAj+wnf0+9eEGPzEIFz/8Nys/qVQ3PzheOz+pVDc/i0EvP20uJz/AERs/TxsfP94kIz/eJCM/3iQjP8ARGz/eJCM/yGc/P3WESz91hEs/dYRLP5OXUz9AtF8/QLRfP7GqWz8Ejk8/5npHP8hnPz/IZz8/yGc/P6lUNz/mekc/fNpvP+wJhD97E4g/Ch2MP7c5mD8sW6Y/aIG2P4aUvj++j7w/2XeyP7tkqj/zX6g/nVGiPygwlD9dAIA/V3FDP94kIz/8Nys//DcrP6lUNz/PvWM/XQCAP7QOhj8p93s/5npHP/w3Kz9PGx8/MQgXP6L+Ej8xCBc/3iQjP20uJz+LQS8/OF47PzheOz+pVDc/qVQ3P6lUNz+pVDc/qVQ3P94kIz+i/hI/ov4SP8ARGz/AERs/ov4SPxP1Dj8T9Q4/E/UOPzEIFz/8Nys/dYRLP3zabz+0DoY/DkieP51Roj/VTKA/KDCUPyUFgj+a7Xc/mu13Pyn3ez8L5HM/7dBrP5OXUz84Xjs/i0EvP94kIz/14QY/sJ39PmbYAj+SivU+sJ39PmbYAj9m2AI/sJ39PrCd/T5m2AI/ZtgCP4TrCj+E6wo/ov4SPxP1Dj+i/hI/TxsfP4tBLz84Xjs/V3FDP+Z6Rz8Ejk8/k5dTP0C0Xz+a7Xc/tA6GP9Ihjj9hK5I/KDCUP2Erkj+ZJpA/YSuSP2Erkj+ZJpA/Ch2MP9Ihjj8oMJQ/tzmYP2Erkj9dAIA/QLRfPyKhVz+xqls/z71jP8+9Yz+xqls/7dBrP7c5mD8Rc7A/nVGiP10AgD84Xjs/ZtgCP4PerD5hsWg+rT44PnhL7z0+mhs9ZvtnvX4KK74RC46+xX2+vlzd5r62Fv++Rc4bv70aPL82Z1y/44Nov8VwYL/cLUS/8uonv7bEF79Fzhu/8uonvy4ROL/6QEy/VHpkv55egL/ahJC/3a+iv+HatL9W/MK/kiLTv3QPy79w5Li/NL6ov6W0pL8Wq6C/MJOWv0t7jL9Le4y/2oSQv2mOlL+Ddoq/AZdwv0wkQL8nuxO/evDuvj7K3r5c3ea+mAP3vj7K3r4CpM6+ILfWviC31r4CpM6+5JDGvqdqtr5NMZ6+EQuOvqvJe74zfVu+91ZLvn4KK76UL/W9o5a0vXZiJ71Qwhi8UMIYvORC0zs+mhs9LjNcPYiyrj34ywc+6WRIPguSjD5ly6Q+ofG0Pt4XxT78Ks0+dHftPrCd/T6wnf0+sJ39PlZk5T7ABL0+KaWUPmGxaD5wGCg+AP/OPQ9mjj3kQtM7K0qUvTN9W76nara+evDuvpgD975c3ea+xX2+vqvJe75C5Bq+ujA7vqvJe75NMZ6+p2q2vsV9vr6nara+iVeuvmtEpr4vHpa+Lx6Wvi8elr4vHpa+TTGevk0xnr5NMZ6+a0SmvolXrr6JV66+iVeuvolXrr6JV66+p2q2vuSQxr4gt9a+mAP3vnqeB79Fzhu/gfQrv0wkQL+JSlC/Nmdcv1R6ZL/jg2i/VHpkvzZnXL82Z1y/44Nov2Vjgr+8cYi/g3aKv0t7jL+hiZK/MJOWv7+cmr/dr6K/NL6ov6W0pL/4l5i/g3aKv2Vjgr8fqni/rrN8v/Rshr/ahJC/oYmSvxKAjr/0bIa/nl6Av66zfL9yjWy/VHpkv3KNbL8fqni/44Nov9wtRL/y6ie/Rc4bv9TXH79j4SO/tsQXv7bEF7/y6ie/EP4vv9TXH79Fzhu/Rc4bv7bEF79Fzhu/1Ncfv4H0K78Q/i+/gfQrv2PhI7/U1x+/EP4vv0wkQL/cLUS/azdIv8VwYL+us3y/ZWOCv2Vjgr8taIS/g3aKv9qEkL/ahJC/2oSQv9qEkL/ahJC/EoCOvxKAjr/ahJC/EoCOvxKAjr8SgI6/2oSQv6GJkr9pjpS/aY6Uv2mOlL+hiZK/EoCOv4N2ir9lY4K/H6p4vwGXcL9yjWy/44Nov+ODaL9UemS/VHpkv+ODaL9yjWy/co1svwGXcL8Bl3C/co1sv3KNbL+QoHS/rrN8v2Vjgr8taIS/g3aKv9qEkL+hiZK/2oSQv0t7jL/0bIa/ZWOCvx+qeL8fqni/ZWOCv7xxiL+Ddoq/vHGIv/Rshr8taIS/LWiEvy1ohL8taIS/nl6Av55egL9lY4K/nl6Avx+qeL/jg2i/xXBgvzZnXL9UemS/44Nov3KNbL8Bl3C/kKB0vx+qeL8fqni/AZdwv+ODaL82Z1y/+kBMv9wtRL+9Gjy/nwc0v58HNL+fBzS/EP4vvxD+L78Q/i+/EP4vvy4ROL8uETi/vRo8v0wkQL/cLUS/iUpQvzZnXL9UemS/co1svwGXcL+QoHS/H6p4v66zfL8taIS/S3uMvxKAjr9Le4y/g3aKv7xxiL/0bIa/9GyGvxKAjr+HoZy/NL6ov4rMrr/Dx6y/pbSkv06mnr/4l5i/EoCOv7xxiL8taIS/ZWOCv55egL+eXoC/ZWOCvy1ohL/0bIa/g3aKvxKAjr/ahJC/2oSQvxKAjr+8cYi/LWiEvy1ohL+us3y/kKB0v3KNbL/jg2i/VHpkv8VwYL82Z1y/xXBgv8VwYL9UemS/AZdwvx+qeL+eXoC/LWiEv4N2ir8SgI6/oYmSv6GJkr/ahJC/S3uMv7xxiL/0bIa/9GyGv7xxiL+8cYi/g3aKv0t7jL8SgI6/EoCOv0t7jL+Ddoq/9GyGv2Vjgr+QoHS/44NovzZnXL+JSlC/3C1Ev0wkQL+9Gjy/TCRAv0wkQL9MJEC/vRo8v0wkQL9MJEC/3C1Ev9wtRL9rN0i/azdIv/pATL+JSlC/iUpQv4lKUL+nXVi/xXBgv+ODaL9yjWy/AZdwv5CgdL+QoHS/AZdwv+ODaL/FcGC/p11YvzZnXL82Z1y/Nmdcv8VwYL/FcGC/NmdcvzZnXL82Z1y/xXBgv8VwYL/FcGC/VHpkv+ODaL9yjWy/co1svwGXcL8Bl3C/AZdwvwGXcL9yjWy/co1sv3KNbL8fqni/rrN8v55egL+eXoC/nl6Av55egL+eXoC/ZWOCvy1ohL8taIS/LWiEvy1ohL9lY4K/ZWOCv2Vjgr9lY4K/nl6Av55egL+eXoC/rrN8vx+qeL8fqni/kKB0v5CgdL+QoHS/H6p4vx+qeL8fqni/H6p4vx+qeL+us3y/rrN8v55egL+eXoC/nl6Av55egL+eXoC/nl6Av2Vjgr9lY4K/ZWOCv55egL+eXoC/rrN8vx+qeL8fqni/H6p4vx+qeL+QoHS/kKB0v5CgdL8Bl3C/kKB0v5CgdL8fqni/H6p4v66zfL9lY4K/nl6Av66zfL+eXoC/nl6Av55egL+eXoC/H6p4v3KNbL8Bl3C/AZdwv5CgdL+us3y/nl6Avx+qeL9yjWy/44Nov+ODaL9yjWy/rrN8v/Rshr+8cYi/9GyGv55egL8fqni/H6p4vx+qeL8fqni/kKB0vwGXcL9yjWy/co1sv3KNbL/jg2i/VHpkv1R6ZL/jg2i/AZdwv5CgdL8fqni/H6p4v66zfL8fqni/kKB0v5CgdL8Bl3C/co1sv3KNbL8Bl3C/rrN8vx+qeL8Bl3C/VHpkv+ODaL9yjWy/AZdwv5CgdL8fqni/nl6Av2Vjgr9lY4K/ZWOCv2Vjgr9lY4K/ZWOCv66zfL+QoHS/kKB0v5CgdL+QoHS/H6p4v66zfL8fqni/rrN8v55egL+us3y/rrN8vx+qeL8fqni/AZdwv3KNbL/jg2i/VHpkv1R6ZL/jg2i/44Nov+ODaL/jg2i/44Nov3KNbL9yjWy/co1sv3KNbL8Bl3C/AZdwv5CgdL+QoHS/kKB0vwGXcL8Bl3C/co1sv1R6ZL9UemS/44Nov1R6ZL/jg2i/co1sv5CgdL+us3y/rrN8v2Vjgr9lY4K/ZWOCv55egL8fqni/44Nov8VwYL82Z1y/Nmdcv+ODaL8fqni/rrN8v66zfL8Bl3C/44Nov8VwYL+QoHS/oYmSv7+cmr/0bIa/MJOWvxKAjr+Ddoq/g3aKvy1ohL9lY4K/rrN8v5CgdL9yjWy/AZdwv3KNbL9UemS/xXBgv8VwYL/FcGC/Nmdcv6ddWL+nXVi/GFRUvxhUVL+nXVi/NmdcvzZnXL82Z1y/xXBgv1R6ZL/jg2i/co1sv3KNbL8Bl3C/H6p4v55egL+eXoC/rrN8vx+qeL8fqni/kKB0vx+qeL8fqni/rrN8v2Vjgr8taIS/9GyGv/Rshr+8cYi/9GyGvy1ohL9lY4K/rrN8v66zfL8fqni/kKB0v5CgdL8fqni/H6p4v66zfL+us3y/H6p4vx+qeL8fqni/kKB0v3KNbL/jg2i/44Nov+ODaL/jg2i/44Nov1R6ZL/jg2i/AZdwv5CgdL8fqni/rrN8v66zfL8fqni/H6p4vx+qeL8fqni/H6p4vx+qeL8fqni/H6p4v66zfL+eXoC/LWiEv/Rshr/0bIa/LWiEvy1ohL9lY4K/ZWOCv55egL+us3y/rrN8v66zfL8fqni/kKB0vwGXcL8Bl3C/AZdwvwGXcL8Bl3C/co1svwGXcL9yjWy/AZdwvwGXcL8Bl3C/kKB0v5CgdL+QoHS/AZdwvwGXcL8Bl3C/AZdwvwGXcL+QoHS/kKB0v5CgdL+QoHS/AZdwv3KNbL9yjWy/co1svwGXcL8Bl3C/AZdwvx+qeL8Bl3C/AZdwv5CgdL+QoHS/AZdwv5CgdL+QoHS/kKB0v5CgdL+QoHS/H6p4vx+qeL8fqni/rrN8vx+qeL8fqni/H6p4v5CgdL+QoHS/H6p4vx+qeL+us3y/rrN8vx+qeL8fqni/H6p4vx+qeL8fqni/H6p4v5CgdL+QoHS/kKB0v5CgdL+QoHS/kKB0v5CgdL8Bl3C/AZdwvwGXcL8Bl3C/AZdwvwGXcL8Bl3C/kKB0v5CgdL+QoHS/kKB0v5CgdL+QoHS/kKB0v5CgdL+QoHS/H6p4vx+qeL8fqni/kKB0v5CgdL+QoHS/kKB0vx+qeL8fqni/H6p4v66zfL+us3y/H6p4vx+qeL8fqni/H6p4vx+qeL8fqni/H6p4vx+qeL+QoHS/kKB0v5CgdL+QoHS/kKB0v5CgdL8fqni/H6p4vx+qeL8fqni/H6p4vx+qeL8fqni/H6p4vx+qeL+QoHS/AZdwvwGXcL8Bl3C/kKB0v5CgdL+QoHS/kKB0v5CgdL8fqni/H6p4vx+qeL8fqni/kKB0v5CgdL+QoHS/kKB0vw==",
          "dtype": "f4"
         },
         "yaxis": "y10"
        },
        {
         "line": {
          "color": "blue",
          "width": 1
         },
         "mode": "lines",
         "opacity": 0.7,
         "showlegend": false,
         "type": "scatter",
         "x": {
          "bdata": "AAAAAAAAAAACSAHNIICEPwJIAc0ggJQ/A+yBMzHAnj8CSAHNIICkPwKaQQApoKk/A+yBMzHArj8CH2GzHPCxPwJIAc0ggLQ/AnGh5iQQtz8CmkEAKaC5PwPD4RktMLw/A+yBMzHAvj+CCpGmGqjAPwIfYbMc8ME/gjMxwB44wz8CSAHNIIDEP4Jc0dkiyMU/AnGh5iQQxz+ChXHzJljIPwKaQQApoMk/g64RDSvoyj8Dw+EZLTDMP4PXsSYveM0/A+yBMzHAzj9CACmgGQTQP4IKkaYaqNA/whT5rBtM0T8CH2GzHPDRP0IpybkdlNI/gjMxwB440z/CPZnGH9zTPwJIAc0ggNQ/QlJp0yEk1T+CXNHZIsjVP8JmOeAjbNY/AnGh5iQQ1z9CewntJbTXP4KFcfMmWNg/wo/Z+Sf82D8CmkEAKaDZP0OkqQYqRNo/g64RDSvo2j/DuHkTLIzbPwPD4RktMNw/Q81JIC7U3D+D17EmL3jdP8PhGS0wHN4/A+yBMzHA3j9D9uk5MmTfP0IAKaAZBOA/YgVdIxpW4D+CCpGmGqjgP6IPxSkb+uA/whT5rBtM4T/iGS0wHJ7hPwIfYbMc8OE/IiSVNh1C4j9CKcm5HZTiP2Iu/Twe5uI/gjMxwB444z+iOGVDH4rjP8I9mcYf3OM/4kLNSSAu5D8CSAHNIIDkPyJNNVAh0uQ/QlJp0yEk5T9iV51WInblP4Jc0dkiyOU/omEFXSMa5j/CZjngI2zmP+JrbWMkvuY/AnGh5iQQ5z8idtVpJWLnP0J7Ce0ltOc/YoA9cCYG6D+ChXHzJljoP6KKpXYnqug/wo/Z+Sf86D/ilA19KE7pPwKaQQApoOk/I591gyny6T9DpKkGKkTqP2Op3Ykqluo/g64RDSvo6j+js0WQKzrrP8O4eRMsjOs/472tlize6z8Dw+EZLTDsPyPIFZ0tguw/Q81JIC7U7D9j0n2jLibtP4PXsSYveO0/o9zlqS/K7T/D4RktMBzuP+PmTbAwbu4/A+yBMzHA7j8j8bW2MRLvP0P26TkyZO8/Y/sdvTK27z9CACmgGQTwP9ICw+EZLfA/YgVdIxpW8D/yB/dkGn/wP4IKkaYaqPA/Eg0r6BrR8D+iD8UpG/rwPzISX2sbI/E/whT5rBtM8T9SF5PuG3XxP+IZLTAcnvE/chzHcRzH8T8CH2GzHPDxP5Ih+/QcGfI/IiSVNh1C8j+yJi94HWvyP0IpybkdlPI/0itj+x298j9iLv08HubyP/Iwl34eD/M/gjMxwB448z8SNssBH2HzP6I4ZUMfivM/Mjv/hB+z8z/CPZnGH9zzP1JAMwggBfQ/4kLNSSAu9D9yRWeLIFf0PwJIAc0ggPQ/kkqbDiGp9D8iTTVQIdL0P7JPz5Eh+/Q/QlJp0yEk9T/SVAMVIk31P2JXnVYidvU/8lk3mCKf9T+CXNHZIsj1PxJfaxsj8fU/omEFXSMa9j8yZJ+eI0P2P8JmOeAjbPY/UmnTISSV9j/ia21jJL72P3JuB6Uk5/Y/AnGh5iQQ9z+SczsoJTn3PyJ21WklYvc/snhvqyWL9z9CewntJbT3P9J9oy4m3fc/YoA9cCYG+D/ygtexJi/4P4KFcfMmWPg/EogLNSeB+D+iiqV2J6r4PzKNP7gn0/g/wo/Z+Sf8+D9SknM7KCX5P+KUDX0oTvk/cpenvih3+T8CmkEAKaD5P5Oc20Epyfk/I591gyny+T+zoQ/FKRv6P0OkqQYqRPo/06ZDSCpt+j9jqd2JKpb6P/Ord8sqv/o/g64RDSvo+j8TsatOKxH7P6OzRZArOvs/M7bf0Stj+z/DuHkTLIz7P1O7E1Ustfs/472tlize+z9zwEfYLAf8PwPD4RktMPw/k8V7Wy1Z/D8jyBWdLYL8P7PKr94tq/w/Q81JIC7U/D/Tz+NhLv38P2PSfaMuJv0/89QX5S5P/T+D17EmL3j9PxPaS2gvof0/o9zlqS/K/T8z33/rL/P9P8PhGS0wHP4/U+SzbjBF/j/j5k2wMG7+P3Pp5/Ewl/4/A+yBMzHA/j+T7ht1Men+PyPxtbYxEv8/s/NP+DE7/z9D9uk5MmT/P9P4g3syjf8/Y/sdvTK2/z/z/bf+Mt//P0IAKaAZBABAigH2wJkYAEDSAsPhGS0AQBoEkAKaQQBAYgVdIxpWAECqBipEmmoAQPIH92QafwBAOgnEhZqTAECCCpGmGqgAQMoLXseavABAEg0r6BrRAEBaDvgIm+UAQKIPxSkb+gBA6hCSSpsOAUAyEl9rGyMBQHoTLIybNwFAwhT5rBtMAUAKFsbNm2ABQFIXk+4bdQFAmhhgD5yJAUDiGS0wHJ4BQCob+lCcsgFAchzHcRzHAUC6HZSSnNsBQAIfYbMc8AFASiAu1JwEAkCSIfv0HBkCQNoiyBWdLQJAIiSVNh1CAkBqJWJXnVYCQLImL3gdawJA+if8mJ1/AkBCKcm5HZQCQIoqltqdqAJA0itj+x29AkAaLTAcntECQGIu/Twe5gJAqi/KXZ76AkDyMJd+Hg8DQDoyZJ+eIwNAgjMxwB44A0DKNP7gnkwDQBI2ywEfYQNAWjeYIp91A0CiOGVDH4oDQOo5MmSfngNAMjv/hB+zA0B6PMyln8cDQMI9mcYf3ANACj9m55/wA0BSQDMIIAUEQJpBACmgGQRA4kLNSSAuBEAqRJpqoEIEQHJFZ4sgVwRAukY0rKBrBEACSAHNIIAEQEpJzu2glARAkkqbDiGpBEDaS2gvob0EQCJNNVAh0gRAak4CcaHmBECyT8+RIfsEQPpQnLKhDwVAQlJp0yEkBUCKUzb0oTgFQNJUAxUiTQVAGlbQNaJhBUBiV51WInYFQKpYaneiigVA8lk3mCKfBUA6WwS5orMFQIJc0dkiyAVAyl2e+qLcBUASX2sbI/EFQFpgODyjBQZAomEFXSMaBkDqYtJ9oy4GQDJkn54jQwZAemVsv6NXBkDCZjngI2wGQApoBgGkgAZAUmnTISSVBkCaaqBCpKkGQOJrbWMkvgZAKm06hKTSBkBybgelJOcGQLpv1MWk+wZAAnGh5iQQB0BKcm4HpSQHQJJzOyglOQdA2nQISaVNB0AidtVpJWIHQGp3ooqldgdAsnhvqyWLB0D6eTzMpZ8HQEJ7Ce0ltAdAinzWDabIB0DSfaMuJt0HQBp/cE+m8QdAYoA9cCYGCECqgQqRphoIQPKC17EmLwhAOoSk0qZDCECChXHzJlgIQMqGPhSnbAhAEogLNSeBCEBaidhVp5UIQKKKpXYnqghA6otyl6e+CEAyjT+4J9MIQHqODNmn5whAwo/Z+Sf8CEAKkaYaqBAJQFKSczsoJQlAmpNAXKg5CUDilA19KE4JQCqW2p2oYglAcpenvih3CUC6mHTfqIsJQAKaQQApoAlAS5sOIam0CUCTnNtBKckJQNudqGKp3QlAI591gynyCUBroEKkqQYKQLOhD8UpGwpA+6Lc5akvCkBDpKkGKkQKQIuldieqWApA06ZDSCptCkAbqBBpqoEKQGOp3YkqlgpAq6qqqqqqCkDzq3fLKr8KQDutROyq0wpAg64RDSvoCkDLr94tq/wKQBOxq04rEQtAW7J4b6slC0Cjs0WQKzoLQOu0ErGrTgtAM7bf0StjC0B7t6zyq3cLQMO4eRMsjAtAC7pGNKygC0BTuxNVLLULQJu84HWsyQtA472tlizeC0Arv3q3rPILQHPAR9gsBwxAu8EU+awbDEADw+EZLTAMQEvErjqtRAxAk8V7Wy1ZDEDbxkh8rW0MQCPIFZ0tggxAa8niva2WDECzyq/eLasMQPvLfP+tvwxAQ81JIC7UDECLzhZBrugMQNPP42Eu/QxAG9Gwgq4RDUBj0n2jLiYNQKvTSsSuOg1A89QX5S5PDUA71uQFr2MNQIPXsSYveA1Ay9h+R6+MDUAT2ktoL6ENQFvbGImvtQ1Ao9zlqS/KDUDr3bLKr94NQDPff+sv8w1Ae+BMDLAHDkDD4RktMBwOQAvj5k2wMA5AU+SzbjBFDkCb5YCPsFkOQOPmTbAwbg5AK+ga0bCCDkBz6efxMJcOQLvqtBKxqw5AA+yBMzHADkBL7U5UsdQOQJPuG3Ux6Q5A2+/olbH9DkAj8bW2MRIPQGvygtexJg9As/NP+DE7D0D79BwZsk8PQEP26TkyZA9Ai/e2WrJ4D0DT+IN7Mo0PQBv6UJyyoQ9AY/sdvTK2D0Cr/OrdssoPQPP9t/4y3w9AO/+EH7PzD0BCACmgGQQQQOaAj7BZDhBAigH2wJkYEEAuglzR2SIQQNICw+EZLRBAdoMp8lk3EEAaBJACmkEQQL6E9hLaSxBAYgVdIxpWEEAGhsMzWmAQQKoGKkSaahBAToeQVNp0EEDyB/dkGn8QQJaIXXVaiRBAOgnEhZqTEEDeiSqW2p0QQIIKkaYaqBBAJov3tlqyEEDKC17HmrwQQG6MxNfaxhBAEg0r6BrREEC2jZH4WtsQQFoO+Aib5RBA/o5eGdvvEECiD8UpG/oQQEaQKzpbBBFA6hCSSpsOEUCOkfha2xgRQDISX2sbIxFA1pLFe1stEUB6EyyMmzcRQB6UkpzbQRFAwhT5rBtMEUBmlV+9W1YRQAoWxs2bYBFArpYs3ttqEUBSF5PuG3URQPaX+f5bfxFAmhhgD5yJEUA+mcYf3JMRQOIZLTAcnhFAhpqTQFyoEUAqG/pQnLIRQM6bYGHcvBFAchzHcRzHEUAWnS2CXNERQLodlJKc2xFAXp76otzlEUACH2GzHPARQKafx8Nc+hFASiAu1JwEEkDuoJTk3A4SQJIh+/QcGRJANqJhBV0jEkDaIsgVnS0SQH6jLibdNxJAIiSVNh1CEkDGpPtGXUwSQGolYledVhJADqbIZ91gEkCyJi94HWsSQFanlYhddRJA+if8mJ1/EkCeqGKp3YkSQEIpybkdlBJA5qkvyl2eEkCKKpbanagSQC6r/OrdshJA0itj+x29EkB2rMkLXscSQBotMBye0RJAvq2WLN7bEkBiLv08HuYSQAavY01e8BJAqi/KXZ76EkBOsDBu3gQTQPIwl34eDxNAlrH9jl4ZE0A6MmSfniMTQN6yyq/eLRNAgjMxwB44E0AmtJfQXkITQMo0/uCeTBNAbrVk8d5WE0ASNssBH2ETQLa2MRJfaxNAWjeYIp91E0D+t/4y338TQKI4ZUMfihNARrnLU1+UE0DqOTJkn54TQI66mHTfqBNAMjv/hB+zE0DWu2WVX70TQHo8zKWfxxNAHr0ytt/RE0DCPZnGH9wTQGa+/9Zf5hNACj9m55/wE0Cuv8z33/oTQFJAMwggBRRA9sCZGGAPFECaQQApoBkUQD7CZjngIxRA4kLNSSAuFECGwzNaYDgUQCpEmmqgQhRAzsQAe+BMFEByRWeLIFcUQBbGzZtgYRRAukY0rKBrFEBex5q84HUUQAJIAc0ggBRApshn3WCKFEBKSc7toJQUQO7JNP7gnhRAkkqbDiGpFEA2ywEfYbMUQNpLaC+hvRRAfszOP+HHFEAiTTVQIdIUQMbNm2Bh3BRAak4CcaHmFEAOz2iB4fAUQLJPz5Eh+xRAVtA1omEFFUD6UJyyoQ8VQJ7RAsPhGRVAQlJp0yEkFUDm0s/jYS4VQIpTNvShOBVALtScBOJCFUDSVAMVIk0VQHbVaSViVxVAGlbQNaJhFUC+1jZG4msVQGJXnVYidhVABtgDZ2KAFUCqWGp3oooVQE7Z0IfilBVA8lk3mCKfFUCW2p2oYqkVQDpbBLmisxVA3ttqyeK9FUCCXNHZIsgVQCbdN+pi0hVAyl2e+qLcFUBu3gQL4+YVQBJfaxsj8RVAtt/RK2P7FUBaYDg8owUWQP7gnkzjDxZAomEFXSMaFkBG4mttYyQWQOpi0n2jLhZAjuM4juM4FkAyZJ+eI0MWQNbkBa9jTRZAemVsv6NXFkAe5tLP42EWQMJmOeAjbBZAZuef8GN2FkAKaAYBpIAWQK7obBHkihZAUmnTISSVFkD26TkyZJ8WQJpqoEKkqRZAPusGU+SzFkDia21jJL4WQIbs03NkyBZAKm06hKTSFkDO7aCU5NwWQHJuB6Uk5xZAFu9ttWTxFkC6b9TFpPsWQF7wOtbkBRdAAnGh5iQQF0Cm8Qf3ZBoXQEpybgelJBdA7vLUF+UuF0CSczsoJTkXQDb0oThlQxdA2nQISaVNF0B+9W5Z5VcXQCJ21WklYhdAxvY7emVsF0Bqd6KKpXYXQA74CJvlgBdAsnhvqyWLF0BW+dW7ZZUXQPp5PMylnxdAnvqi3OWpF0BCewntJbQXQOb7b/1lvhdAinzWDabIF0Au/Twe5tIXQNJ9oy4m3RdAdv4JP2bnF0Aaf3BPpvEXQL7/1l/m+xdAYoA9cCYGGEAGAaSAZhAYQKqBCpGmGhhATgJxoeYkGEDygtexJi8YQJYDPsJmORhAOoSk0qZDGEDeBAvj5k0YQIKFcfMmWBhAJgbYA2diGEDKhj4Up2wYQG4HpSTndhhAEogLNSeBGEC2CHJFZ4sYQFqJ2FWnlRhA/gk/ZuefGECiiqV2J6oYQEYLDIdntBhA6otyl6e+GECODNmn58gYQDKNP7gn0xhA1g2myGfdGEB6jgzZp+cYQB4Pc+nn8RhAwo/Z+Sf8GEBmEEAKaAYZQAqRphqoEBlArhENK+gaGUBSknM7KCUZQPYS2ktoLxlAmpNAXKg5GUA+FKds6EMZQOKUDX0oThlAhhV0jWhYGUAqltqdqGIZQM4WQa7obBlAcpenvih3GUAWGA7PaIEZQLqYdN+oixlAXhnb7+iVGUACmkEAKaAZQKcaqBBpqhlAS5sOIam0GUDvG3Ux6b4ZQJOc20EpyRlANx1CUmnTGUDbnahiqd0ZQH8eD3Pp5xlAI591gynyGUDHH9yTafwZQGugQqSpBhpADyGptOkQGkCzoQ/FKRsaQFcidtVpJRpA+6Lc5akvGkCfI0P26TkaQEOkqQYqRBpA5yQQF2pOGkCLpXYnqlgaQC8m3TfqYhpA06ZDSCptGkB3J6pYancaQBuoEGmqgRpAvyh3eeqLGkBjqd2JKpYaQAcqRJpqoBpAq6qqqqqqGkBPKxG76rQaQPOrd8sqvxpAlyze22rJGkA7rUTsqtMaQN8tq/zq3RpAg64RDSvoGkAnL3gda/IaQMuv3i2r/BpAbzBFPusGG0ATsatOKxEbQLcxEl9rGxtAW7J4b6slG0D/Mt9/6y8bQKOzRZArOhtARzSsoGtEG0DrtBKxq04bQI81ecHrWBtAM7bf0StjG0DXNkbia20bQHu3rPKrdxtAHzgTA+yBG0DDuHkTLIwbQGc54CNslhtAC7pGNKygG0CvOq1E7KobQFO7E1UstRtA9zt6ZWy/G0CbvOB1rMkbQD89R4bs0xtA472tlizeG0CHPhSnbOgbQCu/eres8htAzz/hx+z8G0BzwEfYLAccQBdBruhsERxAu8EU+awbHEBfQnsJ7SUcQAPD4RktMBxAp0NIKm06HEBLxK46rUQcQO9EFUvtThxAk8V7Wy1ZHEA3RuJrbWMcQNvGSHytbRxAf0evjO13HEAjyBWdLYIcQMdIfK1tjBxAa8niva2WHEAPSknO7aAcQLPKr94tqxxAV0sW7221HED7y3z/rb8cQJ9M4w/uyRxAQ81JIC7UHEDnTbAwbt4cQIvOFkGu6BxAL099Ue7yHEDTz+NhLv0cQHdQSnJuBx1AG9Gwgq4RHUC/UReT7hsdQGPSfaMuJh1AB1Pks24wHUCr00rErjodQE9UsdTuRB1A89QX5S5PHUCXVX71blkdQDvW5AWvYx1A31ZLFu9tHUCD17EmL3gdQCdYGDdvgh1Ay9h+R6+MHUBvWeVX75YdQBPaS2gvoR1At1qyeG+rHUBb2xiJr7UdQP9bf5nvvx1Ao9zlqS/KHUBHXUy6b9QdQOvdssqv3h1Aj14Z2+/oHUAz33/rL/MdQNdf5vtv/R1Ae+BMDLAHHkAfYbMc8BEeQMPhGS0wHB5AZ2KAPXAmHkAL4+ZNsDAeQK9jTV7wOh5AU+SzbjBFHkD3ZBp/cE8eQJvlgI+wWR5AP2bnn/BjHkDj5k2wMG4eQIdntMBweB5AK+ga0bCCHkDPaIHh8IweQHPp5/Ewlx5AF2pOAnGhHkC76rQSsaseQF9rGyPxtR5AA+yBMzHAHkCnbOhDccoeQEvtTlSx1B5A7221ZPHeHkCT7ht1MekeQDdvgoVx8x5A2+/olbH9HkB/cE+m8QcfQCPxtbYxEh9Ax3Ecx3EcH0Br8oLXsSYfQA9z6efxMB9As/NP+DE7H0BXdLYIckUfQPv0HBmyTx9An3WDKfJZH0BD9uk5MmQfQOd2UEpybh9Ai/e2WrJ4H0AveB1r8oIfQNP4g3syjR9Ad3nqi3KXH0Ab+lCcsqEfQL96t6zyqx9AY/sdvTK2H0AHfITNcsAfQKv86t2yyh9AT31R7vLUH0Dz/bf+Mt8fQJd+Hg9z6R9AO/+EH7PzH0Dff+sv8/0fQEIAKaAZBCBAlEBcqDkJIEDmgI+wWQ4gQDjBwrh5EyBAigH2wJkYIEDcQSnJuR0gQC6CXNHZIiBAgMKP2fknIEDSAsPhGS0gQCRD9uk5MiBAdoMp8lk3IEDIw1z6eTwgQBoEkAKaQSBAbETDCrpGIEC+hPYS2ksgQBDFKRv6UCBAYgVdIxpWIEC0RZArOlsgQAaGwzNaYCBAWMb2O3plIECqBipEmmogQPxGXUy6byBAToeQVNp0IECgx8Nc+nkgQPIH92QafyBAREgqbTqEIECWiF11WokgQOjIkH16jiBAOgnEhZqTIECMSfeNupggQN6JKpbanSBAMMpdnvqiIECCCpGmGqggQNRKxK46rSBAJov3tlqyIEB4yyq/ercgQMoLXseavCBAHEyRz7rBIEBujMTX2sYgQMDM99/6yyBAEg0r6BrRIEBkTV7wOtYgQLaNkfha2yBACM7EAHvgIEBaDvgIm+UgQKxOKxG76iBA/o5eGdvvIEBQz5Eh+/QgQKIPxSkb+iBA9E/4MTv/IEBGkCs6WwQhQJjQXkJ7CSFA6hCSSpsOIUA8UcVSuxMhQI6R+FrbGCFA4NErY/sdIUAyEl9rGyMhQIRSknM7KCFA1pLFe1stIUAo0/iDezIhQHoTLIybNyFAzFNflLs8IUAelJKc20EhQHDUxaT7RiFAwhT5rBtMIUAUVSy1O1EhQGaVX71bViFAuNWSxXtbIUAKFsbNm2AhQFxW+dW7ZSFArpYs3ttqIUAA11/m+28hQFIXk+4bdSFApFfG9jt6IUD2l/n+W38hQEjYLAd8hCFAmhhgD5yJIUDsWJMXvI4hQD6Zxh/ckyFAkNn5J/yYIUDiGS0wHJ4hQDRaYDg8oyFAhpqTQFyoIUDY2sZIfK0hQCob+lCcsiFAfFstWby3IUDOm2Bh3LwhQCDck2n8wSFAchzHcRzHIUDEXPp5PMwhQBadLYJc0SFAaN1ginzWIUC6HZSSnNshQAxex5q84CFAXp76otzlIUCw3i2r/OohQAIfYbMc8CFAVF+Uuzz1IUCmn8fDXPohQPjf+st8/yFASiAu1JwEIkCcYGHcvAkiQO6glOTcDiJAQOHH7PwTIkCSIfv0HBkiQORhLv08HiJANqJhBV0jIkCI4pQNfSgiQNoiyBWdLSJALGP7Hb0yIkB+oy4m3TciQNDjYS79PCJAIiSVNh1CIkB0ZMg+PUciQMak+0ZdTCJAGOUuT31RIkBqJWJXnVYiQLxllV+9WyJADqbIZ91gIkBg5vtv/WUiQLImL3gdayJABGdigD1wIkBWp5WIXXUiQKjnyJB9eiJA+if8mJ1/IkBMaC+hvYQiQJ6oYqndiSJA8OiVsf2OIkBCKcm5HZQiQJRp/ME9mSJA5qkvyl2eIkA46mLSfaMiQIoqltqdqCJA3GrJ4r2tIkAuq/zq3bIiQIDrL/P9tyJA0itj+x29IkAkbJYDPsIiQHasyQtexyJAyOz8E37MIkAaLTAcntEiQGxtYyS+1iJAvq2WLN7bIkAQ7sk0/uAiQGIu/Twe5iJAtG4wRT7rIkAGr2NNXvAiQFjvllV+9SJAqi/KXZ76IkD8b/1lvv8iQE6wMG7eBCNAoPBjdv4JI0DyMJd+Hg8jQERxyoY+FCNAlrH9jl4ZI0Do8TCXfh4jQDoyZJ+eIyNAjHKXp74oI0Dessqv3i0jQDDz/bf+MiNAgjMxwB44I0DUc2TIPj0jQCa0l9BeQiNAePTK2H5HI0DKNP7gnkwjQBx1Mem+USNAbrVk8d5WI0DA9Zf5/lsjQBI2ywEfYSNAZHb+CT9mI0C2tjESX2sjQAj3ZBp/cCNAWjeYIp91I0Csd8sqv3ojQP63/jLffyNAUPgxO/+EI0CiOGVDH4ojQPR4mEs/jyNARrnLU1+UI0CY+f5bf5kjQOo5MmSfniNAPHplbL+jI0COuph036gjQOD6y3z/rSNAMjv/hB+zI0CEezKNP7gjQNa7ZZVfvSNAKPyYnX/CI0B6PMyln8cjQMx8/62/zCNAHr0ytt/RI0Bw/WW+/9YjQMI9mcYf3CNAFH7Mzj/hI0Bmvv/WX+YjQLj+Mt9/6yNACj9m55/wI0Bcf5nvv/UjQK6/zPff+iNAAAAAAAAAJEA=",
          "dtype": "f8"
         },
         "xaxis": "x18",
         "y": {
          "bdata": "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",
          "dtype": "f4"
         },
         "yaxis": "y18"
        },
        {
         "line": {
          "color": "orange",
          "width": 1
         },
         "mode": "lines",
         "opacity": 0.7,
         "showlegend": false,
         "type": "scatter",
         "x": {
          "bdata": "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",
          "dtype": "f8"
         },
         "xaxis": "x2",
         "y": {
          "bdata": "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",
          "dtype": "f4"
         },
         "yaxis": "y2"
        },
        {
         "line": {
          "color": "orange",
          "width": 1
         },
         "mode": "lines",
         "opacity": 0.7,
         "showlegend": false,
         "type": "scatter",
         "x": {
          "bdata": "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",
          "dtype": "f8"
         },
         "xaxis": "x10",
         "y": {
          "bdata": "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",
          "dtype": "f4"
         },
         "yaxis": "y10"
        },
        {
         "line": {
          "color": "orange",
          "width": 1
         },
         "mode": "lines",
         "opacity": 0.7,
         "showlegend": false,
         "type": "scatter",
         "x": {
          "bdata": "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",
          "dtype": "f8"
         },
         "xaxis": "x18",
         "y": {
          "bdata": "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",
          "dtype": "f4"
         },
         "yaxis": "y18"
        },
        {
         "line": {
          "color": "blue",
          "width": 1
         },
         "mode": "lines",
         "opacity": 0.7,
         "showlegend": false,
         "type": "scatter",
         "x": {
          "bdata": "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",
          "dtype": "f8"
         },
         "xaxis": "x3",
         "y": {
          "bdata": "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",
          "dtype": "f4"
         },
         "yaxis": "y3"
        },
        {
         "line": {
          "color": "blue",
          "width": 1
         },
         "mode": "lines",
         "opacity": 0.7,
         "showlegend": false,
         "type": "scatter",
         "x": {
          "bdata": "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",
          "dtype": "f8"
         },
         "xaxis": "x11",
         "y": {
          "bdata": "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",
          "dtype": "f4"
         },
         "yaxis": "y11"
        },
        {
         "line": {
          "color": "blue",
          "width": 1
         },
         "mode": "lines",
         "opacity": 0.7,
         "showlegend": false,
         "type": "scatter",
         "x": {
          "bdata": "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",
          "dtype": "f8"
         },
         "xaxis": "x19",
         "y": {
          "bdata": "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",
          "dtype": "f4"
         },
         "yaxis": "y19"
        },
        {
         "line": {
          "color": "orange",
          "width": 1
         },
         "mode": "lines",
         "opacity": 0.7,
         "showlegend": false,
         "type": "scatter",
         "x": {
          "bdata": "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",
          "dtype": "f8"
         },
         "xaxis": "x3",
         "y": {
          "bdata": "f8acvqIn1r2guRq+Z5m0vnLUGb/22xW/X4q8vne3pL5vqKy+j+SMvo/kjL5Xe8S+HRL8voLyCb9y1Bm/3q4tv1KYOb9KiUG/xoFFv86QPb9itim//uoNv4oBAr9y1Bm/7swdv4oBAr93t6S+Z5m0vv7qDb9nmbS+b19Kvn/GnL6VJ3W/FZXIPjq0Mz8dpMA+Tf6QPl9BWr6C8gm/HRL8vs6QPb/mvSW/9tsVvx0S/L46tDM/IodLP5qO5j1qxSG/Nj/kvpfzhL6qV5q/VC6wvzKlOz/uzB2/Pk7cvi4w7L5Cekm/d7ekvh0S/L7+6g2/sNcKvpCbKr5Xe8S+HRL8vgb6Bb+C8gm/euMRv2rFIb/eri2/1p81v86QPb/eri2/gvIJvzY/5L4mIfS+/uoNv4oBAr9ObMy+Z5m0vl+KvL5firy+V3vEvj5O3L6KAQK/ctQZv2rFIb9qxSG/igECvy4w7L6C8gm/X4q8vkYwLr2AfTq+RjAuvQ5R3bxfQVq+b19Kvj4Fer7+6g2/QnpJv8aBRb+EiIC/JbO4PsQ0sT9S4Rs/KU1hvzlrUb9PI2q+b19KvpCbKr76Qoc9dnYPPcA3gzvAN4M7kJsqvnr9yb+H1ZS+AjGzPwIxsz9/xpy+l/OEvpUndb+dNm2//uoNv75yTb9SmDm/Z5m0vofVlL5Xe8S+igECvy4w7L5firy+b6isvmeZtL5ObMy+LjDsviYh9L5GXdS+Pk7cvv7qDb/+6g2/TmzMvofVlL5/xpy+d7ekvm+orL5ObMy+LjDsvh0S/L4G+gW/9tsVv1KYOb9Cekm/1p81v/7qDb8mIfS+JiH0viYh9L42P+S+Nj/kvne3pL7in5a9wmO2vYfVlL5vqKy+PgV6vgzPMj6ajuY95r0lv767Lz92dg89gvIJv3Z2Dz2iJ9a97swdv+a9Jb964xG/V3vEvm9fSr4FuG29/LBCPqIn1r26ysY92ganPYDr9b1Xe8S+Nj/kvvbbFb/WnzW/1p81v+7MHb/+6g2//uoNvwb6Bb8+Tty+b6isvl+KvL6C8gm/9tsVvx0S/L5GXdS+HRL8vgb6Bb9GXdS+f8acvne3pL5Xe8S+Z5m0vofVlL6H1ZS+j+SMvpfzhL53t6S+Pk7cviYh9L4mIfS+Nj/kviYh9L4dEvy+7swdv0qJQb85a1G/zpA9v/bbFb8G+gW/gvIJvzY/5L4+BXq+LjDsvj4Fer70WOg+rp0/Pw5R3bze9w8/HRL8vr5yTb+w1wq+dnYPPfRY6D70WOg+BbhtvR0S/L7in5a9PCkDPiwLEz6H1ZS+HO0iPsJjtr1GXdS+b19KvsA3gztObMy+Nj/kvl+KvL5/xpy+HRL8voLyCb9PI2q+sNcKvpfzhL5vqKy+X4q8viYh9L722xW/gvIJv/7qDb9apzG/Upg5v4LyCb+C8gm//uoNvx0S/L42P+S+X4q8vj4Fer6guRq+wmO2vYDr9b0OUd28HO0iPjwpAz48KQM+Tf6QPkXvmD42/k49kJsqvpCbKr5vX0q+X4q8vkZd1L5vqKy+f8acvmeZtL5firy+b6isvne3pL5vqKy+X4q8vl+KvL5ObMy+Nj/kvi4w7L5ObMy+h9WUvsJjtr0FuG29gH06vpfzhL5qDgQ/nn9PP7DXCr42P+S+h9WUvh0S/L6EiIC/PgV6vu4VAD/8sEI+f8acvoDr9b2iJ9a9gOv1vZqO5j3AN4M7DM8yPuxJ8D7kOvg+kJsqvvbbFb8AgYS/Wqcxv4/kjL7WnzW/V3vEviwLEz6guRq+LjDsvoB9Or5vX0q+Z5m0vh0S/L5firy+b6isvjY/5L5GXdS+l/OEvo/kjL5ObMy+TmzMvmeZtL4dEvy+gvIJv3LUGb9qxSG/igECv05szL5ObMy+l/OEvgW4bb3AN4M7wDeDO+Kflr0FuG29wDeDOwW4bb2w1wq+X0FavrDXCr6guRq+h9WUviYh9L5fQVq+d7ekvgb6Bb9apzG/3q4tv/bbFb+C8gm/BvoFvz5O3L5nmbS+Z5m0vkZd1L5itim/rVRdv5Undb8ZL3G/rVRdv0qJQb/eri2/9tsVvy4w7L6KAQK/rVRdvy5flr8mUJ6/BhS+vzTyz78+fYa/ctQZv2K2Kb8+fYa/TB+4v9AmtL98eYi/KU1hv4SIgL8hPmm/SolBv+a9Jb/+6g2/YrYpv0qJQb/OkD2/GS9xvwYUvr9h0OG/PAHIv7Jmkr8xXFm/SolBv0qJQb9apzG/3q4tvwb6Bb/uzB2/ESB5vyZQnr8mUJ6/hIiAv0qJQb9KiUG/rVRdv0qJQb9y1Bm/YrYpv75yTb+tVF2/QnpJv86QPb85a1G/pUVlv6VFZb8xXFm/QnpJv75yTb+1Y1W/Upg5v3rjEb/22xW/SolBvylNYb+lRWW/d7ekvooBAr+EiIC/6FOcv6JIor/QJrS/yBe8vyZQnr/OkD2/l/OEvvpChz0sCxM+RjAuvX/GnL53t6S+l/OEvpCbKr6Qmyq+l/OEvpfzhL4+BXq+Z5m0vooBAr9firy+4p+WvQ5R3bxfQVq+Pk7cvj5O3L7+6g2/7swdv1KYOb+VJ3W/qleav5Iqsr/IF7y/DiO2vyZQnr+dNm2/9tsVv05szL7mvSW/QMgBwCddOsBXtwrAOLkJwKSTHcBmlxvA+rwHwGHQ4b8GFL6/mjmqv9AmtL+iSKK/smaSv1w9qL+KG7q/JlCevyE+ab/eri2/LjDsvo/kjL4+BXq+Nj/kvmK2Kb/GgUW/vnJNv75yTb85a1G/MVxZvzFcWb/OkD2/9tsVv3rjEb9itim/1p81v2rFIb8G+gW/YrYpv8aBRb/eri2/7swdv/7qDb8mIfS+LjDsvj5O3L5firy+b6isvne3pL5/xpy+b6isvk5szL5ObMy+b6isvofVlL6P5Iy+j+SMvn/GnL5nmbS+Pk7cvooBAr9y1Bm/YrYpv2rFIb964xG/gvIJv3rjEb/eri2/IT5pvx5Bpr9h0OG/Apj/vwun97+Hn/u/QMgBwAun97+dwgTAR5kawAKY/7+SKrK/1p81v86QPb+EiIC/FjKuv+XX3b+fzOO/uPnLvx5Bpr/wYpS/fHmIv5Undb+lRWW/tWNVvzlrUb+1Y1W/xoFFv1KYOb9KiUG/pUVlvwCBhL8RIHm/lSd1v3x5iL98eYi/fHmIv4wYfb+1Y1W/1p81v3LUGb/mvSW/Wqcxv+7MHb/uzB2//uoNv3LUGb++ck2/AIGEvz59hr/ChIK/ESB5v4wYfb+6dYq/unWKvxkvcb/GgUW/gvIJv05szL5vqKy+X4q8vkZd1L4+Tty+Pk7cvk5szL5vqKy+Z5m0vk5szL5GXdS+Pk7cvi4w7L6C8gm/3q4tvzlrUb8ZL3G/AIGEv3x5iL+6dYq/8GKUv6JIor8OI7a/NPLPv2HQ4b8j1N+/7ebVvyvj17+PrvO/C6f3vzwByL8uX5a/dGqQv/BilL8AgYS/ESB5v3x5iL+qV5q/8GKUvxEgeb++ck2/3q4tv+7MHb8G+gW/Rl3Uvne3pL5nmbS+X4q8vne3pL5fQVq+sNcKvoDr9b2iJ9a9oifWvcJjtr2iJ9a9gOv1vbDXCr6Qmyq+TyNqvn/GnL5ObMy+HRL8vvbbFb9qxSG/7swdv4LyCb8mIfS+LjDsvooBAr/uzB2/tWNVv/hxjL/YNay/RBDAv1QusL/wYpS/hIiAv502bb8RIHm/+HGMv/BilL8+fYa/KU1hvylNYb/ChIK/Nm6Ov3RqkL8+fYa/kiqyvyHKAMDEm/2/zar1v4IMwr/wYpS/gvIJv5fzhL4uMOy+gvIJv2K2Kb+lRWW/ZEygv2RMoL9kTKC/DiO2vwYUvr/ChIK/BvoFvx0S/L6lRWW/2DWsv5Iqsr9kTKC/unWKvyE+ab/GgUW/zpA9v0J6Sb++ck2/lSd1v/BilL9sW5i/Pn2GvyE+ab9Cekm/1p81v2K2Kb9qxSG/YrYpv9afNb9Cekm/OWtRv86QPb964xG/igECv3LUGb9y1Bm/ctQZv+7MHb/mvSW/Upg5v75yTb8RIHm/AIGEv4SIgL+6dYq/Ll+Wv3RqkL/wYpS/qleav+hTnL+MGH2/1p81v4oBAr8uMOy+Rl3Uvne3pL5PI2q+PgV6vl9BWr6w1wq+4p+WveKflr2A6/W9X0Favne3pL5GXdS+igECvwb6Bb8dEvy+Nj/kvk5szL5ObMy+euMRvylNYb/wYpS/6FOcvzZujr+VJ3W/vnJNv2K2Kb/22xW/ctQZv2K2Kb9KiUG/KU1hvwCBhL98eYi/IT5pv0J6Sb/GgUW/Upg5v+a9Jb/WnzW/MVxZv502bb8ZL3G/woSCv/b1zb+KG7q/Wqcxv75yTb8AgYS/unWKvxYyrr+CDMK/JlCevxEgeb+MGH2/woSCv4SIgL+EiIC/lSd1v6VFZb+EiIC/nTZtv0qJQb9KiUG/xoFFvylNYb/ChIK/unWKvwCBhL+lRWW/pUVlv86QPb/uzB2/LjDsvk5szL6C8gm/7swdv3LUGb9apzG/vnJNv7VjVb+1Y1W/MVxZvyE+ab8RIHm/woSCv4SIgL8xXFm/tWNVvylNYb+tVF2/QnpJv1qnMb/eri2/1p81v1KYOb/GgUW/pUVlv4wYfb8hPmm/OWtRv75yTb/OkD2/5r0lv2K2Kb/OkD2/SolBv2K2Kb/22xW/BvoFvy4w7L4+Tty+Rl3Uvl+KvL5/xpy+h9WUvl+KvL4uMOy+BvoFv4LyCb8G+gW/HRL8viYh9L4uMOy+Nj/kvj5O3L4+Tty+HRL8voLyCb8G+gW/BvoFv/7qDb964xG/gvIJvy4w7L5Xe8S+Z5m0vld7xL4mIfS+YrYpv7VjVb8AgYS/6FOcv6JIor/wYpS/GS9xv8aBRb9SmDm/1p81v9afNb9SmDm/Upg5v86QPb8pTWG/woSCvwCBhL9qxSG/JlCevzi5CcCEiIC/ESB5v3RqkL98eYi/hIiAv5o5qr+KG7q/8GKUv3x5iL9cPai/VC6wv/hxjL8ZL3G/tWNVv1KYOb85a1G/JlCevzZujr/mvSW/LjDsvooBAr/eri2/1p81vy4w7L5firy+ctQZv4SIgL+iSKK/bFuYv75yTb964xG/LjDsvi4w7L42P+S+igECv3LUGb/eri2/5r0lv3rjEb964xG/YrYpv1KYOb85a1G/jBh9v3RqkL+MGH2/5r0lv05szL5PI2q+kJsqvoDr9b0FuG29DlHdvG7dnzz6Qoc92ganPTb+Tj3AN4M7BbhtvbDXCr5fQVq+PgV6vofVlL5ObMy+/uoNv86QPb+dNm2/hIiAvw==",
          "dtype": "f4"
         },
         "yaxis": "y3"
        },
        {
         "line": {
          "color": "orange",
          "width": 1
         },
         "mode": "lines",
         "opacity": 0.7,
         "showlegend": false,
         "type": "scatter",
         "x": {
          "bdata": "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",
          "dtype": "f8"
         },
         "xaxis": "x11",
         "y": {
          "bdata": "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",
          "dtype": "f4"
         },
         "yaxis": "y11"
        },
        {
         "line": {
          "color": "orange",
          "width": 1
         },
         "mode": "lines",
         "opacity": 0.7,
         "showlegend": false,
         "type": "scatter",
         "x": {
          "bdata": "AAAAAAAAAAACSAHNIICEPwJIAc0ggJQ/A+yBMzHAnj8CSAHNIICkPwKaQQApoKk/A+yBMzHArj8CH2GzHPCxPwJIAc0ggLQ/AnGh5iQQtz8CmkEAKaC5PwPD4RktMLw/A+yBMzHAvj+CCpGmGqjAPwIfYbMc8ME/gjMxwB44wz8CSAHNIIDEP4Jc0dkiyMU/AnGh5iQQxz+ChXHzJljIPwKaQQApoMk/g64RDSvoyj8Dw+EZLTDMP4PXsSYveM0/A+yBMzHAzj9CACmgGQTQP4IKkaYaqNA/whT5rBtM0T8CH2GzHPDRP0IpybkdlNI/gjMxwB440z/CPZnGH9zTPwJIAc0ggNQ/QlJp0yEk1T+CXNHZIsjVP8JmOeAjbNY/AnGh5iQQ1z9CewntJbTXP4KFcfMmWNg/wo/Z+Sf82D8CmkEAKaDZP0OkqQYqRNo/g64RDSvo2j/DuHkTLIzbPwPD4RktMNw/Q81JIC7U3D+D17EmL3jdP8PhGS0wHN4/A+yBMzHA3j9D9uk5MmTfP0IAKaAZBOA/YgVdIxpW4D+CCpGmGqjgP6IPxSkb+uA/whT5rBtM4T/iGS0wHJ7hPwIfYbMc8OE/IiSVNh1C4j9CKcm5HZTiP2Iu/Twe5uI/gjMxwB444z+iOGVDH4rjP8I9mcYf3OM/4kLNSSAu5D8CSAHNIIDkPyJNNVAh0uQ/QlJp0yEk5T9iV51WInblP4Jc0dkiyOU/omEFXSMa5j/CZjngI2zmP+JrbWMkvuY/AnGh5iQQ5z8idtVpJWLnP0J7Ce0ltOc/YoA9cCYG6D+ChXHzJljoP6KKpXYnqug/wo/Z+Sf86D/ilA19KE7pPwKaQQApoOk/I591gyny6T9DpKkGKkTqP2Op3Ykqluo/g64RDSvo6j+js0WQKzrrP8O4eRMsjOs/472tlize6z8Dw+EZLTDsPyPIFZ0tguw/Q81JIC7U7D9j0n2jLibtP4PXsSYveO0/o9zlqS/K7T/D4RktMBzuP+PmTbAwbu4/A+yBMzHA7j8j8bW2MRLvP0P26TkyZO8/Y/sdvTK27z9CACmgGQTwP9ICw+EZLfA/YgVdIxpW8D/yB/dkGn/wP4IKkaYaqPA/Eg0r6BrR8D+iD8UpG/rwPzISX2sbI/E/whT5rBtM8T9SF5PuG3XxP+IZLTAcnvE/chzHcRzH8T8CH2GzHPDxP5Ih+/QcGfI/IiSVNh1C8j+yJi94HWvyP0IpybkdlPI/0itj+x298j9iLv08HubyP/Iwl34eD/M/gjMxwB448z8SNssBH2HzP6I4ZUMfivM/Mjv/hB+z8z/CPZnGH9zzP1JAMwggBfQ/4kLNSSAu9D9yRWeLIFf0PwJIAc0ggPQ/kkqbDiGp9D8iTTVQIdL0P7JPz5Eh+/Q/QlJp0yEk9T/SVAMVIk31P2JXnVYidvU/8lk3mCKf9T+CXNHZIsj1PxJfaxsj8fU/omEFXSMa9j8yZJ+eI0P2P8JmOeAjbPY/UmnTISSV9j/ia21jJL72P3JuB6Uk5/Y/AnGh5iQQ9z+SczsoJTn3PyJ21WklYvc/snhvqyWL9z9CewntJbT3P9J9oy4m3fc/YoA9cCYG+D/ygtexJi/4P4KFcfMmWPg/EogLNSeB+D+iiqV2J6r4PzKNP7gn0/g/wo/Z+Sf8+D9SknM7KCX5P+KUDX0oTvk/cpenvih3+T8CmkEAKaD5P5Oc20Epyfk/I591gyny+T+zoQ/FKRv6P0OkqQYqRPo/06ZDSCpt+j9jqd2JKpb6P/Ord8sqv/o/g64RDSvo+j8TsatOKxH7P6OzRZArOvs/M7bf0Stj+z/DuHkTLIz7P1O7E1Ustfs/472tlize+z9zwEfYLAf8PwPD4RktMPw/k8V7Wy1Z/D8jyBWdLYL8P7PKr94tq/w/Q81JIC7U/D/Tz+NhLv38P2PSfaMuJv0/89QX5S5P/T+D17EmL3j9PxPaS2gvof0/o9zlqS/K/T8z33/rL/P9P8PhGS0wHP4/U+SzbjBF/j/j5k2wMG7+P3Pp5/Ewl/4/A+yBMzHA/j+T7ht1Men+PyPxtbYxEv8/s/NP+DE7/z9D9uk5MmT/P9P4g3syjf8/Y/sdvTK2/z/z/bf+Mt//P0IAKaAZBABAigH2wJkYAEDSAsPhGS0AQBoEkAKaQQBAYgVdIxpWAECqBipEmmoAQPIH92QafwBAOgnEhZqTAECCCpGmGqgAQMoLXseavABAEg0r6BrRAEBaDvgIm+UAQKIPxSkb+gBA6hCSSpsOAUAyEl9rGyMBQHoTLIybNwFAwhT5rBtMAUAKFsbNm2ABQFIXk+4bdQFAmhhgD5yJAUDiGS0wHJ4BQCob+lCcsgFAchzHcRzHAUC6HZSSnNsBQAIfYbMc8AFASiAu1JwEAkCSIfv0HBkCQNoiyBWdLQJAIiSVNh1CAkBqJWJXnVYCQLImL3gdawJA+if8mJ1/AkBCKcm5HZQCQIoqltqdqAJA0itj+x29AkAaLTAcntECQGIu/Twe5gJAqi/KXZ76AkDyMJd+Hg8DQDoyZJ+eIwNAgjMxwB44A0DKNP7gnkwDQBI2ywEfYQNAWjeYIp91A0CiOGVDH4oDQOo5MmSfngNAMjv/hB+zA0B6PMyln8cDQMI9mcYf3ANACj9m55/wA0BSQDMIIAUEQJpBACmgGQRA4kLNSSAuBEAqRJpqoEIEQHJFZ4sgVwRAukY0rKBrBEACSAHNIIAEQEpJzu2glARAkkqbDiGpBEDaS2gvob0EQCJNNVAh0gRAak4CcaHmBECyT8+RIfsEQPpQnLKhDwVAQlJp0yEkBUCKUzb0oTgFQNJUAxUiTQVAGlbQNaJhBUBiV51WInYFQKpYaneiigVA8lk3mCKfBUA6WwS5orMFQIJc0dkiyAVAyl2e+qLcBUASX2sbI/EFQFpgODyjBQZAomEFXSMaBkDqYtJ9oy4GQDJkn54jQwZAemVsv6NXBkDCZjngI2wGQApoBgGkgAZAUmnTISSVBkCaaqBCpKkGQOJrbWMkvgZAKm06hKTSBkBybgelJOcGQLpv1MWk+wZAAnGh5iQQB0BKcm4HpSQHQJJzOyglOQdA2nQISaVNB0AidtVpJWIHQGp3ooqldgdAsnhvqyWLB0D6eTzMpZ8HQEJ7Ce0ltAdAinzWDabIB0DSfaMuJt0HQBp/cE+m8QdAYoA9cCYGCECqgQqRphoIQPKC17EmLwhAOoSk0qZDCECChXHzJlgIQMqGPhSnbAhAEogLNSeBCEBaidhVp5UIQKKKpXYnqghA6otyl6e+CEAyjT+4J9MIQHqODNmn5whAwo/Z+Sf8CEAKkaYaqBAJQFKSczsoJQlAmpNAXKg5CUDilA19KE4JQCqW2p2oYglAcpenvih3CUC6mHTfqIsJQAKaQQApoAlAS5sOIam0CUCTnNtBKckJQNudqGKp3QlAI591gynyCUBroEKkqQYKQLOhD8UpGwpA+6Lc5akvCkBDpKkGKkQKQIuldieqWApA06ZDSCptCkAbqBBpqoEKQGOp3YkqlgpAq6qqqqqqCkDzq3fLKr8KQDutROyq0wpAg64RDSvoCkDLr94tq/wKQBOxq04rEQtAW7J4b6slC0Cjs0WQKzoLQOu0ErGrTgtAM7bf0StjC0B7t6zyq3cLQMO4eRMsjAtAC7pGNKygC0BTuxNVLLULQJu84HWsyQtA472tlizeC0Arv3q3rPILQHPAR9gsBwxAu8EU+awbDEADw+EZLTAMQEvErjqtRAxAk8V7Wy1ZDEDbxkh8rW0MQCPIFZ0tggxAa8niva2WDECzyq/eLasMQPvLfP+tvwxAQ81JIC7UDECLzhZBrugMQNPP42Eu/QxAG9Gwgq4RDUBj0n2jLiYNQKvTSsSuOg1A89QX5S5PDUA71uQFr2MNQIPXsSYveA1Ay9h+R6+MDUAT2ktoL6ENQFvbGImvtQ1Ao9zlqS/KDUDr3bLKr94NQDPff+sv8w1Ae+BMDLAHDkDD4RktMBwOQAvj5k2wMA5AU+SzbjBFDkCb5YCPsFkOQOPmTbAwbg5AK+ga0bCCDkBz6efxMJcOQLvqtBKxqw5AA+yBMzHADkBL7U5UsdQOQJPuG3Ux6Q5A2+/olbH9DkAj8bW2MRIPQGvygtexJg9As/NP+DE7D0D79BwZsk8PQEP26TkyZA9Ai/e2WrJ4D0DT+IN7Mo0PQBv6UJyyoQ9AY/sdvTK2D0Cr/OrdssoPQPP9t/4y3w9AO/+EH7PzD0BCACmgGQQQQOaAj7BZDhBAigH2wJkYEEAuglzR2SIQQNICw+EZLRBAdoMp8lk3EEAaBJACmkEQQL6E9hLaSxBAYgVdIxpWEEAGhsMzWmAQQKoGKkSaahBAToeQVNp0EEDyB/dkGn8QQJaIXXVaiRBAOgnEhZqTEEDeiSqW2p0QQIIKkaYaqBBAJov3tlqyEEDKC17HmrwQQG6MxNfaxhBAEg0r6BrREEC2jZH4WtsQQFoO+Aib5RBA/o5eGdvvEECiD8UpG/oQQEaQKzpbBBFA6hCSSpsOEUCOkfha2xgRQDISX2sbIxFA1pLFe1stEUB6EyyMmzcRQB6UkpzbQRFAwhT5rBtMEUBmlV+9W1YRQAoWxs2bYBFArpYs3ttqEUBSF5PuG3URQPaX+f5bfxFAmhhgD5yJEUA+mcYf3JMRQOIZLTAcnhFAhpqTQFyoEUAqG/pQnLIRQM6bYGHcvBFAchzHcRzHEUAWnS2CXNERQLodlJKc2xFAXp76otzlEUACH2GzHPARQKafx8Nc+hFASiAu1JwEEkDuoJTk3A4SQJIh+/QcGRJANqJhBV0jEkDaIsgVnS0SQH6jLibdNxJAIiSVNh1CEkDGpPtGXUwSQGolYledVhJADqbIZ91gEkCyJi94HWsSQFanlYhddRJA+if8mJ1/EkCeqGKp3YkSQEIpybkdlBJA5qkvyl2eEkCKKpbanagSQC6r/OrdshJA0itj+x29EkB2rMkLXscSQBotMBye0RJAvq2WLN7bEkBiLv08HuYSQAavY01e8BJAqi/KXZ76EkBOsDBu3gQTQPIwl34eDxNAlrH9jl4ZE0A6MmSfniMTQN6yyq/eLRNAgjMxwB44E0AmtJfQXkITQMo0/uCeTBNAbrVk8d5WE0ASNssBH2ETQLa2MRJfaxNAWjeYIp91E0D+t/4y338TQKI4ZUMfihNARrnLU1+UE0DqOTJkn54TQI66mHTfqBNAMjv/hB+zE0DWu2WVX70TQHo8zKWfxxNAHr0ytt/RE0DCPZnGH9wTQGa+/9Zf5hNACj9m55/wE0Cuv8z33/oTQFJAMwggBRRA9sCZGGAPFECaQQApoBkUQD7CZjngIxRA4kLNSSAuFECGwzNaYDgUQCpEmmqgQhRAzsQAe+BMFEByRWeLIFcUQBbGzZtgYRRAukY0rKBrFEBex5q84HUUQAJIAc0ggBRApshn3WCKFEBKSc7toJQUQO7JNP7gnhRAkkqbDiGpFEA2ywEfYbMUQNpLaC+hvRRAfszOP+HHFEAiTTVQIdIUQMbNm2Bh3BRAak4CcaHmFEAOz2iB4fAUQLJPz5Eh+xRAVtA1omEFFUD6UJyyoQ8VQJ7RAsPhGRVAQlJp0yEkFUDm0s/jYS4VQIpTNvShOBVALtScBOJCFUDSVAMVIk0VQHbVaSViVxVAGlbQNaJhFUC+1jZG4msVQGJXnVYidhVABtgDZ2KAFUCqWGp3oooVQE7Z0IfilBVA8lk3mCKfFUCW2p2oYqkVQDpbBLmisxVA3ttqyeK9FUCCXNHZIsgVQCbdN+pi0hVAyl2e+qLcFUBu3gQL4+YVQBJfaxsj8RVAtt/RK2P7FUBaYDg8owUWQP7gnkzjDxZAomEFXSMaFkBG4mttYyQWQOpi0n2jLhZAjuM4juM4FkAyZJ+eI0MWQNbkBa9jTRZAemVsv6NXFkAe5tLP42EWQMJmOeAjbBZAZuef8GN2FkAKaAYBpIAWQK7obBHkihZAUmnTISSVFkD26TkyZJ8WQJpqoEKkqRZAPusGU+SzFkDia21jJL4WQIbs03NkyBZAKm06hKTSFkDO7aCU5NwWQHJuB6Uk5xZAFu9ttWTxFkC6b9TFpPsWQF7wOtbkBRdAAnGh5iQQF0Cm8Qf3ZBoXQEpybgelJBdA7vLUF+UuF0CSczsoJTkXQDb0oThlQxdA2nQISaVNF0B+9W5Z5VcXQCJ21WklYhdAxvY7emVsF0Bqd6KKpXYXQA74CJvlgBdAsnhvqyWLF0BW+dW7ZZUXQPp5PMylnxdAnvqi3OWpF0BCewntJbQXQOb7b/1lvhdAinzWDabIF0Au/Twe5tIXQNJ9oy4m3RdAdv4JP2bnF0Aaf3BPpvEXQL7/1l/m+xdAYoA9cCYGGEAGAaSAZhAYQKqBCpGmGhhATgJxoeYkGEDygtexJi8YQJYDPsJmORhAOoSk0qZDGEDeBAvj5k0YQIKFcfMmWBhAJgbYA2diGEDKhj4Up2wYQG4HpSTndhhAEogLNSeBGEC2CHJFZ4sYQFqJ2FWnlRhA/gk/ZuefGECiiqV2J6oYQEYLDIdntBhA6otyl6e+GECODNmn58gYQDKNP7gn0xhA1g2myGfdGEB6jgzZp+cYQB4Pc+nn8RhAwo/Z+Sf8GEBmEEAKaAYZQAqRphqoEBlArhENK+gaGUBSknM7KCUZQPYS2ktoLxlAmpNAXKg5GUA+FKds6EMZQOKUDX0oThlAhhV0jWhYGUAqltqdqGIZQM4WQa7obBlAcpenvih3GUAWGA7PaIEZQLqYdN+oixlAXhnb7+iVGUACmkEAKaAZQKcaqBBpqhlAS5sOIam0GUDvG3Ux6b4ZQJOc20EpyRlANx1CUmnTGUDbnahiqd0ZQH8eD3Pp5xlAI591gynyGUDHH9yTafwZQGugQqSpBhpADyGptOkQGkCzoQ/FKRsaQFcidtVpJRpA+6Lc5akvGkCfI0P26TkaQEOkqQYqRBpA5yQQF2pOGkCLpXYnqlgaQC8m3TfqYhpA06ZDSCptGkB3J6pYancaQBuoEGmqgRpAvyh3eeqLGkBjqd2JKpYaQAcqRJpqoBpAq6qqqqqqGkBPKxG76rQaQPOrd8sqvxpAlyze22rJGkA7rUTsqtMaQN8tq/zq3RpAg64RDSvoGkAnL3gda/IaQMuv3i2r/BpAbzBFPusGG0ATsatOKxEbQLcxEl9rGxtAW7J4b6slG0D/Mt9/6y8bQKOzRZArOhtARzSsoGtEG0DrtBKxq04bQI81ecHrWBtAM7bf0StjG0DXNkbia20bQHu3rPKrdxtAHzgTA+yBG0DDuHkTLIwbQGc54CNslhtAC7pGNKygG0CvOq1E7KobQFO7E1UstRtA9zt6ZWy/G0CbvOB1rMkbQD89R4bs0xtA472tlizeG0CHPhSnbOgbQCu/eres8htAzz/hx+z8G0BzwEfYLAccQBdBruhsERxAu8EU+awbHEBfQnsJ7SUcQAPD4RktMBxAp0NIKm06HEBLxK46rUQcQO9EFUvtThxAk8V7Wy1ZHEA3RuJrbWMcQNvGSHytbRxAf0evjO13HEAjyBWdLYIcQMdIfK1tjBxAa8niva2WHEAPSknO7aAcQLPKr94tqxxAV0sW7221HED7y3z/rb8cQJ9M4w/uyRxAQ81JIC7UHEDnTbAwbt4cQIvOFkGu6BxAL099Ue7yHEDTz+NhLv0cQHdQSnJuBx1AG9Gwgq4RHUC/UReT7hsdQGPSfaMuJh1AB1Pks24wHUCr00rErjodQE9UsdTuRB1A89QX5S5PHUCXVX71blkdQDvW5AWvYx1A31ZLFu9tHUCD17EmL3gdQCdYGDdvgh1Ay9h+R6+MHUBvWeVX75YdQBPaS2gvoR1At1qyeG+rHUBb2xiJr7UdQP9bf5nvvx1Ao9zlqS/KHUBHXUy6b9QdQOvdssqv3h1Aj14Z2+/oHUAz33/rL/MdQNdf5vtv/R1Ae+BMDLAHHkAfYbMc8BEeQMPhGS0wHB5AZ2KAPXAmHkAL4+ZNsDAeQK9jTV7wOh5AU+SzbjBFHkD3ZBp/cE8eQJvlgI+wWR5AP2bnn/BjHkDj5k2wMG4eQIdntMBweB5AK+ga0bCCHkDPaIHh8IweQHPp5/Ewlx5AF2pOAnGhHkC76rQSsaseQF9rGyPxtR5AA+yBMzHAHkCnbOhDccoeQEvtTlSx1B5A7221ZPHeHkCT7ht1MekeQDdvgoVx8x5A2+/olbH9HkB/cE+m8QcfQCPxtbYxEh9Ax3Ecx3EcH0Br8oLXsSYfQA9z6efxMB9As/NP+DE7H0BXdLYIckUfQPv0HBmyTx9An3WDKfJZH0BD9uk5MmQfQOd2UEpybh9Ai/e2WrJ4H0AveB1r8oIfQNP4g3syjR9Ad3nqi3KXH0Ab+lCcsqEfQL96t6zyqx9AY/sdvTK2H0AHfITNcsAfQKv86t2yyh9AT31R7vLUH0Dz/bf+Mt8fQJd+Hg9z6R9AO/+EH7PzH0Dff+sv8/0fQEIAKaAZBCBAlEBcqDkJIEDmgI+wWQ4gQDjBwrh5EyBAigH2wJkYIEDcQSnJuR0gQC6CXNHZIiBAgMKP2fknIEDSAsPhGS0gQCRD9uk5MiBAdoMp8lk3IEDIw1z6eTwgQBoEkAKaQSBAbETDCrpGIEC+hPYS2ksgQBDFKRv6UCBAYgVdIxpWIEC0RZArOlsgQAaGwzNaYCBAWMb2O3plIECqBipEmmogQPxGXUy6byBAToeQVNp0IECgx8Nc+nkgQPIH92QafyBAREgqbTqEIECWiF11WokgQOjIkH16jiBAOgnEhZqTIECMSfeNupggQN6JKpbanSBAMMpdnvqiIECCCpGmGqggQNRKxK46rSBAJov3tlqyIEB4yyq/ercgQMoLXseavCBAHEyRz7rBIEBujMTX2sYgQMDM99/6yyBAEg0r6BrRIEBkTV7wOtYgQLaNkfha2yBACM7EAHvgIEBaDvgIm+UgQKxOKxG76iBA/o5eGdvvIEBQz5Eh+/QgQKIPxSkb+iBA9E/4MTv/IEBGkCs6WwQhQJjQXkJ7CSFA6hCSSpsOIUA8UcVSuxMhQI6R+FrbGCFA4NErY/sdIUAyEl9rGyMhQIRSknM7KCFA1pLFe1stIUAo0/iDezIhQHoTLIybNyFAzFNflLs8IUAelJKc20EhQHDUxaT7RiFAwhT5rBtMIUAUVSy1O1EhQGaVX71bViFAuNWSxXtbIUAKFsbNm2AhQFxW+dW7ZSFArpYs3ttqIUAA11/m+28hQFIXk+4bdSFApFfG9jt6IUD2l/n+W38hQEjYLAd8hCFAmhhgD5yJIUDsWJMXvI4hQD6Zxh/ckyFAkNn5J/yYIUDiGS0wHJ4hQDRaYDg8oyFAhpqTQFyoIUDY2sZIfK0hQCob+lCcsiFAfFstWby3IUDOm2Bh3LwhQCDck2n8wSFAchzHcRzHIUDEXPp5PMwhQBadLYJc0SFAaN1ginzWIUC6HZSSnNshQAxex5q84CFAXp76otzlIUCw3i2r/OohQAIfYbMc8CFAVF+Uuzz1IUCmn8fDXPohQPjf+st8/yFASiAu1JwEIkCcYGHcvAkiQO6glOTcDiJAQOHH7PwTIkCSIfv0HBkiQORhLv08HiJANqJhBV0jIkCI4pQNfSgiQNoiyBWdLSJALGP7Hb0yIkB+oy4m3TciQNDjYS79PCJAIiSVNh1CIkB0ZMg+PUciQMak+0ZdTCJAGOUuT31RIkBqJWJXnVYiQLxllV+9WyJADqbIZ91gIkBg5vtv/WUiQLImL3gdayJABGdigD1wIkBWp5WIXXUiQKjnyJB9eiJA+if8mJ1/IkBMaC+hvYQiQJ6oYqndiSJA8OiVsf2OIkBCKcm5HZQiQJRp/ME9mSJA5qkvyl2eIkA46mLSfaMiQIoqltqdqCJA3GrJ4r2tIkAuq/zq3bIiQIDrL/P9tyJA0itj+x29IkAkbJYDPsIiQHasyQtexyJAyOz8E37MIkAaLTAcntEiQGxtYyS+1iJAvq2WLN7bIkAQ7sk0/uAiQGIu/Twe5iJAtG4wRT7rIkAGr2NNXvAiQFjvllV+9SJAqi/KXZ76IkD8b/1lvv8iQE6wMG7eBCNAoPBjdv4JI0DyMJd+Hg8jQERxyoY+FCNAlrH9jl4ZI0Do8TCXfh4jQDoyZJ+eIyNAjHKXp74oI0Dessqv3i0jQDDz/bf+MiNAgjMxwB44I0DUc2TIPj0jQCa0l9BeQiNAePTK2H5HI0DKNP7gnkwjQBx1Mem+USNAbrVk8d5WI0DA9Zf5/lsjQBI2ywEfYSNAZHb+CT9mI0C2tjESX2sjQAj3ZBp/cCNAWjeYIp91I0Csd8sqv3ojQP63/jLffyNAUPgxO/+EI0CiOGVDH4ojQPR4mEs/jyNARrnLU1+UI0CY+f5bf5kjQOo5MmSfniNAPHplbL+jI0COuph036gjQOD6y3z/rSNAMjv/hB+zI0CEezKNP7gjQNa7ZZVfvSNAKPyYnX/CI0B6PMyln8cjQMx8/62/zCNAHr0ytt/RI0Bw/WW+/9YjQMI9mcYf3CNAFH7Mzj/hI0Bmvv/WX+YjQLj+Mt9/6yNACj9m55/wI0Bcf5nvv/UjQK6/zPff+iNAAAAAAAAAJEA=",
          "dtype": "f8"
         },
         "xaxis": "x19",
         "y": {
          "bdata": "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",
          "dtype": "f4"
         },
         "yaxis": "y19"
        },
        {
         "line": {
          "color": "blue",
          "width": 1
         },
         "mode": "lines",
         "opacity": 0.7,
         "showlegend": false,
         "type": "scatter",
         "x": {
          "bdata": "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",
          "dtype": "f8"
         },
         "xaxis": "x4",
         "y": {
          "bdata": "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",
          "dtype": "f4"
         },
         "yaxis": "y4"
        },
        {
         "line": {
          "color": "blue",
          "width": 1
         },
         "mode": "lines",
         "opacity": 0.7,
         "showlegend": false,
         "type": "scatter",
         "x": {
          "bdata": "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",
          "dtype": "f8"
         },
         "xaxis": "x12",
         "y": {
          "bdata": "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",
          "dtype": "f4"
         },
         "yaxis": "y12"
        },
        {
         "line": {
          "color": "blue",
          "width": 1
         },
         "mode": "lines",
         "opacity": 0.7,
         "showlegend": false,
         "type": "scatter",
         "x": {
          "bdata": "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",
          "dtype": "f8"
         },
         "xaxis": "x20",
         "y": {
          "bdata": "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",
          "dtype": "f4"
         },
         "yaxis": "y20"
        },
        {
         "line": {
          "color": "orange",
          "width": 1
         },
         "mode": "lines",
         "opacity": 0.7,
         "showlegend": false,
         "type": "scatter",
         "x": {
          "bdata": "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",
          "dtype": "f8"
         },
         "xaxis": "x4",
         "y": {
          "bdata": "twDnPRe1hz1w4k89F7WHPbBaED2QWYo7NfI4vOKloTzipaE8mojbvMUtlr2FtdW9hbXVvYW11b1jefW9oZ4KvnFEOr5xRDq+kYAavoW11b2l8bW9hbXVvYFiKr6BYiq+hbXVvcvTbL2aiNu8NfI4vJBZijvipaE84qWhPOKloTzipaE8kFmKOwxMLb2l8bW9hbXVvYW11b2FtdW9pfG1vcvTbL3FLZa9Y3n1vZGAGr5xRDq+gWIqvoW11b0MTC29NfI4vDXyOLyaiNu8y9NsvaXxtb2hngq+gWIqvpGAGr6hngq+gWIqvoFiKr6RgBq+pfG1vTXyOLywWhA9sFoQPZBZijvL02y9pfG1vWN59b2RgBq+cUQ6vkDqab4vzHm+QOppvnFEOr6hngq+hbXVvaXxtb3FLZa9DEwtvTXyOLyQWYo7kFmKO5qI27zFLZa9pfG1vWN59b2RgBq+UAhavkDqab5gJkq+kYAavmN59b1jefW9kYAavoFiKr6hngq+pfG1vcvTbL0MTC29y9NsvcUtlr3FLZa9xS2WvaXxtb2FtdW9hbXVvaGeCr6BYiq+YCZKvkDqab4Q14S+8Jqkvrcx3L6fBPS+nwT0vqcT7L7QXsS+QOppvqXxtb0MTC29y9NsvQxMLb1w4k89S2IDPktiAz4XtYc9sFoQPbBaED3ipaE8kFmKO5BZijvipaE84qWhPJBZijuQWYo7mojbvJqI27wMTC29DEwtvQxMLb0MTC29DEwtvZqI27yaiNu8DEwtvQxMLb3L02y9y9NsvQxMLb0MTC29y9NsvaXxtb2FtdW9Y3n1vWN59b1jefW9Y3n1vWN59b2l8bW9y9NsvcvTbL3L02y9xS2WvcUtlr3FLZa9y9NsvQxMLb2QWYo74qWhPOKloTzipaE84qWhPOKloTxw4k89F7WHPfd4pz33eKc91zzHPdc8xz33eKc993inPRe1hz1w4k89cOJPPbBaED3ipaE84qWhPHDiTz0XtYc9F7WHPXDiTz2wWhA9kFmKO8Utlr2RgBq+gWIqvoFiKr5QCFq+L8x5vi/Meb4vzHm+L8x5vi/Meb5A6mm+YCZKvoFiKr6RgBq+Y3n1vcUtlr2QWYo7cOJPPXDiTz2wWhA9sFoQPbBaED3ipaE84qWhPJBZijs18ji8NfI4vDXyOLw18ji8mojbvMvTbL3FLZa9xS2WvcvTbL3FLZa9pfG1vcUtlr2l8bW9hbXVvWN59b1jefW9kYAavkDqab5A6mm+UAhavnFEOr6BYiq+CMiMvrcx3L6fBPS+pxPsvtBexL74qZy+ALmUvlAIWr7FLZa9kFmKO5BZijs18ji8NfI4vDXyOLw18ji8kFmKO5BZijs18ji8mojbvJqI27wMTC29xS2WvaXxtb3L02y94qWhPNc8xz1LYgM+twDnPRe1hz2wWhA9kFmKO5qI27wMTC29y9NsvcvTbL3L02y9xS2WvYW11b2hngq+kYAavmN59b2FtdW9pfG1vcUtlr3FLZa9xS2WvQxMLb2QWYo74qWhPOKloTzipaE84qWhPBe1hz3XPMc993inPXDiTz2QWYo7mojbvAxMLb0MTC29y9NsvcUtlr2FtdW9hbXVvWN59b1jefW9hbXVvYW11b2RgBq+cUQ6vnFEOr6hngq+pfG1vQxMLb2QWYo7sFoQPfd4pz1LYgM+O0QTPktiAz7XPMc9sFoQPZqI27yl8bW9kYAavnFEOr5gJkq+cUQ6vqGeCr7FLZa9mojbvJqI27wMTC29DEwtveKloTwXtYc9cOJPPeKloTyQWYo74qWhPOKloTyQWYo7DEwtvWN59b2RgBq+kYAavqGeCr5jefW9pfG1vaXxtb2FtdW9pfG1vcUtlr2l8bW9Y3n1vaGeCr6hngq+Y3n1vYW11b2FtdW9oZ4KvlAIWr4IyIy+ENeEvlAIWr4vzHm+L8x5vmAmSr5xRDq+L8x5vi/Meb6BYiq+pfG1vcvTbL2aiNu8sFoQPbcA5z07RBM+GwgzPgvqQj4rJiM+twDnPdc8xz23AOc91zzHPbBaED2aiNu8pfG1vYW11b1jefW9Y3n1vaXxtb3L02y9xS2WvYW11b2FtdW9hbXVvaXxtb2l8bW9oZ4KvmAmSr6BYiq+Y3n1vcvTbL3L02y9Y3n1vXFEOr6BYiq+hbXVvcUtlr3FLZa9hbXVvcvTbL2QWYo7kFmKO5qI27zFLZa9xS2WvaXxtb2FtdW9Y3n1vYW11b2l8bW9hbXVvWN59b2FtdW9pfG1vcUtlr3L02y9xS2WvcUtlr3FLZa9DEwtvQxMLb2FtdW9oZ4KvqGeCr6RgBq+oZ4KvpGAGr6hngq+pfG1vQxMLb018ji8kFmKO3DiTz3XPMc9O0QTPismIz47RBM+93inPbBaED3ipaE8mojbvKXxtb1gJkq+QOppvmAmSr4MTC291zzHPSsmIz4rJiM+O0QTPktiAz63AOc91zzHPbcA5z33eKc9kFmKO4W11b1xRDq+QOppvgjIjL4AuZS+CMiMvgjIjL4Q14S+L8x5vkDqab6BYiq+oZ4KvmN59b2l8bW9pfG1vcvTbL3L02y9y9NsvcvTbL2l8bW9Y3n1vaGeCr5jefW9hbXVvYW11b1jefW9kYAavnFEOr5QCFq+UAhavoFiKr5jefW9NfI4vJBZijuaiNu8mojbvOKloTy3AOc9GwgzPjtEEz4XtYc9cOJPPRe1hz0XtYc9cOJPPXDiTz0XtYc9F7WHPRe1hz1w4k89cOJPPXDiTz2wWhA94qWhPLBaED2wWhA94qWhPOKloTzipaE8kFmKO5BZijuQWYo7mojbvAxMLb0MTC29DEwtvZqI27yaiNu8NfI4vJBZijtw4k89F7WHPRe1hz0XtYc9cOJPPbBaED2wWhA94qWhPDXyOLyaiNu8DEwtvQxMLb3L02y9pfG1vaXxtb3L02y9y9NsvcvTbL3L02y9DEwtvTXyOLyQWYo74qWhPLBaED3ipaE84qWhPJBZijsOWji83YmLO7qAED0cyIc9vBPnPb1NEz591VI+pT2BPp0uiT6lPYE+bbdiPs1rAz728aE8wBqWvf9YKr6twnm+T9KEvq3Ceb7O/lm+7zo6vh+VCr5eZvW9Xmb1vYCi1b3AGpa9AiYtvd2Jizv28aE89vGhPPbxoTy6gBA93YmLOw5aOLyGPNu8Dlo4vN2Jizv28aE8uoAQPXoIUD3cT8c9zWsDPr1NEz6tLyM+vU0TPtxPxz3cT8c93E/HPfyLpz3cT8c9vBPnPc1rAz7NawM+/IunPfbxoTwCJi29Xmb1vQ93Gr6g3rW9wBqWvR+VCr4flQq+Xmb1vf9YKr6+4Gm+7zo6vqDetb0OWji89vGhPLqAED26gBA93YmLO4Y827yGPNu83YmLO/bxoTwOWji8oN61vaDetb3BrWy9hjzbvAImLb2GPNu83YmLO92JizsOWji8hjzbvA5aOLzdiYs7Dlo4vAImLb3AGpa9oN61vaDetb3AGpa9oN61vYCi1b2g3rW9hjzbvN2JizvdiYs73YmLO/bxoTx6CFA9/IunPdxPxz3NawM+zWsDPrwT5z3cT8c9/IunPRzIhz26gBA99vGhPPbxoTy6gBA9uoAQPbqAED16CFA9eghQPXoIUD26gBA9uoAQPXoIUD16CFA9uoAQPbqAED328aE8hjzbvMGtbL2g3rW9wBqWvQ5aOLy6gBA93E/HPb1NEz6tLyM+rS8jPrwT5z0cyIc9uoAQPQ5aOLyg3rW97zo6vr7gab6twnm+rcJ5vq3Ceb5P0oS+T9KEvq3Ceb7O/lm+3hxKvu86Or4flQq+wBqWvQ5aOLz28aE8uoAQPRzIhz38i6c9/IunPfyLpz38i6c9/IunPXoIUD26gBA9uoAQPfbxoTzdiYs7Dlo4vPbxoTy6gBA99vGhPPbxoTzdiYs7AiYtvaDetb0flQq+D3cavs7+Wb5P0oS+T9KEvr7gab7eHEq+/1gqvv9YKr7eHEq+3hxKvt4cSr6+4Gm+R8OMvjelnL4nh6y+J4esvkfDjL7vOjq+Xmb1vV5m9b1eZvW9wBqWvd2Jizv8i6c9vBPnPbwT5z3cT8c9eghQPfbxoTz28aE8uoAQPbqAED328aE89vGhPN2Jizv28aE83YmLOw5aOLzdiYs79vGhPPbxoTzdiYs73YmLOw5aOLwCJi29wa1svcGtbL3AGpa9oN61vV5m9b1eZvW9wBqWvQ5aOLz28aE89vGhPLqAED26gBA9uoAQPfbxoTzdiYs7Dlo4vIY827zBrWy9pfG1vYW11b2FtdW9hbXVvWN59b2hngq+kYAavoFiKr6RgBq+hbXVvaXxtb2l8bW9xS2WvZqI27zipaE8cOJPPRe1hz3XPMc9O0QTPktiAz4XtYc9kFmKOwxMLb2l8bW9YCZKvpGAGr6RgBq+gWIqvlAIWr4Q14S+ALmUvhDXhL4vzHm+L8x5vi/Meb5QCFq+gWIqvqGeCr7FLZa9kFmKO7BaED3ipaE8kFmKO5qI27wMTC29DEwtvaXxtb2hngq+oZ4KvoW11b2l8bW9xS2WvcUtlr2l8bW9hbXVvcUtlr3L02y9hbXVvcUtlr2QWYo74qWhPJBZijuaiNu8DEwtvYW11b1gJkq+CMiMvvipnL7oi6y+0F7EvsdPzL7QXsS+0F7EvthtvL7gfLS+6IusvvCapL4Q14S+kYAavsvTbL018ji8kFmKO+KloTy3AOc91zzHPXDiTz1w4k8993inPfd4pz33eKc9cOJPPeKloTyQWYo7mojbvJqI27zL02y9y9NsvQxMLb0MTC29xS2WvWN59b2RgBq+oZ4KvqGeCr6hngq+hbXVvcUtlr2aiNu8NfI4vJqI27w18ji8kFmKO+KloTzipaE8kFmKO+KloTywWhA9sFoQPeKloTwMTC29pfG1vYCi1b1eZvW9Xmb1vV5m9b0flQq+D3cavt4cSr6+4Gm+3hxKvsGtbL16CFA9eghQPQ5aOLwCJi299vGhPPyLpz0cyIc9HMiHPRzIhz0cyIc9/IunPXoIUD328aE8hjzbvMAalr0flQq+3hxKvq3Ceb4/tJS+T9KEvt4cSr4flQq+gKLVvV5m9b0flQq+D3cavg93Gr6AotW9wa1svcGtbL3AGpa9wBqWvcGtbL3BrWy9wBqWvaDetb1eZvW9H5UKvg93Gr7eHEq+vuBpvq3Ceb6twnm+vuBpvr7gab6twnm+rcJ5vq3Ceb6twnm+zv5Zvv9YKr7vOjq+3hxKvu86Or7/WCq+H5UKvh+VCr7O/lm+H3i0vgZLzL4Xaby+F2m8vg==",
          "dtype": "f4"
         },
         "yaxis": "y4"
        },
        {
         "line": {
          "color": "orange",
          "width": 1
         },
         "mode": "lines",
         "opacity": 0.7,
         "showlegend": false,
         "type": "scatter",
         "x": {
          "bdata": "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",
          "dtype": "f8"
         },
         "xaxis": "x12",
         "y": {
          "bdata": "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",
          "dtype": "f4"
         },
         "yaxis": "y12"
        },
        {
         "line": {
          "color": "orange",
          "width": 1
         },
         "mode": "lines",
         "opacity": 0.7,
         "showlegend": false,
         "type": "scatter",
         "x": {
          "bdata": "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",
          "dtype": "f8"
         },
         "xaxis": "x20",
         "y": {
          "bdata": "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",
          "dtype": "f4"
         },
         "yaxis": "y20"
        },
        {
         "line": {
          "color": "blue",
          "width": 1
         },
         "mode": "lines",
         "opacity": 0.7,
         "showlegend": false,
         "type": "scatter",
         "x": {
          "bdata": "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",
          "dtype": "f8"
         },
         "xaxis": "x5",
         "y": {
          "bdata": "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",
          "dtype": "f4"
         },
         "yaxis": "y5"
        },
        {
         "line": {
          "color": "blue",
          "width": 1
         },
         "mode": "lines",
         "opacity": 0.7,
         "showlegend": false,
         "type": "scatter",
         "x": {
          "bdata": "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",
          "dtype": "f8"
         },
         "xaxis": "x13",
         "y": {
          "bdata": "72dDP2BePz9gXj8/72dDP+9nQz9gXj8/72dDP+9nQz9gXj8/YF4/P2BePz/vZ0M/72dDP2BePz9gXj8/z1w/P89cPz/PXD8/z1w/P89cPz/PXD8/z1w/P15mQz9eZkM/XmZDP15mQz9eZkM/XmZDP15mQz/PXD8/z1w/P15mQz/PXD8/z1w/P89cPz/PXD8/XmZDP89cPz9eZkM/z1w/P89cPz/PXD8/z1w/P15mQz/PXD8/XmZDP89cPz/PXD8/z1w/P89cPz/PXD8/z1w/P89cPz/PXD8/z1w/P89cPz/PXD8/z1w/P89cPz/PXD8/z1w/P15mQz/PXD8/z1w/P89cPz/PXD8/z1w/P89cPz/PXD8/z1w/P89cPz/PXD8/z1w/P15mQz/PXD8/XmZDP89cPz/PXD8/XmZDP89cPz9eZkM/z1w/P89cPz9eZkM/XmZDP15mQz/PXD8/z1w/P15mQz/PXD8/z1w/P89cPz9eZkM/z1w/P15mQz/PXD8/XmZDP89cPz9eZkM/z1w/P15mQz9eZkM/XmZDP89cPz9eZkM/XmZDP15mQz9eZkM/z1w/P89cPz/PXD8/XmZDP15mQz/PXD8/XmZDP15mQz/PXD8/XmZDP89cPz/PXD8/XmZDP15mQz/PXD8/XmZDP89cPz9eZkM/XmZDP15mQz9eZkM/z1w/P15mQz9eZkM/XmZDP15mQz/PXD8/XmZDP15mQz9eZkM/XmZDP15mQz/PXD8/z1w/P15mQz/PXD8/XmZDP15mQz9eZkM/XmZDP89cPz/PXD8/z1w/P89cPz9eZkM/XmZDP15mQz9eZkM/XmZDP15mQz9eZkM/z1w/P15mQz9eZkM/z1w/P15mQz9eZkM/XmZDP15mQz9eZkM/z1w/P89cPz9eZkM/XmZDP15mQz/PXD8/XmZDP15mQz9eZkM/z1w/P15mQz/PXD8/XmZDP15mQz9eZkM/XmZDP89cPz9eZkM/XmZDP15mQz9eZkM/XmZDP89cPz/PXD8/z1w/P89cPz9eZkM/z1w/P89cPz9eZkM/XmZDP15mQz9eZkM/XmZDP15mQz9eZkM/XmZDP15mQz9eZkM/z1w/P89cPz/PXD8/z1w/P89cPz9eZkM/XmZDP15mQz9eZkM/XmZDP15mQz9eZkM/XmZDP15mQz9eZkM/XmZDP89cPz9eZkM/z1w/P15mQz/PXD8/XmZDP15mQz/PXD8/z1w/P89cPz/PXD8/XmZDP89cPz/PXD8/XmZDP15mQz/PXD8/XmZDP15mQz9eZkM/XmZDP15mQz9eZkM/XmZDP15mQz9eZkM/XmZDP15mQz9eZkM/XmZDP89cPz/PXD8/z1w/P15mQz9eZkM/72dDP2BePz/vZ0M/72dDP2BePz/vZ0M/72dDP+9nQz/vZ0M/72dDP+9nQz/vZ0M/72dDP+9nQz/vZ0M/72dDP+9nQz/vZ0M/72dDP+9nQz9gXj8/YF4/P2BePz/vZ0M/YF4/P+9nQz/vZ0M/72dDP+9nQz/vZ0M/72dDP+9nQz9gXj8/YF4/P2BePz9gXj8/72dDP2BePz9gXj8/YF4/P2BePz9gXj8/YF4/P2BePz/vZ0M/72dDP+9nQz/vZ0M/72dDP+9nQz9gXj8/YF4/P+9nQz9gXj8/YF4/P+9nQz9gXj8/YF4/P+9nQz9gXj8/YF4/P+9nQz/vZ0M/72dDP+9nQz/vZ0M/72dDP+9nQz9gXj8/72dDP2BePz/vZ0M/72dDP2BePz/vZ0M/YF4/P2BePz9gXj8/YF4/P2BePz9gXj8/YF4/P2BePz/vZ0M/YF4/P+9nQz/vZ0M/72dDP2BePz/vZ0M/72dDP+9nQz9gXj8/72dDP2BePz/vZ0M/72dDP+9nQz9gXj8/YF4/P2BePz/vZ0M/72dDP+9nQz/vZ0M/72dDP+9nQz9gXj8/72dDP+9nQz/vZ0M/72dDP+9nQz/vZ0M/72dDP+9nQz/vZ0M/72dDP2BePz9gXj8/72dDP89cPz9eZkM/z1w/P15mQz9eZkM/XmZDP89cPz/PXD8/XmZDP15mQz/PXD8/XmZDP89cPz9eZkM/XmZDP15mQz9eZkM/XmZDP15mQz9eZkM/XmZDP15mQz/PXD8/XmZDP89cPz9eZkM/z1w/P15mQz9eZkM/XmZDP15mQz9eZkM/XmZDP15mQz9eZkM/XmZDP15mQz9eZkM/z1w/P89cPz/PXD8/z1w/P89cPz/PXD8/XmZDP15mQz/PXD8/XmZDP15mQz9eZkM/XmZDP15mQz9eZkM/XmZDP89cPz9eZkM/XmZDP15mQz9eZkM/XmZDP15mQz9eZkM/z1w/P15mQz/PXD8/z1w/P15mQz9eZkM/z1w/P15mQz9eZkM/XmZDP15mQz9eZkM/XmZDP89cPz9eZkM/XmZDP15mQz9eZkM/XmZDP15mQz9eZkM/XmZDP15mQz9eZkM/z1w/P89cPz9eZkM/z1w/P15mQz9eZkM/XmZDP89cPz9eZkM/XmZDP89cPz/PXD8/z1w/P15mQz9eZkM/XmZDP15mQz9eZkM/z1w/P89cPz9eZkM/XmZDP15mQz9eZkM/XmZDP15mQz9eZkM/XmZDP15mQz/PXD8/z1w/P15mQz9eZkM/z1w/P15mQz9eZkM/XmZDP15mQz9eZkM/z1w/P89cPz9eZkM/XmZDP15mQz/PXD8/XmZDP15mQz9eZkM/z1w/P89cPz/PXD8/XmZDP15mQz9eZkM/XmZDP15mQz/PXD8/z1w/P89cPz9eZkM/XmZDP15mQz9eZkM/z1w/P15mQz/PXD8/XmZDP15mQz9eZkM/z1w/P89cPz9eZkM/z1w/P15mQz9eZkM/z1w/P15mQz9eZkM/z1w/P15mQz9eZkM/XmZDP15mQz/PXD8/XmZDP15mQz/PXD8/z1w/P15mQz9eZkM/XmZDP15mQz9eZkM/XmZDP15mQz/PXD8/XmZDP15mQz9eZkM/XmZDP15mQz9eZkM/XmZDP15mQz9eZkM/XmZDP15mQz9eZkM/XmZDP15mQz9eZkM/z1w/P15mQz/PXD8/XmZDP15mQz9eZkM/z1w/P89cPz9eZkM/XmZDP15mQz9eZkM/XmZDP15mQz9eZkM/XmZDP89cPz9eZkM/z1w/P15mQz9eZkM/XmZDP15mQz9eZkM/XmZDP15mQz9eZkM/XmZDP15mQz9eZkM/z1w/P15mQz9eZkM/XmZDP15mQz/PXD8/XmZDP89cPz9eZkM/XmZDP15mQz9eZkM/z1w/P15mQz9eZkM/XmZDP15mQz9eZkM/XmZDP15mQz9eZkM/z1w/P15mQz9eZkM/z1w/P15mQz9eZkM/z1w/P15mQz/PXD8/z1w/P15mQz9eZkM/z1w/P15mQz9eZkM/XmZDP89cPz9eZkM/XmZDP15mQz9eZkM/XmZDP15mQz9eZkM/XmZDP15mQz/PXD8/z1w/P15mQz/PXD8/z1w/P15mQz/PXD8/z1w/P89cPz/PXD8/XmZDP15mQz/PXD8/XmZDP89cPz/PXD8/XmZDP15mQz9eZkM/XmZDP89cPz9eZkM/XmZDP89cPz9eZkM/XmZDP89cPz9eZkM/XmZDP15mQz9eZkM/XmZDP15mQz/PXD8/z1w/P89cPz/PXD8/XmZDP89cPz/PXD8/z1w/P15mQz/PXD8/z1w/P89cPz9eZkM/z1w/P15mQz/PXD8/XmZDP15mQz/PXD8/XmZDP15mQz9eZkM/XmZDP15mQz9eZkM/XmZDP15mQz9eZkM/XmZDP15mQz9eZkM/z1w/P15mQz9eZkM/z1w/P15mQz/PXD8/z1w/P15mQz9eZkM/XmZDP15mQz9eZkM/XmZDP15mQz9eZkM/XmZDP89cPz/PXD8/z1w/P15mQz/PXD8/XmZDP15mQz/PXD8/XmZDP2BePz/vZ0M/YF4/P+9nQz/vZ0M/72dDP2BePz/vZ0M/72dDP+9nQz/vZ0M/72dDP+9nQz/vZ0M/72dDP+9nQz/vZ0M/72dDP+9nQz/vZ0M/72dDP+9nQz/vZ0M/YF4/P+9nQz/vZ0M/72dDP2BePz9gXj8/72dDP+9nQz/vZ0M/72dDP+9nQz/vZ0M/YF4/P2BePz/vZ0M/YF4/P2BePz9gXj8/YF4/P2BePz/vZ0M/72dDP+9nQz9gXj8/72dDP+9nQz/vZ0M/72dDP+9nQz/vZ0M/72dDP+9nQz/vZ0M/72dDP+9nQz/vZ0M/72dDP+9nQz/vZ0M/72dDP+9nQz/vZ0M/72dDP+9nQz/vZ0M/72dDP+9nQz/vZ0M/72dDP+9nQz/vZ0M/72dDP+9nQz/vZ0M/72dDP+9nQz/vZ0M/72dDP+9nQz/vZ0M/YF4/P+9nQz/vZ0M/72dDP+9nQz/vZ0M/72dDP+9nQz/vZ0M/72dDP+9nQz/vZ0M/72dDP+9nQz/vZ0M/72dDP+9nQz/vZ0M/72dDP+9nQz/vZ0M/72dDP+9nQz/vZ0M/72dDP+9nQz/vZ0M/72dDP2BePz/vZ0M/72dDP+9nQz/vZ0M/72dDP+9nQz/vZ0M/72dDP+9nQz9eZkM/XmZDP15mQz9eZkM/z1w/P15mQz9eZkM/XmZDP15mQz9eZkM/XmZDP15mQz9eZkM/XmZDP15mQz9eZkM/XmZDP15mQz9eZkM/XmZDP15mQz9eZkM/XmZDP15mQz9eZkM/XmZDP15mQz9eZkM/XmZDP89cPz9eZkM/XmZDP89cPz9eZkM/XmZDP+1vRz9eZkM/7W9HP15mQz9eZkM/XmZDP15mQz9eZkM/z1w/P89cPz9eZkM/XmZDP15mQz9eZkM/XmZDP15mQz9eZkM/XmZDP15mQz9eZkM/XmZDP15mQz9eZkM/XmZDP15mQz9eZkM/XmZDP15mQz9eZkM/XmZDP15mQz9eZkM/XmZDP15mQz9eZkM/XmZDP15mQz9eZkM/XmZDP15mQz9eZkM/XmZDP+1vRz/tb0c/XmZDP15mQz9eZkM/XmZDP15mQz9eZkM/XmZDP15mQz9eZkM/7W9HP15mQz9eZkM/XmZDP15mQz9eZkM/XmZDP15mQz9eZkM/XmZDP15mQz9eZkM/XmZDP15mQz9eZkM/XmZDP15mQz/PXD8/XmZDP15mQz9eZkM/XmZDP15mQz9eZkM/7W9HP+1vRz9eZkM/XmZDP+1vRz9eZkM/XmZDP+1vRz/tb0c/7W9HP+1vRz/tb0c/XmZDP15mQz9eZkM/XmZDP89cPz9eZkM/XmZDP15mQz/PXD8/XmZDP15mQz9eZkM/XmZDPw==",
          "dtype": "f4"
         },
         "yaxis": "y13"
        },
        {
         "line": {
          "color": "blue",
          "width": 1
         },
         "mode": "lines",
         "opacity": 0.7,
         "showlegend": false,
         "type": "scatter",
         "x": {
          "bdata": "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",
          "dtype": "f8"
         },
         "xaxis": "x21",
         "y": {
          "bdata": "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",
          "dtype": "f4"
         },
         "yaxis": "y21"
        },
        {
         "line": {
          "color": "orange",
          "width": 1
         },
         "mode": "lines",
         "opacity": 0.7,
         "showlegend": false,
         "type": "scatter",
         "x": {
          "bdata": "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",
          "dtype": "f8"
         },
         "xaxis": "x5",
         "y": {
          "bdata": "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",
          "dtype": "f4"
         },
         "yaxis": "y5"
        },
        {
         "line": {
          "color": "orange",
          "width": 1
         },
         "mode": "lines",
         "opacity": 0.7,
         "showlegend": false,
         "type": "scatter",
         "x": {
          "bdata": "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",
          "dtype": "f8"
         },
         "xaxis": "x13",
         "y": {
          "bdata": "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",
          "dtype": "f4"
         },
         "yaxis": "y13"
        },
        {
         "line": {
          "color": "orange",
          "width": 1
         },
         "mode": "lines",
         "opacity": 0.7,
         "showlegend": false,
         "type": "scatter",
         "x": {
          "bdata": "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",
          "dtype": "f8"
         },
         "xaxis": "x21",
         "y": {
          "bdata": "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",
          "dtype": "f4"
         },
         "yaxis": "y21"
        },
        {
         "line": {
          "color": "blue",
          "width": 1
         },
         "mode": "lines",
         "opacity": 0.7,
         "showlegend": false,
         "type": "scatter",
         "x": {
          "bdata": "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",
          "dtype": "f8"
         },
         "xaxis": "x6",
         "y": {
          "bdata": "JDdbPyQ3Wz8kN1s/JDdbPyQ3Wz8kN1s/JDdbPyQ3Wz8kN1s/JDdbPyQ3Wz8kN1s/JDdbPyQ3Wz8kN1s/JDdbPyQ3Wz8kN1s/JDdbPyQ3Wz8kN1s/JDdbPyQ3Wz8kN1s/JDdbPyQ3Wz8kN1s/JDdbPyQ3Wz8kN1s/JDdbPyQ3Wz8kN1s/JDdbPyQ3Wz8kN1s/JDdbPyQ3Wz8kN1s/JDdbPyQ3Wz8kN1s/JDdbPyQ3Wz8kN1s/JDdbPyQ3Wz8kN1s/JDdbPyQ3Wz8kN1s/JDdbPyQ3Wz8kN1s/JDdbPyQ3Wz8kN1s/JDdbPyQ3Wz8kN1s/JDdbPyQ3Wz8kN1s/JDdbPyQ3Wz+pPlc/JDdbPyQ3Wz8kN1s/JDdbPyQ3Wz8kN1s/JDdbPyQ3Wz8kN1s/JDdbPyQ3Wz8kN1s/JDdbPyQ3Wz8kN1s/JDdbPyQ3Wz8kN1s/JDdbPyQ3Wz8kN1s/JDdbPyQ3Wz8kN1s/JDdbPyQ3Wz8kN1s/JDdbPyQ3Wz8kN1s/JDdbP6k+Vz8kN1s/JDdbPyQ3Wz8kN1s/JDdbPyQ3Wz8kN1s/JDdbPyQ3Wz8kN1s/JDdbPyQ3Wz8kN1s/JDdbPyQ3Wz8kN1s/JDdbPyQ3Wz8kN1s/JDdbPyQ3Wz8kN1s/JDdbPyQ3Wz8kN1s/JDdbPyQ3Wz8kN1s/JDdbPyQ3Wz8kN1s/JDdbPyQ3Wz8kN1s/JDdbPyQ3Wz8kN1s/JDdbPyQ3Wz8kN1s/JDdbPyQ3Wz8kN1s/JDdbPyQ3Wz8kN1s/JDdbPyQ3Wz8kN1s/JDdbPyQ3Wz8kN1s/JDdbPyQ3Wz8kN1s/JDdbPyQ3Wz8kN1s/JDdbPyQ3Wz8kN1s/qT5XPyQ3Wz8kN1s/JDdbPyQ3Wz8kN1s/JDdbPyQ3Wz8kN1s/JDdbPyQ3Wz8kN1s/JDdbPyQ3Wz8kN1s/JDdbPyQ3Wz8kN1s/JDdbPyQ3Wz8kN1s/JDdbPyQ3Wz8kN1s/JDdbPyQ3Wz8kN1s/JDdbPyQ3Wz8kN1s/JDdbPyQ3Wz8kN1s/JDdbPyQ3Wz8kN1s/JDdbPyQ3Wz8kN1s/JDdbPyQ3Wz8kN1s/JDdbPyQ3Wz8kN1s/JDdbPyQ3Wz8kN1s/JDdbPyQ3Wz8kN1s/JDdbPyQ3Wz8kN1s/JDdbPyQ3Wz8kN1s/JDdbPyQ3Wz8kN1s/JDdbPyQ3Wz8kN1s/JDdbPyQ3Wz8kN1s/JDdbPyQ3Wz8kN1s/JDdbPyQ3Wz8kN1s/JDdbPyQ3Wz8kN1s/JDdbPyQ3Wz8kN1s/JDdbPyQ3Wz8kN1s/JDdbPyQ3Wz8kN1s/JDdbPyQ3Wz8kN1s/JDdbPyQ3Wz8kN1s/JDdbPyQ3Wz8kN1s/JDdbPyQ3Wz8kN1s/JDdbPyQ3Wz8kN1s/JDdbPyQ3Wz8kN1s/JDdbPyQ3Wz8kN1s/JDdbPyQ3Wz8kN1s/JDdbPyQ3Wz8kN1s/JDdbPyQ3Wz8kN1s/JDdbPyQ3Wz8kN1s/JDdbPyQ3Wz8kN1s/JDdbPyQ3Wz8kN1s/JDdbPyQ3Wz8kN1s/JDdbPyQ3Wz8kN1s/JDdbP6k+Vz8kN1s/JDdbPyQ3Wz8kN1s/JDdbPyQ3Wz8kN1s/JDdbPyQ3Wz8kN1s/JDdbPyQ3Wz8kN1s/JDdbPyQ3Wz8kN1s/JDdbPyQ3Wz8kN1s/JDdbPyQ3Wz8kN1s/JDdbPyQ3Wz8kN1s/JDdbPyQ3Wz8kN1s/JDdbPyQ3Wz8kN1s/JDdbPyQ3Wz8kN1s/JDdbPyQ3Wz8kN1s/qT5XPyQ3Wz8kN1s/JDdbPyQ3Wz8kN1s/JDdbPyQ3Wz8kN1s/JDdbPyQ3Wz8kN1s/JDdbPyQ3Wz8kN1s/JDdbPyQ3Wz8kN1s/JDdbPyQ3Wz8kN1s/JDdbPyQ3Wz8kN1s/JDdbPyQ3Wz8kN1s/JDdbPyQ3Wz8kN1s/JDdbPyQ3Wz8kN1s/JDdbPyQ3Wz8kN1s/JDdbPyQ3Wz8kN1s/JDdbPyQ3Wz8kN1s/JDdbPyQ3Wz8kN1s/JDdbPyQ3Wz8kN1s/JDdbPyQ3Wz8kN1s/JDdbPyQ3Wz8kN1s/JDdbPyQ3Wz8kN1s/JDdbPyQ3Wz8kN1s/JDdbPyQ3Wz8kN1s/JDdbPyQ3Wz8kN1s/JDdbPyQ3Wz8kN1s/JDdbPyQ3Wz8kN1s/JDdbPyQ3Wz8kN1s/JDdbPyQ3Wz8kN1s/JDdbPyQ3Wz8kN1s/JDdbPyQ3Wz8kN1s/JDdbPyQ3Wz8kN1s/JDdbPyQ3Wz8kN1s/JDdbPyQ3Wz8kN1s/JDdbPyQ3Wz8kN1s/JDdbPyQ3Wz8kN1s/JDdbPyQ3Wz8kN1s/JDdbPyQ3Wz8kN1s/JDdbPyQ3Wz8kN1s/JDdbPyQ3Wz8kN1s/JDdbPyQ3Wz8kN1s/JDdbPyQ3Wz8kN1s/JDdbPyQ3Wz8kN1s/JDdbPyQ3Wz8kN1s/JDdbPyQ3Wz8kN1s/JDdbP4Q5Wz+EOVs/hDlbP4Q5Wz+EOVs/ADJfP4Q5Wz+EOVs/hDlbP4Q5Wz+EOVs/hDlbP4Q5Wz+EOVs/hDlbP4Q5Wz+EOVs/hDlbP4Q5Wz+EOVs/hDlbP4Q5Wz+EOVs/hDlbP4Q5Wz+EOVs/hDlbP4Q5Wz+EOVs/hDlbP4Q5Wz+EOVs/hDlbP4Q5Wz+EOVs/hDlbP4Q5Wz+EOVs/hDlbP4Q5Wz+EOVs/hDlbP4Q5Wz8JQVc/CUFXP4Q5Wz+EOVs/hDlbP4Q5Wz+EOVs/hDlbP4Q5Wz+EOVs/hDlbP4Q5Wz+EOVs/hDlbP4Q5Wz+EOVs/hDlbP4Q5Wz+EOVs/hDlbP4Q5Wz+EOVs/hDlbP4Q5Wz+EOVs/hDlbP4Q5Wz+EOVs/hDlbP4Q5Wz+EOVs/hDlbP4Q5Wz+EOVs/hDlbP4Q5Wz+EOVs/hDlbP4Q5Wz8JQVc/hDlbP4Q5Wz+EOVs/hDlbP4Q5Wz+EOVs/hDlbP4Q5Wz+EOVs/hDlbP4Q5Wz+EOVs/hDlbP4Q5Wz+EOVs/hDlbP4Q5Wz+EOVs/hDlbP4Q5Wz+EOVs/hDlbP4Q5Wz+EOVs/hDlbP4Q5Wz+EOVs/hDlbP4Q5Wz8JQVc/hDlbP4Q5Wz+EOVs/hDlbP4Q5Wz+EOVs/hDlbP4Q5Wz+EOVs/JDdbPyQ3Wz8kN1s/JDdbPyQ3Wz8kN1s/JDdbPyQ3Wz8kN1s/JDdbPyQ3Wz8kN1s/JDdbPyQ3Wz8kN1s/JDdbPyQ3Wz8kN1s/JDdbPyQ3Wz8kN1s/JDdbPyQ3Wz8kN1s/JDdbPyQ3Wz8kN1s/JDdbPyQ3Wz8kN1s/qT5XPyQ3Wz8kN1s/JDdbPyQ3Wz8kN1s/JDdbPyQ3Wz8kN1s/JDdbPyQ3Wz8kN1s/JDdbPyQ3Wz8kN1s/JDdbPyQ3Wz8kN1s/JDdbPyQ3Wz8kN1s/JDdbPyQ3Wz8kN1s/JDdbPyQ3Wz+pPlc/JDdbPyQ3Wz8kN1s/JDdbPyQ3Wz8kN1s/JDdbPyQ3Wz8kN1s/JDdbPyQ3Wz8kN1s/JDdbPyQ3Wz8kN1s/JDdbPyQ3Wz8kN1s/JDdbPyQ3Wz8kN1s/JDdbPyQ3Wz8kN1s/JDdbPyQ3Wz8kN1s/JDdbPyQ3Wz8kN1s/JDdbPyQ3Wz8kN1s/JDdbPyQ3Wz8kN1s/JDdbPyQ3Wz8kN1s/JDdbPyQ3Wz8kN1s/JDdbPyQ3Wz8kN1s/JDdbPyQ3Wz8kN1s/JDdbPyQ3Wz8kN1s/JDdbPyQ3Wz8kN1s/JDdbPyQ3Wz8kN1s/JDdbPyQ3Wz8kN1s/JDdbPyQ3Wz8kN1s/JDdbPyQ3Wz8kN1s/JDdbPyQ3Wz8kN1s/JDdbPyQ3Wz8kN1s/JDdbPyQ3Wz8kN1s/JDdbPyQ3Wz8kN1s/JDdbPyQ3Wz8kN1s/JDdbPyQ3Wz8kN1s/JDdbPyQ3Wz8kN1s/JDdbPyQ3Wz8kN1s/JDdbPyQ3Wz8kN1s/JDdbPyQ3Wz8kN1s/JDdbPyQ3Wz8kN1s/JDdbPyQ3Wz8kN1s/JDdbPyQ3Wz8kN1s/JDdbPyQ3Wz8kN1s/JDdbPyQ3Wz8kN1s/JDdbPyQ3Wz8kN1s/JDdbPyQ3Wz8kN1s/JDdbPyQ3Wz8kN1s/JDdbPyQ3Wz8kN1s/JDdbPyQ3Wz8kN1s/JDdbPyQ3Wz8kN1s/JDdbPyQ3Wz8kN1s/JDdbPyQ3Wz8kN1s/JDdbPyQ3Wz8kN1s/oC9fP6AvXz+gL18/oC9fP6AvXz+gL18/JDdbPyQ3Wz8kN1s/oC9fP6AvXz+gL18/oC9fP6AvXz+gL18/oC9fP6AvXz+gL18/oC9fP6AvXz+gL18/oC9fP6AvXz+gL18/JDdbPyQ3Wz8kN1s/oC9fPyQ3Wz+gL18/JDdbPyQ3Wz8kN1s/JDdbPyQ3Wz8kN1s/JDdbPyQ3Wz8kN1s/JDdbPyQ3Wz8kN1s/JDdbPyQ3Wz8kN1s/JDdbPyQ3Wz8kN1s/hDlbP4Q5Wz+EOVs/hDlbP4Q5Wz+EOVs/hDlbP4Q5Wz+EOVs/hDlbP4Q5Wz+EOVs/hDlbP4Q5Wz+EOVs/hDlbP4Q5Wz+EOVs/hDlbP4Q5Wz+EOVs/hDlbP4Q5Wz+EOVs/hDlbP4Q5Wz+EOVs/hDlbP4Q5Wz+EOVs/hDlbP4Q5Wz+EOVs/hDlbP4Q5Wz+EOVs/hDlbP4Q5Wz+EOVs/hDlbP4Q5Wz+EOVs/hDlbP4Q5Wz+EOVs/hDlbP4Q5Wz+EOVs/hDlbP4Q5Wz+EOVs/hDlbP4Q5Wz+EOVs/hDlbP4Q5Wz+EOVs/hDlbP4Q5Wz+EOVs/hDlbP4Q5Wz+EOVs/hDlbP4Q5Wz+EOVs/hDlbP4Q5Wz+EOVs/hDlbP4Q5Wz+EOVs/hDlbP4Q5Wz+EOVs/hDlbP4Q5Wz+EOVs/hDlbP4Q5Wz+EOVs/hDlbP4Q5Wz+EOVs/hDlbP4Q5Wz+EOVs/hDlbP4Q5Wz+EOVs/hDlbP4Q5Wz+EOVs/hDlbP4Q5Wz+EOVs/hDlbP4Q5Wz+EOVs/hDlbP4Q5Wz+EOVs/hDlbP4Q5Wz+EOVs/hDlbP4Q5Wz+EOVs/hDlbP4Q5Wz+EOVs/hDlbP4Q5Wz+EOVs/hDlbP4Q5Wz+EOVs/hDlbP4Q5Wz+EOVs/hDlbP4Q5Wz8kN1s/JDdbPyQ3Wz8kN1s/JDdbPyQ3Wz8kN1s/JDdbPyQ3Wz8kN1s/JDdbPyQ3Wz8kN1s/JDdbPyQ3Wz8kN1s/JDdbPyQ3Wz8kN1s/JDdbPyQ3Wz8kN1s/JDdbPyQ3Wz8kN1s/JDdbPyQ3Wz8kN1s/JDdbPyQ3Wz8kN1s/JDdbPyQ3Wz8kN1s/JDdbPyQ3Wz8kN1s/JDdbPyQ3Wz8kN1s/JDdbPyQ3Wz8kN1s/JDdbPyQ3Wz8kN1s/JDdbPyQ3Wz8kN1s/JDdbPyQ3Wz8kN1s/JDdbPyQ3Wz8kN1s/JDdbPyQ3Wz8kN1s/JDdbPw==",
          "dtype": "f4"
         },
         "yaxis": "y6"
        },
        {
         "line": {
          "color": "blue",
          "width": 1
         },
         "mode": "lines",
         "opacity": 0.7,
         "showlegend": false,
         "type": "scatter",
         "x": {
          "bdata": "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",
          "dtype": "f8"
         },
         "xaxis": "x14",
         "y": {
          "bdata": "HVKNPR1SjT0dUo09HVKNPR1SjT0dUo09HVKNPR1SjT0dUo09HVKNPR1SjT0dUo09HVKNPR1SjT0dUo09HVKNPR1SjT0dUo09HVKNPR1SjT0dUo09HVKNPR1SjT0dUo09HVKNPR1SjT0dUo09HVKNPR1SjT0dUo09HVKNPR1SjT0dUo09HVKNPR1SjT0dUo09HVKNPR1SjT0dUo09HVKNPR1SjT0dUo09HVKNPR1SjT2Wnq09HVKNPR1SjT0dUo09HVKNPR1SjT0dUo09HVKNPR1SjT0dUo09HVKNPR1SjT0dUo09HVKNPR1SjT0dUo09HVKNPR1SjT0dUo09HVKNPR1SjT0dUo09HVKNPR1SjT0dUo09HVKNPR1SjT0dUo09HVKNPR1SjT0dUo09HVKNPR1SjT0dUo09HVKNPR1SjT0dUo09HVKNPR1SjT0dUo09HVKNPR1SjT0dUo09HVKNPR1SjT0dUo09HVKNPR1SjT0dUo09HVKNPR1SjT0dUo09HVKNPR1SjT0dUo09HVKNPR1SjT0dUo09HVKNPZaerT0dUo09HVKNPR1SjT0dUo09HVKNPR1SjT0dUo09HVKNPZaerT0dUo09HVKNPR1SjT0dUo09HVKNPR1SjT0dUo09HVKNPR1SjT0dUo09HVKNPR1SjT0dUo09HVKNPR1SjT0dUo09lp6tPR1SjT0dUo09lp6tPR1SjT0dUo09HVKNPR1SjT0dUo09HVKNPR1SjT0dUo09HVKNPR1SjT2Wnq09lp6tPR1SjT0dUo09HVKNPR1SjT0dUo09HVKNPR1SjT0dUo09HVKNPR1SjT0dUo09HVKNPR1SjT0dUo09lp6tPR1SjT0dUo09HVKNPR1SjT0dUo09HVKNPR1SjT0dUo09HVKNPR1SjT0dUo09HVKNPR1SjT0dUo09HVKNPR1SjT0dUo09HVKNPR1SjT0dUo09HVKNPR1SjT0dUo09HVKNPR1SjT0dUo09HVKNPR1SjT0dUo09HVKNPR1SjT0dUo09HVKNPR1SjT0dUo09HVKNPR1SjT0dUo09HVKNPR1SjT0dUo09HVKNPR1SjT0dUo09HVKNPR1SjT0dUo09HVKNPR1SjT0dUo09lp6tPR1SjT0dUo09HVKNPR1SjT0dUo09HVKNPR1SjT0dUo09HVKNPR1SjT0dUo09HVKNPR1SjT0dUo09HVKNPR1SjT0dUo09HVKNPR1SjT0dUo09HVKNPR1SjT0dUo09HVKNPR1SjT0dUo09HVKNPR1SjT0dUo09HVKNPR1SjT0dUo09HVKNPR1SjT0dUo09lp6tPZaerT0dUo09HVKNPR1SjT0dUo09HVKNPR1SjT0dUo09HVKNPR1SjT0dUo09HVKNPR1SjT0dUo09HVKNPR1SjT0dUo09HVKNPZaerT0dUo09HVKNPR1SjT2Wnq09HVKNPR1SjT0dUo09HVKNPR1SjT0dUo09HVKNPR1SjT0dUo09HVKNPR1SjT0dUo09HVKNPR1SjT0dUo09HVKNPR1SjT0dUo09HVKNPZaerT0dUo09HVKNPR1SjT0dUo09HVKNPR1SjT0dUo09HVKNPR1SjT0dUo09HVKNPR1SjT0dUo09HVKNPR1SjT0dUo09HVKNPR1SjT0dUo09HVKNPR1SjT0dUo09HVKNPR1SjT2Wnq09HVKNPR1SjT0dUo09HVKNPR1SjT0dUo09HVKNPR1SjT2Wnq09HVKNPR1SjT0dUo09HVKNPR1SjT0dUo09HVKNPR1SjT0dUo09HVKNPR1SjT0dUo09HVKNPR1SjT0dUo09HVKNPR1SjT0dUo09HVKNPR1SjT0dUo09HVKNPR1SjT0dUo09HVKNPR1SjT0dUo09HVKNPR1SjT0dUo09HVKNPR1SjT0dUo09HVKNPR1SjT0dUo09HVKNPR1SjT0dUo09HVKNPR1SjT0dUo09HVKNPR1SjT0dUo09HVKNPR1SjT0dUo09HVKNPZaerT2Wnq09HVKNPR1SjT0dUo09HVKNPR1SjT0dUo09HVKNPR1SjT0dUo09HVKNPR1SjT0dUo09HVKNPR1SjT0dUo09HVKNPR1SjT0dUo09HVKNPR1SjT0dUo09HVKNPR1SjT0dUo09HVKNPR1SjT0dUo09HVKNPR1SjT0dUo09HVKNPR1SjT0dUo09HVKNPR1SjT0dUo09HVKNPR1SjT0dUo09HVKNPR1SjT0dUo09HVKNPR1SjT0dUo09HVKNPR1SjT0dUo09HVKNPR1SjT0dUo09HVKNPR1SjT0dUo09HVKNPR1SjT0dUo09HVKNPR1SjT0dUo09HVKNPR1SjT0dUo09HVKNPR1SjT0dUo09HVKNPR1SjT0dUo09HVKNPR1SjT2Wnq09HVKNPR1SjT0dUo09HVKNPR1SjT0dUo09HVKNPahejT2oXo09qF6NPahejT2oXo09qF6NPahejT2oXo09qF6NPahejT0hq609qF6NPahejT2oXo09qF6NPahejT2oXo09qF6NPahejT2oXo09qF6NPSGrrT2oXo09qF6NPahejT2oXo09qF6NPahejT2oXo09IautPahejT2oXo09qF6NPahejT2oXo09qF6NPahejT2oXo09qF6NPahejT2oXo09qF6NPahejT2oXo09qF6NPahejT2oXo09qF6NPahejT2oXo09qF6NPahejT2oXo09qF6NPahejT0hq609qF6NPSGrrT2oXo09qF6NPahejT2oXo09qF6NPahejT2oXo09qF6NPahejT2oXo09qF6NPahejT2oXo09qF6NPahejT2oXo09qF6NPahejT2oXo09qF6NPahejT2oXo09qF6NPahejT2oXo09qF6NPahejT2oXo09qF6NPahejT2oXo09qF6NPahejT2oXo09qF6NPahejT2oXo09qF6NPahejT2oXo09qF6NPahejT2oXo09qF6NPahejT2oXo09qF6NPahejT2oXo09qF6NPahejT2oXo09qF6NPahejT2oXo09qF6NPahejT2oXo09qF6NPahejT2oXo09qF6NPahejT2oXo09HVKNPR1SjT0dUo09HVKNPR1SjT0dUo09HVKNPR1SjT0dUo09HVKNPR1SjT0dUo09HVKNPR1SjT0dUo09HVKNPR1SjT0dUo09HVKNPR1SjT0dUo09HVKNPR1SjT0dUo09HVKNPR1SjT0dUo09HVKNPR1SjT0dUo09HVKNPR1SjT0dUo09HVKNPR1SjT0dUo09HVKNPR1SjT0dUo09HVKNPR1SjT0dUo09HVKNPR1SjT2Wnq09HVKNPR1SjT0dUo09HVKNPR1SjT2Wnq09HVKNPR1SjT0dUo09HVKNPR1SjT0dUo09HVKNPR1SjT0dUo09HVKNPR1SjT0dUo09HVKNPR1SjT0dUo09HVKNPR1SjT2Wnq09HVKNPR1SjT0dUo09HVKNPR1SjT0dUo09HVKNPR1SjT0dUo09HVKNPR1SjT0dUo09HVKNPR1SjT0dUo09HVKNPR1SjT0dUo09HVKNPR1SjT0dUo09HVKNPR1SjT0dUo09HVKNPR1SjT0dUo09HVKNPR1SjT0dUo09HVKNPR1SjT0dUo09HVKNPR1SjT0dUo09HVKNPR1SjT0dUo09HVKNPR1SjT0dUo09HVKNPR1SjT0dUo09HVKNPZaerT0dUo09HVKNPR1SjT0dUo09HVKNPR1SjT0dUo09HVKNPR1SjT0dUo09HVKNPR1SjT0dUo09HVKNPR1SjT0dUo09HVKNPR1SjT0dUo09HVKNPR1SjT0dUo09HVKNPR1SjT0dUo09HVKNPR1SjT0dUo09HVKNPR1SjT0dUo09HVKNPR1SjT0dUo09HVKNPR1SjT0dUo09HVKNPR1SjT0dUo09HVKNPR1SjT0dUo09HVKNPR1SjT0dUo09HVKNPR1SjT0dUo09HVKNPR1SjT0dUo09HVKNPR1SjT0dUo09HVKNPR1SjT0dUo09HVKNPR1SjT0dUo09HVKNPR1SjT0dUo09HVKNPR1SjT0dUo09HVKNPR1SjT0dUo09HVKNPR1SjT0dUo09HVKNPZaerT0dUo09lp6tPZaerT2Wnq09lp6tPR1SjT0dUo09HVKNPZaerT2Wnq09lp6tPZaerT2Wnq09lp6tPZaerT0dUo09lp6tPR1SjT0dUo09HVKNPZaerT0dUo09lp6tPZaerT2Wnq09lp6tPR1SjT2Wnq09lp6tPR1SjT0dUo09HVKNPR1SjT0dUo09HVKNPR1SjT0dUo09HVKNPR1SjT2Wnq09HVKNPR1SjT0dUo09HVKNPZaerT0dUo09HVKNPR1SjT0dUo09HVKNPR1SjT2Wnq09qF6NPahejT2oXo09IautPahejT2oXo09qF6NPahejT2oXo09IautPahejT2oXo09qF6NPahejT2oXo09qF6NPahejT2oXo09qF6NPahejT2oXo09qF6NPahejT2oXo09qF6NPahejT2oXo09qF6NPahejT2oXo09qF6NPahejT2oXo09qF6NPahejT2oXo09qF6NPahejT2oXo09qF6NPSGrrT2oXo09qF6NPahejT2oXo09qF6NPahejT2oXo09qF6NPahejT2oXo09IautPahejT2oXo09qF6NPahejT2oXo09qF6NPahejT2oXo09qF6NPahejT2oXo09qF6NPahejT2oXo09qF6NPahejT2oXo09qF6NPahejT2oXo09qF6NPahejT2oXo09qF6NPahejT2oXo09qF6NPahejT2oXo09qF6NPahejT2oXo09qF6NPahejT2oXo09qF6NPahejT2oXo09qF6NPahejT2oXo09qF6NPahejT2oXo09qF6NPahejT2oXo09qF6NPahejT2oXo09qF6NPahejT2oXo09qF6NPSGrrT2oXo09qF6NPahejT2oXo09qF6NPahejT2oXo09IautPahejT2oXo09qF6NPahejT2oXo09qF6NPahejT0dUo09HVKNPR1SjT0dUo09HVKNPR1SjT0dUo09HVKNPR1SjT0dUo09HVKNPR1SjT0dUo09HVKNPR1SjT0dUo09HVKNPR1SjT0dUo09HVKNPR1SjT0dUo09HVKNPR1SjT2Wnq09HVKNPR1SjT0dUo09HVKNPR1SjT0dUo09HVKNPR1SjT0dUo09HVKNPR1SjT0dUo09HVKNPR1SjT0dUo09HVKNPR1SjT0dUo09lp6tPR1SjT0dUo09HVKNPR1SjT0dUo09HVKNPR1SjT0dUo09HVKNPR1SjT0dUo09HVKNPR1SjT0dUo09HVKNPQ==",
          "dtype": "f4"
         },
         "yaxis": "y14"
        },
        {
         "line": {
          "color": "blue",
          "width": 1
         },
         "mode": "lines",
         "opacity": 0.7,
         "showlegend": false,
         "type": "scatter",
         "x": {
          "bdata": "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",
          "dtype": "f8"
         },
         "xaxis": "x22",
         "y": {
          "bdata": "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",
          "dtype": "f4"
         },
         "yaxis": "y22"
        },
        {
         "line": {
          "color": "orange",
          "width": 1
         },
         "mode": "lines",
         "opacity": 0.7,
         "showlegend": false,
         "type": "scatter",
         "x": {
          "bdata": "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",
          "dtype": "f8"
         },
         "xaxis": "x6",
         "y": {
          "bdata": "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",
          "dtype": "f4"
         },
         "yaxis": "y6"
        },
        {
         "line": {
          "color": "orange",
          "width": 1
         },
         "mode": "lines",
         "opacity": 0.7,
         "showlegend": false,
         "type": "scatter",
         "x": {
          "bdata": "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",
          "dtype": "f8"
         },
         "xaxis": "x14",
         "y": {
          "bdata": "OHhTPzh4Uz84eFM/OHhTPzh4Uz84eFM/OHhTPzh4Uz84eFM/OHhTPzh4Uz84eFM/OHhTPzh4Uz84eFM/OHhTPzh4Uz84eFM/OHhTPzh4Uz84eFM/OHhTPzh4Uz84eFM/OHhTPzh4Uz84eFM/OHhTPzh4Uz84eFM/OHhTPzh4Uz84eFM/OHhTPzh4Uz84eFM/OHhTPzh4Uz84eFM/OHhTPzh4Uz84eFM/OHhTPzh4Uz84eFM/OHhTPzh4Uz84eFM/OHhTPzh4Uz84eFM/OHhTPzh4Uz84eFM/OHhTPzh4Uz84eFM/OHhTPzh4Uz84eFM/OHhTPzh4Uz84eFM/OHhTPzh4Uz84eFM/OHhTPzh4Uz84eFM/OHhTPzh4Uz84eFM/OHhTPzh4Uz84eFM/OHhTPzh4Uz84eFM/OHhTPzh4Uz84eFM/OHhTPzh4Uz84eFM/OHhTPzh4Uz84eFM/OHhTPzh4Uz84eFM/OHhTPzh4Uz84eFM/OHhTPzh4Uz84eFM/OHhTPzh4Uz84eFM/OHhTPzh4Uz84eFM/OHhTPzh4Uz84eFM/OHhTPzh4Uz84eFM/OHhTPzh4Uz84eFM/OHhTPzh4Uz+pbk8/OHhTPzh4Uz84eFM/OHhTP6luTz84eFM/OHhTPzh4Uz84eFM/OHhTPzh4Uz84eFM/OHhTPzh4Uz84eFM/OHhTPzh4Uz84eFM/OHhTPzh4Uz84eFM/OHhTPzh4Uz84eFM/OHhTPzh4Uz84eFM/OHhTPzh4Uz84eFM/OHhTPzh4Uz84eFM/OHhTPzh4Uz84eFM/OHhTPzh4Uz84eFM/OHhTPzh4Uz84eFM/OHhTPzh4Uz84eFM/OHhTPzh4Uz84eFM/OHhTPzh4Uz84eFM/OHhTPzh4Uz84eFM/OHhTPzh4Uz84eFM/OHhTPzh4Uz84eFM/OHhTPzh4Uz84eFM/OHhTPzh4Uz84eFM/OHhTPzh4Uz84eFM/OHhTPzh4Uz84eFM/OHhTP6luTz84eFM/OHhTPzh4Uz84eFM/OHhTPzh4Uz84eFM/OHhTPzh4Uz84eFM/OHhTPzh4Uz84eFM/OHhTPzh4Uz84eFM/OHhTPzh4Uz84eFM/OHhTPzh4Uz84eFM/OHhTPzh4Uz84eFM/OHhTPzh4Uz84eFM/qW5PPzh4Uz84eFM/OHhTPzh4Uz84eFM/OHhTPzh4Uz84eFM/OHhTPzh4Uz84eFM/OHhTPzh4Uz84eFM/OHhTPzh4Uz+pbk8/OHhTPzh4Uz84eFM/OHhTPzh4Uz84eFM/OHhTPzh4Uz84eFM/OHhTPzh4Uz84eFM/qW5PPzh4Uz84eFM/OHhTPzh4Uz84eFM/OHhTPzh4Uz84eFM/OHhTP6luTz84eFM/OHhTPzh4Uz84eFM/qW5PPzh4Uz84eFM/OHhTPzh4Uz84eFM/OHhTPzh4Uz84eFM/OHhTPzh4Uz84eFM/OHhTPzh4Uz84eFM/OHhTPzh4Uz84eFM/OHhTPzh4Uz84eFM/OHhTPzh4Uz84eFM/qW5PPzh4Uz84eFM/OHhTPzh4Uz84eFM/OHhTPzh4Uz84eFM/OHhTPzh4Uz84eFM/OHhTPzh4Uz84eFM/OHhTPzh4Uz84eFM/qW5PPzh4Uz84eFM/OHhTPzh4Uz84eFM/OHhTPzh4Uz84eFM/OHhTPzh4Uz84eFM/OHhTP6luTz84eFM/OHhTPzh4Uz84eFM/OHhTPzh4Uz84eFM/OHhTPzh4Uz84eFM/OHhTPzh4Uz84eFM/OHhTPzh4Uz84eFM/OHhTPzh4Uz84eFM/OHhTPzh4Uz84eFM/OHhTPzh4Uz84eFM/OHhTPzh4Uz84eFM/OHhTPzh4Uz/HgVc/OHhTPzh4Uz84eFM/OHhTPzh4Uz84eFM/OHhTPzh4Uz84eFM/OHhTPzh4Uz84eFM/OHhTPzh4Uz84eFM/OHhTPzh4Uz84eFM/OHhTPzh4Uz84eFM/OHhTPzh4Uz84eFM/OHhTPzh4Uz84eFM/OHhTPzh4Uz84eFM/OHhTPzh4Uz84eFM/qW5PPzh4Uz84eFM/OHhTPzh4Uz84eFM/OHhTPzh4Uz84eFM/OHhTPzh4Uz84eFM/OHhTPzh4Uz84eFM/OHhTPzh4Uz84eFM/OHhTPzh4Uz84eFM/OHhTPzh4Uz84eFM/qW5PPzh4Uz84eFM/OHhTPzh4Uz84eFM/OHhTPzh4Uz84eFM/OHhTPzh4Uz84eFM/OHhTPzh4Uz84eFM/OHhTPzh4Uz84eFM/OHhTPzh4Uz84eFM/OHhTPzh4Uz84eFM/OHhTPzh4Uz84eFM/OHhTPzh4Uz84eFM/OHhTPzh4Uz84eFM/OHhTPzh4Uz84eFM/OHhTPzh4Uz84eFM/OHhTPzh4Uz84eFM/OHhTPzh4Uz84eFM/OHhTPzh4Uz84eFM/OHhTPzh4Uz84eFM/OHhTPzh4Uz84eFM/OHhTPzh4Uz84eFM/OHhTPzh4Uz84eFM/OHhTPzh4Uz84eFM/OHhTPzh4Uz84eFM/OHhTPzh4Uz84eFM/OHhTPzh4Uz84eFM/OHhTPzh4Uz84eFM/OHhTPzh4Uz84eFM/OHhTPzh4Uz84eFM/OHhTPzh4Uz84eFM/OHhTPzh4Uz84eFM/OHhTPzh4Uz84eFM/OHhTPzh4Uz84eFM/OHhTPzh4Uz84eFM/OHhTPzh4Uz84eFM/OHhTPzh4Uz84eFM/OHhTPzh4Uz84eFM/OHhTP6luTz84eFM/OHhTPzh4Uz84eFM/OHhTPzh4Uz84eFM/OHhTPzh4Uz84eFM/OHhTPzh4Uz84eFM/OHhTPzh4Uz84eFM/OHhTPzh4Uz84eFM/OHhTPzh4Uz+pbk8/OHhTPzh4Uz84eFM/OHhTPzh4Uz84eFM/OHhTPzh4Uz84eFM/OHhTPzh4Uz84eFM/OHhTPzh4Uz84eFM/OHhTPzh4Uz84eFM/OHhTPzh4Uz84eFM/OHhTPzh4Uz84eFM/OHhTPzh4Uz84eFM/OHhTPzh4Uz84eFM/OHhTPzh4Uz84eFM/OHhTPzh4Uz84eFM/OHhTPzh4Uz84eFM/OHhTPzh4Uz84eFM/OHhTPzh4Uz84eFM/OHhTPzh4Uz84eFM/qW5PPzh4Uz84eFM/OHhTPzh4Uz84eFM/OHhTPzh4Uz84eFM/OHhTPzh4Uz84eFM/OHhTPzh4Uz84eFM/OHhTPzh4Uz84eFM/qW5PPzh4Uz84eFM/OHhTPzh4Uz84eFM/OHhTPzh4Uz84eFM/OHhTPzh4Uz84eFM/OHhTPzh4Uz84eFM/OHhTP6luTz84eFM/OHhTPzh4Uz84eFM/OHhTPzh4Uz+pbk8/OHhTPzh4Uz84eFM/OHhTPzh4Uz84eFM/OHhTPzh4Uz84eFM/OHhTPzh4Uz84eFM/OHhTPzh4Uz84eFM/OHhTPzh4Uz+pbk8/OHhTPzh4Uz84eFM/OHhTPzh4Uz84eFM/OHhTPzh4Uz84eFM/qW5PPzh4Uz84eFM/OHhTPzh4Uz84eFM/OHhTPzh4Uz84eFM/OHhTPzh4Uz84eFM/OHhTPzh4Uz84eFM/OHhTPzh4Uz84eFM/OHhTPzh4Uz84eFM/OHhTPzh4Uz+pbk8/OHhTPzh4Uz+pbk8/OHhTPzh4Uz84eFM/OHhTPzh4Uz84eFM/OHhTPzh4Uz84eFM/OHhTPzh4Uz84eFM/OHhTPzh4Uz84eFM/OHhTP6luTz84eFM/OHhTPzh4Uz84eFM/OHhTPzh4Uz84eFM/OHhTPzh4Uz+pbk8/OHhTPzh4Uz84eFM/OHhTPzh4Uz84eFM/OHhTPzh4Uz84eFM/OHhTPzh4Uz84eFM/OHhTPzh4Uz84eFM/OHhTP6luTz84eFM/OHhTPzh4Uz84eFM/OHhTPzh4Uz84eFM/OHhTPzh4Uz84eFM/OHhTPzh4Uz84eFM/OHhTPzh4Uz84eFM/OHhTPzh4Uz84eFM/OHhTPzh4Uz84eFM/OHhTPzh4Uz84eFM/OHhTPzh4Uz84eFM/OHhTPzh4Uz84eFM/OHhTPzh4Uz84eFM/OHhTPzh4Uz84eFM/OHhTPzh4Uz84eFM/OHhTPzh4Uz84eFM/OHhTPzh4Uz84eFM/OHhTPzh4Uz84eFM/OHhTPzh4Uz84eFM/OHhTPzh4Uz84eFM/OHhTPzh4Uz84eFM/OHhTPzh4Uz84eFM/OHhTPzh4Uz84eFM/OHhTPzh4Uz84eFM/OHhTPzh4Uz84eFM/OHhTPzh4Uz84eFM/OHhTPzh4Uz84eFM/OHhTPzh4Uz84eFM/OHhTPzh4Uz84eFM/OHhTPzh4Uz84eFM/OHhTPzh4Uz84eFM/OHhTPzh4Uz84eFM/OHhTPzh4Uz84eFM/OHhTPzh4Uz/JeVM/yXlTP8l5Uz/JeVM/yXlTP8l5Uz/JeVM/yXlTP8l5Uz/JeVM/yXlTP8l5Uz/JeVM/yXlTP8l5Uz/JeVM/yXlTP8l5Uz/JeVM/yXlTP8l5Uz/JeVM/yXlTP8l5Uz/JeVM/yXlTP8l5Uz/JeVM/yXlTP8l5Uz/JeVM/yXlTP8l5Uz/JeVM/yXlTP8l5Uz/JeVM/yXlTP8l5Uz/JeVM/yXlTPzpwTz/JeVM/yXlTP8l5Uz/JeVM/yXlTP8l5Uz/JeVM/yXlTP8l5Uz/JeVM/yXlTP8l5Uz/JeVM/yXlTP8l5Uz/JeVM/yXlTP8l5Uz/JeVM/yXlTP8l5Uz/JeVM/yXlTP8l5Uz/JeVM/yXlTP8l5Uz/JeVM/yXlTP8l5Uz/JeVM/yXlTP8l5Uz/JeVM/yXlTP8l5Uz/JeVM/yXlTP8l5Uz/JeVM/yXlTP8l5Uz/JeVM/yXlTP8l5Uz/JeVM/yXlTP8l5Uz/JeVM/yXlTP8l5Uz/JeVM/yXlTP8l5Uz/JeVM/yXlTP8l5Uz/JeVM/yXlTP8l5Uz/JeVM/yXlTP8l5Uz/JeVM/yXlTP8l5Uz/JeVM/yXlTP8l5Uz/JeVM/yXlTP8l5Uz/JeVM/yXlTP8l5Uz/JeVM/yXlTP8l5Uz/JeVM/yXlTPzh4Uz84eFM/OHhTPzh4Uz84eFM/OHhTPzh4Uz84eFM/OHhTPzh4Uz84eFM/OHhTPzh4Uz84eFM/OHhTPzh4Uz84eFM/OHhTPzh4Uz84eFM/OHhTPzh4Uz84eFM/OHhTPzh4Uz84eFM/OHhTPzh4Uz84eFM/OHhTPzh4Uz84eFM/OHhTPzh4Uz84eFM/OHhTPzh4Uz84eFM/OHhTP6luTz84eFM/OHhTPzh4Uz84eFM/OHhTPzh4Uz84eFM/OHhTPzh4Uz84eFM/OHhTPzh4Uz84eFM/OHhTPzh4Uz84eFM/OHhTP6luTz84eFM/OHhTPw==",
          "dtype": "f4"
         },
         "yaxis": "y14"
        },
        {
         "line": {
          "color": "orange",
          "width": 1
         },
         "mode": "lines",
         "opacity": 0.7,
         "showlegend": false,
         "type": "scatter",
         "x": {
          "bdata": "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",
          "dtype": "f8"
         },
         "xaxis": "x22",
         "y": {
          "bdata": "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",
          "dtype": "f4"
         },
         "yaxis": "y22"
        },
        {
         "line": {
          "color": "blue",
          "width": 1
         },
         "mode": "lines",
         "opacity": 0.7,
         "showlegend": false,
         "type": "scatter",
         "x": {
          "bdata": "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",
          "dtype": "f8"
         },
         "xaxis": "x7",
         "y": {
          "bdata": "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",
          "dtype": "f4"
         },
         "yaxis": "y7"
        },
        {
         "line": {
          "color": "blue",
          "width": 1
         },
         "mode": "lines",
         "opacity": 0.7,
         "showlegend": false,
         "type": "scatter",
         "x": {
          "bdata": "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",
          "dtype": "f8"
         },
         "xaxis": "x15",
         "y": {
          "bdata": "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",
          "dtype": "f4"
         },
         "yaxis": "y15"
        },
        {
         "line": {
          "color": "blue",
          "width": 1
         },
         "mode": "lines",
         "opacity": 0.7,
         "showlegend": false,
         "type": "scatter",
         "x": {
          "bdata": "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",
          "dtype": "f8"
         },
         "xaxis": "x23",
         "y": {
          "bdata": "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",
          "dtype": "f4"
         },
         "yaxis": "y23"
        },
        {
         "line": {
          "color": "orange",
          "width": 1
         },
         "mode": "lines",
         "opacity": 0.7,
         "showlegend": false,
         "type": "scatter",
         "x": {
          "bdata": "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",
          "dtype": "f8"
         },
         "xaxis": "x7",
         "y": {
          "bdata": "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",
          "dtype": "f4"
         },
         "yaxis": "y7"
        },
        {
         "line": {
          "color": "orange",
          "width": 1
         },
         "mode": "lines",
         "opacity": 0.7,
         "showlegend": false,
         "type": "scatter",
         "x": {
          "bdata": "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",
          "dtype": "f8"
         },
         "xaxis": "x15",
         "y": {
          "bdata": "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",
          "dtype": "f4"
         },
         "yaxis": "y15"
        },
        {
         "line": {
          "color": "orange",
          "width": 1
         },
         "mode": "lines",
         "opacity": 0.7,
         "showlegend": false,
         "type": "scatter",
         "x": {
          "bdata": "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",
          "dtype": "f8"
         },
         "xaxis": "x23",
         "y": {
          "bdata": "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",
          "dtype": "f4"
         },
         "yaxis": "y23"
        },
        {
         "line": {
          "color": "blue",
          "width": 1
         },
         "mode": "lines",
         "opacity": 0.7,
         "showlegend": false,
         "type": "scatter",
         "x": {
          "bdata": "AAAAAAAAAAACSAHNIICEPwJIAc0ggJQ/A+yBMzHAnj8CSAHNIICkPwKaQQApoKk/A+yBMzHArj8CH2GzHPCxPwJIAc0ggLQ/AnGh5iQQtz8CmkEAKaC5PwPD4RktMLw/A+yBMzHAvj+CCpGmGqjAPwIfYbMc8ME/gjMxwB44wz8CSAHNIIDEP4Jc0dkiyMU/AnGh5iQQxz+ChXHzJljIPwKaQQApoMk/g64RDSvoyj8Dw+EZLTDMP4PXsSYveM0/A+yBMzHAzj9CACmgGQTQP4IKkaYaqNA/whT5rBtM0T8CH2GzHPDRP0IpybkdlNI/gjMxwB440z/CPZnGH9zTPwJIAc0ggNQ/QlJp0yEk1T+CXNHZIsjVP8JmOeAjbNY/AnGh5iQQ1z9CewntJbTXP4KFcfMmWNg/wo/Z+Sf82D8CmkEAKaDZP0OkqQYqRNo/g64RDSvo2j/DuHkTLIzbPwPD4RktMNw/Q81JIC7U3D+D17EmL3jdP8PhGS0wHN4/A+yBMzHA3j9D9uk5MmTfP0IAKaAZBOA/YgVdIxpW4D+CCpGmGqjgP6IPxSkb+uA/whT5rBtM4T/iGS0wHJ7hPwIfYbMc8OE/IiSVNh1C4j9CKcm5HZTiP2Iu/Twe5uI/gjMxwB444z+iOGVDH4rjP8I9mcYf3OM/4kLNSSAu5D8CSAHNIIDkPyJNNVAh0uQ/QlJp0yEk5T9iV51WInblP4Jc0dkiyOU/omEFXSMa5j/CZjngI2zmP+JrbWMkvuY/AnGh5iQQ5z8idtVpJWLnP0J7Ce0ltOc/YoA9cCYG6D+ChXHzJljoP6KKpXYnqug/wo/Z+Sf86D/ilA19KE7pPwKaQQApoOk/I591gyny6T9DpKkGKkTqP2Op3Ykqluo/g64RDSvo6j+js0WQKzrrP8O4eRMsjOs/472tlize6z8Dw+EZLTDsPyPIFZ0tguw/Q81JIC7U7D9j0n2jLibtP4PXsSYveO0/o9zlqS/K7T/D4RktMBzuP+PmTbAwbu4/A+yBMzHA7j8j8bW2MRLvP0P26TkyZO8/Y/sdvTK27z9CACmgGQTwP9ICw+EZLfA/YgVdIxpW8D/yB/dkGn/wP4IKkaYaqPA/Eg0r6BrR8D+iD8UpG/rwPzISX2sbI/E/whT5rBtM8T9SF5PuG3XxP+IZLTAcnvE/chzHcRzH8T8CH2GzHPDxP5Ih+/QcGfI/IiSVNh1C8j+yJi94HWvyP0IpybkdlPI/0itj+x298j9iLv08HubyP/Iwl34eD/M/gjMxwB448z8SNssBH2HzP6I4ZUMfivM/Mjv/hB+z8z/CPZnGH9zzP1JAMwggBfQ/4kLNSSAu9D9yRWeLIFf0PwJIAc0ggPQ/kkqbDiGp9D8iTTVQIdL0P7JPz5Eh+/Q/QlJp0yEk9T/SVAMVIk31P2JXnVYidvU/8lk3mCKf9T+CXNHZIsj1PxJfaxsj8fU/omEFXSMa9j8yZJ+eI0P2P8JmOeAjbPY/UmnTISSV9j/ia21jJL72P3JuB6Uk5/Y/AnGh5iQQ9z+SczsoJTn3PyJ21WklYvc/snhvqyWL9z9CewntJbT3P9J9oy4m3fc/YoA9cCYG+D/ygtexJi/4P4KFcfMmWPg/EogLNSeB+D+iiqV2J6r4PzKNP7gn0/g/wo/Z+Sf8+D9SknM7KCX5P+KUDX0oTvk/cpenvih3+T8CmkEAKaD5P5Oc20Epyfk/I591gyny+T+zoQ/FKRv6P0OkqQYqRPo/06ZDSCpt+j9jqd2JKpb6P/Ord8sqv/o/g64RDSvo+j8TsatOKxH7P6OzRZArOvs/M7bf0Stj+z/DuHkTLIz7P1O7E1Ustfs/472tlize+z9zwEfYLAf8PwPD4RktMPw/k8V7Wy1Z/D8jyBWdLYL8P7PKr94tq/w/Q81JIC7U/D/Tz+NhLv38P2PSfaMuJv0/89QX5S5P/T+D17EmL3j9PxPaS2gvof0/o9zlqS/K/T8z33/rL/P9P8PhGS0wHP4/U+SzbjBF/j/j5k2wMG7+P3Pp5/Ewl/4/A+yBMzHA/j+T7ht1Men+PyPxtbYxEv8/s/NP+DE7/z9D9uk5MmT/P9P4g3syjf8/Y/sdvTK2/z/z/bf+Mt//P0IAKaAZBABAigH2wJkYAEDSAsPhGS0AQBoEkAKaQQBAYgVdIxpWAECqBipEmmoAQPIH92QafwBAOgnEhZqTAECCCpGmGqgAQMoLXseavABAEg0r6BrRAEBaDvgIm+UAQKIPxSkb+gBA6hCSSpsOAUAyEl9rGyMBQHoTLIybNwFAwhT5rBtMAUAKFsbNm2ABQFIXk+4bdQFAmhhgD5yJAUDiGS0wHJ4BQCob+lCcsgFAchzHcRzHAUC6HZSSnNsBQAIfYbMc8AFASiAu1JwEAkCSIfv0HBkCQNoiyBWdLQJAIiSVNh1CAkBqJWJXnVYCQLImL3gdawJA+if8mJ1/AkBCKcm5HZQCQIoqltqdqAJA0itj+x29AkAaLTAcntECQGIu/Twe5gJAqi/KXZ76AkDyMJd+Hg8DQDoyZJ+eIwNAgjMxwB44A0DKNP7gnkwDQBI2ywEfYQNAWjeYIp91A0CiOGVDH4oDQOo5MmSfngNAMjv/hB+zA0B6PMyln8cDQMI9mcYf3ANACj9m55/wA0BSQDMIIAUEQJpBACmgGQRA4kLNSSAuBEAqRJpqoEIEQHJFZ4sgVwRAukY0rKBrBEACSAHNIIAEQEpJzu2glARAkkqbDiGpBEDaS2gvob0EQCJNNVAh0gRAak4CcaHmBECyT8+RIfsEQPpQnLKhDwVAQlJp0yEkBUCKUzb0oTgFQNJUAxUiTQVAGlbQNaJhBUBiV51WInYFQKpYaneiigVA8lk3mCKfBUA6WwS5orMFQIJc0dkiyAVAyl2e+qLcBUASX2sbI/EFQFpgODyjBQZAomEFXSMaBkDqYtJ9oy4GQDJkn54jQwZAemVsv6NXBkDCZjngI2wGQApoBgGkgAZAUmnTISSVBkCaaqBCpKkGQOJrbWMkvgZAKm06hKTSBkBybgelJOcGQLpv1MWk+wZAAnGh5iQQB0BKcm4HpSQHQJJzOyglOQdA2nQISaVNB0AidtVpJWIHQGp3ooqldgdAsnhvqyWLB0D6eTzMpZ8HQEJ7Ce0ltAdAinzWDabIB0DSfaMuJt0HQBp/cE+m8QdAYoA9cCYGCECqgQqRphoIQPKC17EmLwhAOoSk0qZDCECChXHzJlgIQMqGPhSnbAhAEogLNSeBCEBaidhVp5UIQKKKpXYnqghA6otyl6e+CEAyjT+4J9MIQHqODNmn5whAwo/Z+Sf8CEAKkaYaqBAJQFKSczsoJQlAmpNAXKg5CUDilA19KE4JQCqW2p2oYglAcpenvih3CUC6mHTfqIsJQAKaQQApoAlAS5sOIam0CUCTnNtBKckJQNudqGKp3QlAI591gynyCUBroEKkqQYKQLOhD8UpGwpA+6Lc5akvCkBDpKkGKkQKQIuldieqWApA06ZDSCptCkAbqBBpqoEKQGOp3YkqlgpAq6qqqqqqCkDzq3fLKr8KQDutROyq0wpAg64RDSvoCkDLr94tq/wKQBOxq04rEQtAW7J4b6slC0Cjs0WQKzoLQOu0ErGrTgtAM7bf0StjC0B7t6zyq3cLQMO4eRMsjAtAC7pGNKygC0BTuxNVLLULQJu84HWsyQtA472tlizeC0Arv3q3rPILQHPAR9gsBwxAu8EU+awbDEADw+EZLTAMQEvErjqtRAxAk8V7Wy1ZDEDbxkh8rW0MQCPIFZ0tggxAa8niva2WDECzyq/eLasMQPvLfP+tvwxAQ81JIC7UDECLzhZBrugMQNPP42Eu/QxAG9Gwgq4RDUBj0n2jLiYNQKvTSsSuOg1A89QX5S5PDUA71uQFr2MNQIPXsSYveA1Ay9h+R6+MDUAT2ktoL6ENQFvbGImvtQ1Ao9zlqS/KDUDr3bLKr94NQDPff+sv8w1Ae+BMDLAHDkDD4RktMBwOQAvj5k2wMA5AU+SzbjBFDkCb5YCPsFkOQOPmTbAwbg5AK+ga0bCCDkBz6efxMJcOQLvqtBKxqw5AA+yBMzHADkBL7U5UsdQOQJPuG3Ux6Q5A2+/olbH9DkAj8bW2MRIPQGvygtexJg9As/NP+DE7D0D79BwZsk8PQEP26TkyZA9Ai/e2WrJ4D0DT+IN7Mo0PQBv6UJyyoQ9AY/sdvTK2D0Cr/OrdssoPQPP9t/4y3w9AO/+EH7PzD0BCACmgGQQQQOaAj7BZDhBAigH2wJkYEEAuglzR2SIQQNICw+EZLRBAdoMp8lk3EEAaBJACmkEQQL6E9hLaSxBAYgVdIxpWEEAGhsMzWmAQQKoGKkSaahBAToeQVNp0EEDyB/dkGn8QQJaIXXVaiRBAOgnEhZqTEEDeiSqW2p0QQIIKkaYaqBBAJov3tlqyEEDKC17HmrwQQG6MxNfaxhBAEg0r6BrREEC2jZH4WtsQQFoO+Aib5RBA/o5eGdvvEECiD8UpG/oQQEaQKzpbBBFA6hCSSpsOEUCOkfha2xgRQDISX2sbIxFA1pLFe1stEUB6EyyMmzcRQB6UkpzbQRFAwhT5rBtMEUBmlV+9W1YRQAoWxs2bYBFArpYs3ttqEUBSF5PuG3URQPaX+f5bfxFAmhhgD5yJEUA+mcYf3JMRQOIZLTAcnhFAhpqTQFyoEUAqG/pQnLIRQM6bYGHcvBFAchzHcRzHEUAWnS2CXNERQLodlJKc2xFAXp76otzlEUACH2GzHPARQKafx8Nc+hFASiAu1JwEEkDuoJTk3A4SQJIh+/QcGRJANqJhBV0jEkDaIsgVnS0SQH6jLibdNxJAIiSVNh1CEkDGpPtGXUwSQGolYledVhJADqbIZ91gEkCyJi94HWsSQFanlYhddRJA+if8mJ1/EkCeqGKp3YkSQEIpybkdlBJA5qkvyl2eEkCKKpbanagSQC6r/OrdshJA0itj+x29EkB2rMkLXscSQBotMBye0RJAvq2WLN7bEkBiLv08HuYSQAavY01e8BJAqi/KXZ76EkBOsDBu3gQTQPIwl34eDxNAlrH9jl4ZE0A6MmSfniMTQN6yyq/eLRNAgjMxwB44E0AmtJfQXkITQMo0/uCeTBNAbrVk8d5WE0ASNssBH2ETQLa2MRJfaxNAWjeYIp91E0D+t/4y338TQKI4ZUMfihNARrnLU1+UE0DqOTJkn54TQI66mHTfqBNAMjv/hB+zE0DWu2WVX70TQHo8zKWfxxNAHr0ytt/RE0DCPZnGH9wTQGa+/9Zf5hNACj9m55/wE0Cuv8z33/oTQFJAMwggBRRA9sCZGGAPFECaQQApoBkUQD7CZjngIxRA4kLNSSAuFECGwzNaYDgUQCpEmmqgQhRAzsQAe+BMFEByRWeLIFcUQBbGzZtgYRRAukY0rKBrFEBex5q84HUUQAJIAc0ggBRApshn3WCKFEBKSc7toJQUQO7JNP7gnhRAkkqbDiGpFEA2ywEfYbMUQNpLaC+hvRRAfszOP+HHFEAiTTVQIdIUQMbNm2Bh3BRAak4CcaHmFEAOz2iB4fAUQLJPz5Eh+xRAVtA1omEFFUD6UJyyoQ8VQJ7RAsPhGRVAQlJp0yEkFUDm0s/jYS4VQIpTNvShOBVALtScBOJCFUDSVAMVIk0VQHbVaSViVxVAGlbQNaJhFUC+1jZG4msVQGJXnVYidhVABtgDZ2KAFUCqWGp3oooVQE7Z0IfilBVA8lk3mCKfFUCW2p2oYqkVQDpbBLmisxVA3ttqyeK9FUCCXNHZIsgVQCbdN+pi0hVAyl2e+qLcFUBu3gQL4+YVQBJfaxsj8RVAtt/RK2P7FUBaYDg8owUWQP7gnkzjDxZAomEFXSMaFkBG4mttYyQWQOpi0n2jLhZAjuM4juM4FkAyZJ+eI0MWQNbkBa9jTRZAemVsv6NXFkAe5tLP42EWQMJmOeAjbBZAZuef8GN2FkAKaAYBpIAWQK7obBHkihZAUmnTISSVFkD26TkyZJ8WQJpqoEKkqRZAPusGU+SzFkDia21jJL4WQIbs03NkyBZAKm06hKTSFkDO7aCU5NwWQHJuB6Uk5xZAFu9ttWTxFkC6b9TFpPsWQF7wOtbkBRdAAnGh5iQQF0Cm8Qf3ZBoXQEpybgelJBdA7vLUF+UuF0CSczsoJTkXQDb0oThlQxdA2nQISaVNF0B+9W5Z5VcXQCJ21WklYhdAxvY7emVsF0Bqd6KKpXYXQA74CJvlgBdAsnhvqyWLF0BW+dW7ZZUXQPp5PMylnxdAnvqi3OWpF0BCewntJbQXQOb7b/1lvhdAinzWDabIF0Au/Twe5tIXQNJ9oy4m3RdAdv4JP2bnF0Aaf3BPpvEXQL7/1l/m+xdAYoA9cCYGGEAGAaSAZhAYQKqBCpGmGhhATgJxoeYkGEDygtexJi8YQJYDPsJmORhAOoSk0qZDGEDeBAvj5k0YQIKFcfMmWBhAJgbYA2diGEDKhj4Up2wYQG4HpSTndhhAEogLNSeBGEC2CHJFZ4sYQFqJ2FWnlRhA/gk/ZuefGECiiqV2J6oYQEYLDIdntBhA6otyl6e+GECODNmn58gYQDKNP7gn0xhA1g2myGfdGEB6jgzZp+cYQB4Pc+nn8RhAwo/Z+Sf8GEBmEEAKaAYZQAqRphqoEBlArhENK+gaGUBSknM7KCUZQPYS2ktoLxlAmpNAXKg5GUA+FKds6EMZQOKUDX0oThlAhhV0jWhYGUAqltqdqGIZQM4WQa7obBlAcpenvih3GUAWGA7PaIEZQLqYdN+oixlAXhnb7+iVGUACmkEAKaAZQKcaqBBpqhlAS5sOIam0GUDvG3Ux6b4ZQJOc20EpyRlANx1CUmnTGUDbnahiqd0ZQH8eD3Pp5xlAI591gynyGUDHH9yTafwZQGugQqSpBhpADyGptOkQGkCzoQ/FKRsaQFcidtVpJRpA+6Lc5akvGkCfI0P26TkaQEOkqQYqRBpA5yQQF2pOGkCLpXYnqlgaQC8m3TfqYhpA06ZDSCptGkB3J6pYancaQBuoEGmqgRpAvyh3eeqLGkBjqd2JKpYaQAcqRJpqoBpAq6qqqqqqGkBPKxG76rQaQPOrd8sqvxpAlyze22rJGkA7rUTsqtMaQN8tq/zq3RpAg64RDSvoGkAnL3gda/IaQMuv3i2r/BpAbzBFPusGG0ATsatOKxEbQLcxEl9rGxtAW7J4b6slG0D/Mt9/6y8bQKOzRZArOhtARzSsoGtEG0DrtBKxq04bQI81ecHrWBtAM7bf0StjG0DXNkbia20bQHu3rPKrdxtAHzgTA+yBG0DDuHkTLIwbQGc54CNslhtAC7pGNKygG0CvOq1E7KobQFO7E1UstRtA9zt6ZWy/G0CbvOB1rMkbQD89R4bs0xtA472tlizeG0CHPhSnbOgbQCu/eres8htAzz/hx+z8G0BzwEfYLAccQBdBruhsERxAu8EU+awbHEBfQnsJ7SUcQAPD4RktMBxAp0NIKm06HEBLxK46rUQcQO9EFUvtThxAk8V7Wy1ZHEA3RuJrbWMcQNvGSHytbRxAf0evjO13HEAjyBWdLYIcQMdIfK1tjBxAa8niva2WHEAPSknO7aAcQLPKr94tqxxAV0sW7221HED7y3z/rb8cQJ9M4w/uyRxAQ81JIC7UHEDnTbAwbt4cQIvOFkGu6BxAL099Ue7yHEDTz+NhLv0cQHdQSnJuBx1AG9Gwgq4RHUC/UReT7hsdQGPSfaMuJh1AB1Pks24wHUCr00rErjodQE9UsdTuRB1A89QX5S5PHUCXVX71blkdQDvW5AWvYx1A31ZLFu9tHUCD17EmL3gdQCdYGDdvgh1Ay9h+R6+MHUBvWeVX75YdQBPaS2gvoR1At1qyeG+rHUBb2xiJr7UdQP9bf5nvvx1Ao9zlqS/KHUBHXUy6b9QdQOvdssqv3h1Aj14Z2+/oHUAz33/rL/MdQNdf5vtv/R1Ae+BMDLAHHkAfYbMc8BEeQMPhGS0wHB5AZ2KAPXAmHkAL4+ZNsDAeQK9jTV7wOh5AU+SzbjBFHkD3ZBp/cE8eQJvlgI+wWR5AP2bnn/BjHkDj5k2wMG4eQIdntMBweB5AK+ga0bCCHkDPaIHh8IweQHPp5/Ewlx5AF2pOAnGhHkC76rQSsaseQF9rGyPxtR5AA+yBMzHAHkCnbOhDccoeQEvtTlSx1B5A7221ZPHeHkCT7ht1MekeQDdvgoVx8x5A2+/olbH9HkB/cE+m8QcfQCPxtbYxEh9Ax3Ecx3EcH0Br8oLXsSYfQA9z6efxMB9As/NP+DE7H0BXdLYIckUfQPv0HBmyTx9An3WDKfJZH0BD9uk5MmQfQOd2UEpybh9Ai/e2WrJ4H0AveB1r8oIfQNP4g3syjR9Ad3nqi3KXH0Ab+lCcsqEfQL96t6zyqx9AY/sdvTK2H0AHfITNcsAfQKv86t2yyh9AT31R7vLUH0Dz/bf+Mt8fQJd+Hg9z6R9AO/+EH7PzH0Dff+sv8/0fQEIAKaAZBCBAlEBcqDkJIEDmgI+wWQ4gQDjBwrh5EyBAigH2wJkYIEDcQSnJuR0gQC6CXNHZIiBAgMKP2fknIEDSAsPhGS0gQCRD9uk5MiBAdoMp8lk3IEDIw1z6eTwgQBoEkAKaQSBAbETDCrpGIEC+hPYS2ksgQBDFKRv6UCBAYgVdIxpWIEC0RZArOlsgQAaGwzNaYCBAWMb2O3plIECqBipEmmogQPxGXUy6byBAToeQVNp0IECgx8Nc+nkgQPIH92QafyBAREgqbTqEIECWiF11WokgQOjIkH16jiBAOgnEhZqTIECMSfeNupggQN6JKpbanSBAMMpdnvqiIECCCpGmGqggQNRKxK46rSBAJov3tlqyIEB4yyq/ercgQMoLXseavCBAHEyRz7rBIEBujMTX2sYgQMDM99/6yyBAEg0r6BrRIEBkTV7wOtYgQLaNkfha2yBACM7EAHvgIEBaDvgIm+UgQKxOKxG76iBA/o5eGdvvIEBQz5Eh+/QgQKIPxSkb+iBA9E/4MTv/IEBGkCs6WwQhQJjQXkJ7CSFA6hCSSpsOIUA8UcVSuxMhQI6R+FrbGCFA4NErY/sdIUAyEl9rGyMhQIRSknM7KCFA1pLFe1stIUAo0/iDezIhQHoTLIybNyFAzFNflLs8IUAelJKc20EhQHDUxaT7RiFAwhT5rBtMIUAUVSy1O1EhQGaVX71bViFAuNWSxXtbIUAKFsbNm2AhQFxW+dW7ZSFArpYs3ttqIUAA11/m+28hQFIXk+4bdSFApFfG9jt6IUD2l/n+W38hQEjYLAd8hCFAmhhgD5yJIUDsWJMXvI4hQD6Zxh/ckyFAkNn5J/yYIUDiGS0wHJ4hQDRaYDg8oyFAhpqTQFyoIUDY2sZIfK0hQCob+lCcsiFAfFstWby3IUDOm2Bh3LwhQCDck2n8wSFAchzHcRzHIUDEXPp5PMwhQBadLYJc0SFAaN1ginzWIUC6HZSSnNshQAxex5q84CFAXp76otzlIUCw3i2r/OohQAIfYbMc8CFAVF+Uuzz1IUCmn8fDXPohQPjf+st8/yFASiAu1JwEIkCcYGHcvAkiQO6glOTcDiJAQOHH7PwTIkCSIfv0HBkiQORhLv08HiJANqJhBV0jIkCI4pQNfSgiQNoiyBWdLSJALGP7Hb0yIkB+oy4m3TciQNDjYS79PCJAIiSVNh1CIkB0ZMg+PUciQMak+0ZdTCJAGOUuT31RIkBqJWJXnVYiQLxllV+9WyJADqbIZ91gIkBg5vtv/WUiQLImL3gdayJABGdigD1wIkBWp5WIXXUiQKjnyJB9eiJA+if8mJ1/IkBMaC+hvYQiQJ6oYqndiSJA8OiVsf2OIkBCKcm5HZQiQJRp/ME9mSJA5qkvyl2eIkA46mLSfaMiQIoqltqdqCJA3GrJ4r2tIkAuq/zq3bIiQIDrL/P9tyJA0itj+x29IkAkbJYDPsIiQHasyQtexyJAyOz8E37MIkAaLTAcntEiQGxtYyS+1iJAvq2WLN7bIkAQ7sk0/uAiQGIu/Twe5iJAtG4wRT7rIkAGr2NNXvAiQFjvllV+9SJAqi/KXZ76IkD8b/1lvv8iQE6wMG7eBCNAoPBjdv4JI0DyMJd+Hg8jQERxyoY+FCNAlrH9jl4ZI0Do8TCXfh4jQDoyZJ+eIyNAjHKXp74oI0Dessqv3i0jQDDz/bf+MiNAgjMxwB44I0DUc2TIPj0jQCa0l9BeQiNAePTK2H5HI0DKNP7gnkwjQBx1Mem+USNAbrVk8d5WI0DA9Zf5/lsjQBI2ywEfYSNAZHb+CT9mI0C2tjESX2sjQAj3ZBp/cCNAWjeYIp91I0Csd8sqv3ojQP63/jLffyNAUPgxO/+EI0CiOGVDH4ojQPR4mEs/jyNARrnLU1+UI0CY+f5bf5kjQOo5MmSfniNAPHplbL+jI0COuph036gjQOD6y3z/rSNAMjv/hB+zI0CEezKNP7gjQNa7ZZVfvSNAKPyYnX/CI0B6PMyln8cjQMx8/62/zCNAHr0ytt/RI0Bw/WW+/9YjQMI9mcYf3CNAFH7Mzj/hI0Bmvv/WX+YjQLj+Mt9/6yNACj9m55/wI0Bcf5nvv/UjQK6/zPff+iNAAAAAAAAAJEA=",
          "dtype": "f8"
         },
         "xaxis": "x8",
         "y": {
          "bdata": "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",
          "dtype": "f4"
         },
         "yaxis": "y8"
        },
        {
         "line": {
          "color": "blue",
          "width": 1
         },
         "mode": "lines",
         "opacity": 0.7,
         "showlegend": false,
         "type": "scatter",
         "x": {
          "bdata": "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",
          "dtype": "f8"
         },
         "xaxis": "x16",
         "y": {
          "bdata": "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",
          "dtype": "f4"
         },
         "yaxis": "y16"
        },
        {
         "line": {
          "color": "blue",
          "width": 1
         },
         "mode": "lines",
         "opacity": 0.7,
         "showlegend": false,
         "type": "scatter",
         "x": {
          "bdata": "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",
          "dtype": "f8"
         },
         "xaxis": "x24",
         "y": {
          "bdata": "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",
          "dtype": "f4"
         },
         "yaxis": "y24"
        },
        {
         "line": {
          "color": "orange",
          "width": 1
         },
         "mode": "lines",
         "opacity": 0.7,
         "showlegend": false,
         "type": "scatter",
         "x": {
          "bdata": "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",
          "dtype": "f8"
         },
         "xaxis": "x8",
         "y": {
          "bdata": "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",
          "dtype": "f4"
         },
         "yaxis": "y8"
        },
        {
         "line": {
          "color": "orange",
          "width": 1
         },
         "mode": "lines",
         "opacity": 0.7,
         "showlegend": false,
         "type": "scatter",
         "x": {
          "bdata": "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",
          "dtype": "f8"
         },
         "xaxis": "x16",
         "y": {
          "bdata": "155wv9eecL/XnnC/155wv9eecL/XnnC/155wv9eecL/XnnC/SJVsv9eecL/XnnC/SJVsv0iVbL9IlWy/SJVsv9eecL/XnnC/SJVsv0iVbL9IlWy/155wv9eecL9IlWy/SJVsv0iVbL9IlWy/SJVsv0iVbL9IlWy/SJVsv0iVbL9IlWy/SJVsv9eecL9IlWy/155wv0iVbL9IlWy/SJVsv9eecL/XnnC/SJVsv0iVbL9IlWy/155wv0iVbL9IlWy/SJVsv9eecL/XnnC/155wv9eecL/XnnC/SJVsv9eecL9IlWy/155wv9eecL/XnnC/155wv9eecL/XnnC/155wv0iVbL9IlWy/155wv9eecL/XnnC/155wv9eecL/XnnC/SJVsv0iVbL9IlWy/SJVsv0iVbL9IlWy/SJVsv0iVbL+5i2i/uYtov7mLaL9IlWy/uYtov7mLaL9IlWy/SJVsv0iVbL9IlWy/SJVsv0iVbL+5i2i/uYtov7mLaL+5i2i/uYtov7mLaL9IlWy/SJVsv9eecL/XnnC/Zqh0v2aodL9mqHS/Zqh0v9eecL/XnnC/155wv0iVbL9IlWy/SJVsv0iVbL9IlWy/SJVsv0iVbL9IlWy/SJVsv0iVbL/XnnC/Zqh0v2aodL9mqHS/Zqh0v9eecL9mqHS/Zqh0v2aodL9mqHS/Zqh0v2aodL9mqHS/9bF4v/WxeL9mqHS/Zqh0v2aodL9mqHS/Zqh0v2aodL9mqHS/Zqh0v2aodL9mqHS/Zqh0v/WxeL9mqHS/Zqh0v2aodL9mqHS/Zqh0v2aodL9mqHS/Zqh0v2aodL/1sXi/9bF4v/WxeL9mqHS/9bF4v2aodL9mqHS/Zqh0v2aodL/XnnC/155wv9eecL/XnnC/155wv9eecL/XnnC/155wv2aodL9mqHS/Zqh0v9eecL9mqHS/155wv9eecL/XnnC/155wv9eecL9IlWy/SJVsv7mLaL9IlWy/SJVsv9eecL/XnnC/155wv9eecL/XnnC/155wv9eecL/XnnC/155wv0iVbL9IlWy/uYtov7mLaL+5i2i/SJVsv0iVbL9IlWy/SJVsv0iVbL9IlWy/SJVsv9eecL/XnnC/SJVsv0iVbL9IlWy/SJVsv0iVbL9IlWy/uYtov7mLaL9IlWy/SJVsv0iVbL9IlWy/SJVsv0iVbL9IlWy/SJVsv0iVbL9IlWy/SJVsv0iVbL9IlWy/155wv9eecL/XnnC/155wv9eecL9IlWy/SJVsv0iVbL/XnnC/155wv9eecL/XnnC/155wv9eecL9IlWy/SJVsv0iVbL9IlWy/SJVsv0iVbL9IlWy/SJVsv0iVbL/XnnC/SJVsv0iVbL9IlWy/SJVsv9eecL/XnnC/155wv9eecL/XnnC/155wv0iVbL9IlWy/SJVsv0iVbL9IlWy/SJVsv7mLaL+5i2i/uYtov0iVbL9IlWy/155wv9eecL/XnnC/155wv9eecL/XnnC/155wv9eecL/XnnC/155wv9eecL/XnnC/Zqh0v2aodL9mqHS/Zqh0v2aodL9mqHS/155wv9eecL/XnnC/155wv0iVbL/XnnC/155wv9eecL9IlWy/SJVsv0iVbL9IlWy/SJVsv0iVbL9IlWy/SJVsv0iVbL9IlWy/SJVsv0iVbL9IlWy/SJVsv0iVbL9IlWy/SJVsv0iVbL9IlWy/SJVsv0iVbL9IlWy/SJVsv0iVbL/XnnC/155wv0iVbL9IlWy/SJVsv9eecL/XnnC/155wv9eecL/XnnC/SJVsv0iVbL9IlWy/SJVsv0iVbL9IlWy/SJVsv0iVbL9IlWy/SJVsv0iVbL9IlWy/SJVsv9eecL9IlWy/SJVsv0iVbL9IlWy/SJVsv0iVbL/XnnC/SJVsv9eecL/XnnC/155wv9eecL9IlWy/155wv9eecL9IlWy/155wv0iVbL9IlWy/155wv0iVbL/XnnC/155wv9eecL/XnnC/155wv9eecL/XnnC/155wv9eecL/XnnC/155wv0iVbL/XnnC/155wv9eecL/XnnC/155wv9eecL/XnnC/155wv9eecL/XnnC/155wv9eecL/XnnC/SJVsv9eecL/XnnC/SJVsv0iVbL9IlWy/SJVsv0iVbL9IlWy/uYtov7mLaL+5i2i/uYtovyqCZL8qgmS/KoJkvyqCZL8qgmS/KoJkvyqCZL8qgmS/m3hgv5t4YL+beGC/m3hgv5t4YL+beGC/m3hgv5t4YL+beGC/m3hgv5t4YL8Mb1y/DG9cv31lWL99ZVi/7ltUv+5bVL/uW1S/7ltUv31lWL8Mb1y/KoJkv9eecL9mqHS/imKAv+Bwhr9veoq/N3+Mvzd/jL9veoq/4HCGv1Fngr+KYoC/9bF4v/WxeL/1sXi/9bF4v/WxeL/1sXi/9bF4v2aodL/1sXi/Zqh0v2aodL9mqHS/Zqh0v2aodL/1sXi/9bF4v4S7fL+Eu3y/hLt8v4S7fL+Eu3y/9bF4v/WxeL/1sXi/9bF4v/WxeL/1sXi/9bF4v/WxeL/1sXi/9bF4v2aodL9mqHS/Zqh0v2aodL/1sXi/hLt8v4pigL8ZbIS/b3qKv8aIkL8cl5a/q6Cav3OlnL+roJq/VZKUv/6Djr+odYi/GWyEv1Fngr+Eu3y/Zqh0v0iVbL8qgmS/m3hgvwxvXL99ZVi/DG9cvwxvXL+beGC/m3hgvyqCZL+5i2i/uYtov7mLaL9IlWy/155wv2aodL9mqHS/Zqh0v0iVbL8qgmS/m3hgv31lWL9fUlC/0EhMv0E/SL9BP0i/QT9Iv9BITL9fUlC/X1JQv19SUL9fUlC/7ltUv19SUL/QSEy/0EhMv0E/SL9BP0i/sjVEvyIsQL8iLEC/kyI8v5MiPL8EGTi/BBk4v3UPNL91DzS/5gUwv+YFML91DzS/BBk4vyIsQL9BP0i/X1JQvwxvXL8qgmS/SJVsv9eecL+Eu3y/GWyEv6h1iL+NjZK/Aq+gvyDCqL8F2rK/XOi4vyPtur9c6Li/zd60v6/LrL9Yvaa/c6Wcv42Nkr83f4y/4HCGv4pigL/1sXi/hLt8v1Fngr/XnnC/Zqh0v4S7fL9mqHS/155wv/WxeL+Eu3y/hLt8v/WxeL/1sXi/155wv7mLaL8qgmS/KoJkv5t4YL8Mb1y/fWVYv31lWL99ZVi/7ltUv+5bVL99ZVi/fWVYv31lWL8Mb1y/m3hgv5t4YL+beGC/m3hgv5t4YL8Mb1y/DG9cvwxvXL8Mb1y/m3hgvyqCZL+5i2i/SJVsv2aodL9mqHS/hLt8v4S7fL+KYoC/UWeCvxlshL9veoq//oOOv/6Djr9veoq/N3+Mv42Nkr/km5i/Aq+gv1i9pr+RuKS/ybOiv3OlnL8cl5a/N3+Mv1Fngr+5i2i/X1JQv5MiPL/I8ie/G9YbvxvWG7856SO/V/wrv3UPNL8iLEC/X1JQv5t4YL/XnnC/9bF4v4S7fL/1sXi/155wvyqCZL99ZVi/QT9IvyIsQL8EGTi/5gUwv1f8K7/mBTC/5gUwv+YFML/mBTC/BBk4vwQZOL8EGTi/IixAv0E/SL9fUlC/QT9Iv7I1RL9X/Cu/Oekjv8jyJ79X/Cu/jMwXv1CmB79GE/e+7NnevrCzzr6ws86+sLPOvnONvr5zjb6+kqDGvlV6tr43Z66+N2euvhlUpr7dLZa+oQeGvsvCa76eAxu+4oiUvQm4GrzPHBs9WCeOPcEM7z2crAc+2NIXPhT5Jz4U+Sc+UR84PlEfOD5RHzg+FPknPhT5Jz7Y0hc+wQzvPcEM7z1JwM49wQzvPcEM7z2crAc+nKwHPlEfOD7Ja1g+P2+EPpmonD7Vzqw+ThvNPqhU5T7GZ+0+Ao79Pq7jCj9bABc/WwAXP8z2Ej/M9hI/WwAXP3kTHz/qCRs/WwAXP67jCj897Q4/ruMKP67jCj897Q4/Pe0OP67jCj+u4wo/H9oGPx/aBj+Q0AI/Ao79PpDQAj+u4wo/ruMKP67jCj/M9hI/WwAXP+oJGz/qCRs/6gkbP+oJGz9bABc/eRMfP+oJGz9bABc/WwAXPz3tDj/M9hI/Pe0OPz3tDj897Q4/Pe0OPz3tDj897Q4/Pe0OP8z2Ej/M9hI/WwAXP1sAFz9bABc/WwAXP1sAFz9bABc/Pe0OPz3tDj897Q4/ruMKPz3tDj897Q4/Pe0OP8z2Ej/M9hI/zPYSP8z2Ej/M9hI/zPYSPz3tDj897Q4/Pe0OPz3tDj/M9hI/zPYSP8z2Ej/M9hI/zPYSP8z2Ej/M9hI/zPYSP8z2Ej/M9hI/zPYSP8z2Ej897Q4/zPYSP8z2Ej/M9hI/zPYSPz3tDj897Q4/ruMKPx/aBj+u4wo/ruMKP67jCj+u4wo/ruMKPz3tDj/M9hI/WwAXP1sAFz9bABc/zPYSP8z2Ej/M9hI/Pe0OPz3tDj897Q4/ruMKPz3tDj897Q4/Pe0OPz3tDj897Q4/Pe0OPz3tDj897Q4/Pe0OPz3tDj897Q4/Pe0OP67jCj897Q4/Pe0OPz3tDj+u4wo/ruMKP67jCj897Q4/Pe0OPz3tDj897Q4/Pe0OPz3tDj897Q4/Pe0OPz3tDj897Q4/Pe0OPz3tDj897Q4/Pe0OPz3tDj/M9hI/zPYSP8z2Ej/M9hI/zPYSP8z2Ej/M9hI/zPYSP8z2Ej/M9hI/zPYSP1sAFz9bABc/WwAXP8z2Ej/M9hI/zPYSP8z2Ej9bABc/WwAXP8z2Ej897Q4/Pe0OP67jCj8f2gY/kNACP5DQAj8Cjv0+H9oGP+R69T4Cjv0+Ao79PgKO/T4Cjv0+H9oGP67jCj897Q4/zPYSP1sAFz9bABc/WwAXP1sAFz9bABc/WwAXP1sAFz9bABc/zPYSP8z2Ej/M9hI/Pe0OPz3tDj897Q4/Pe0OPz3tDj897Q4/ruMKPz3tDj+u4wo/Pe0OPz3tDj897Q4/Pe0OPz3tDj897Q4/Pe0OPz3tDj897Q4/Pe0OPz3tDj897Q4/Pe0OP67jCj897Q4/ruMKPz3tDj897Q4/Pe0OPz3tDj897Q4/H9oGPx/aBj8f2gY/H9oGPx/aBj+u4wo/ruMKPz3tDj+u4wo/H9oGPx/aBj+Q0AI/Ao79PgKO/T4Cjv0+Ao79PgKO/T4Cjv0+Ao79PpDQAj+Q0AI/H9oGP67jCj+u4wo/ruMKP67jCj+u4wo/ruMKP67jCj+u4wo/ruMKP67jCj+u4wo/H9oGPx/aBj+Q0AI/kNACPx/aBj8f2gY/H9oGPx/aBj8f2gY/H9oGPx/aBj8f2gY/H9oGP5DQAj+Q0AI/H9oGPw==",
          "dtype": "f4"
         },
         "yaxis": "y16"
        },
        {
         "line": {
          "color": "orange",
          "width": 1
         },
         "mode": "lines",
         "opacity": 0.7,
         "showlegend": false,
         "type": "scatter",
         "x": {
          "bdata": "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",
          "dtype": "f8"
         },
         "xaxis": "x24",
         "y": {
          "bdata": "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",
          "dtype": "f4"
         },
         "yaxis": "y24"
        }
       ],
       "layout": {
        "annotations": [
         {
          "font": {
           "size": 16
          },
          "showarrow": false,
          "text": "bicycling",
          "x": 0.03937499999999999,
          "xanchor": "center",
          "xref": "paper",
          "y": 1,
          "yanchor": "bottom",
          "yref": "paper"
         },
         {
          "font": {
           "size": 16
          },
          "showarrow": false,
          "text": "household-chores",
          "x": 0.16812499999999997,
          "xanchor": "center",
          "xref": "paper",
          "y": 1,
          "yanchor": "bottom",
          "yref": "paper"
         },
         {
          "font": {
           "size": 16
          },
          "showarrow": false,
          "text": "manual-work",
          "x": 0.29687499999999994,
          "xanchor": "center",
          "xref": "paper",
          "y": 1,
          "yanchor": "bottom",
          "yref": "paper"
         },
         {
          "font": {
           "size": 16
          },
          "showarrow": false,
          "text": "mixed-activity",
          "x": 0.425625,
          "xanchor": "center",
          "xref": "paper",
          "y": 1,
          "yanchor": "bottom",
          "yref": "paper"
         },
         {
          "font": {
           "size": 16
          },
          "showarrow": false,
          "text": "sitting",
          "x": 0.5543749999999998,
          "xanchor": "center",
          "xref": "paper",
          "y": 1,
          "yanchor": "bottom",
          "yref": "paper"
         },
         {
          "font": {
           "size": 16
          },
          "showarrow": false,
          "text": "sleep",
          "x": 0.683125,
          "xanchor": "center",
          "xref": "paper",
          "y": 1,
          "yanchor": "bottom",
          "yref": "paper"
         },
         {
          "font": {
           "size": 16
          },
          "showarrow": false,
          "text": "standing",
          "x": 0.8118749999999999,
          "xanchor": "center",
          "xref": "paper",
          "y": 1,
          "yanchor": "bottom",
          "yref": "paper"
         },
         {
          "font": {
           "size": 16
          },
          "showarrow": false,
          "text": "walking",
          "x": 0.9406249999999998,
          "xanchor": "center",
          "xref": "paper",
          "y": 1,
          "yanchor": "bottom",
          "yref": "paper"
         },
         {
          "font": {
           "size": 16
          },
          "showarrow": false,
          "text": "bicycling",
          "x": 0.03937499999999999,
          "xanchor": "center",
          "xref": "paper",
          "y": 0.6399999999999999,
          "yanchor": "bottom",
          "yref": "paper"
         },
         {
          "font": {
           "size": 16
          },
          "showarrow": false,
          "text": "household-chores",
          "x": 0.16812499999999997,
          "xanchor": "center",
          "xref": "paper",
          "y": 0.6399999999999999,
          "yanchor": "bottom",
          "yref": "paper"
         },
         {
          "font": {
           "size": 16
          },
          "showarrow": false,
          "text": "manual-work",
          "x": 0.29687499999999994,
          "xanchor": "center",
          "xref": "paper",
          "y": 0.6399999999999999,
          "yanchor": "bottom",
          "yref": "paper"
         },
         {
          "font": {
           "size": 16
          },
          "showarrow": false,
          "text": "mixed-activity",
          "x": 0.425625,
          "xanchor": "center",
          "xref": "paper",
          "y": 0.6399999999999999,
          "yanchor": "bottom",
          "yref": "paper"
         },
         {
          "font": {
           "size": 16
          },
          "showarrow": false,
          "text": "sitting",
          "x": 0.5543749999999998,
          "xanchor": "center",
          "xref": "paper",
          "y": 0.6399999999999999,
          "yanchor": "bottom",
          "yref": "paper"
         },
         {
          "font": {
           "size": 16
          },
          "showarrow": false,
          "text": "sleep",
          "x": 0.683125,
          "xanchor": "center",
          "xref": "paper",
          "y": 0.6399999999999999,
          "yanchor": "bottom",
          "yref": "paper"
         },
         {
          "font": {
           "size": 16
          },
          "showarrow": false,
          "text": "standing",
          "x": 0.8118749999999999,
          "xanchor": "center",
          "xref": "paper",
          "y": 0.6399999999999999,
          "yanchor": "bottom",
          "yref": "paper"
         },
         {
          "font": {
           "size": 16
          },
          "showarrow": false,
          "text": "walking",
          "x": 0.9406249999999998,
          "xanchor": "center",
          "xref": "paper",
          "y": 0.6399999999999999,
          "yanchor": "bottom",
          "yref": "paper"
         },
         {
          "font": {
           "size": 16
          },
          "showarrow": false,
          "text": "bicycling",
          "x": 0.03937499999999999,
          "xanchor": "center",
          "xref": "paper",
          "y": 0.27999999999999997,
          "yanchor": "bottom",
          "yref": "paper"
         },
         {
          "font": {
           "size": 16
          },
          "showarrow": false,
          "text": "household-chores",
          "x": 0.16812499999999997,
          "xanchor": "center",
          "xref": "paper",
          "y": 0.27999999999999997,
          "yanchor": "bottom",
          "yref": "paper"
         },
         {
          "font": {
           "size": 16
          },
          "showarrow": false,
          "text": "manual-work",
          "x": 0.29687499999999994,
          "xanchor": "center",
          "xref": "paper",
          "y": 0.27999999999999997,
          "yanchor": "bottom",
          "yref": "paper"
         },
         {
          "font": {
           "size": 16
          },
          "showarrow": false,
          "text": "mixed-activity",
          "x": 0.425625,
          "xanchor": "center",
          "xref": "paper",
          "y": 0.27999999999999997,
          "yanchor": "bottom",
          "yref": "paper"
         },
         {
          "font": {
           "size": 16
          },
          "showarrow": false,
          "text": "sitting",
          "x": 0.5543749999999998,
          "xanchor": "center",
          "xref": "paper",
          "y": 0.27999999999999997,
          "yanchor": "bottom",
          "yref": "paper"
         },
         {
          "font": {
           "size": 16
          },
          "showarrow": false,
          "text": "sleep",
          "x": 0.683125,
          "xanchor": "center",
          "xref": "paper",
          "y": 0.27999999999999997,
          "yanchor": "bottom",
          "yref": "paper"
         },
         {
          "font": {
           "size": 16
          },
          "showarrow": false,
          "text": "standing",
          "x": 0.8118749999999999,
          "xanchor": "center",
          "xref": "paper",
          "y": 0.27999999999999997,
          "yanchor": "bottom",
          "yref": "paper"
         },
         {
          "font": {
           "size": 16
          },
          "showarrow": false,
          "text": "walking",
          "x": 0.9406249999999998,
          "xanchor": "center",
          "xref": "paper",
          "y": 0.27999999999999997,
          "yanchor": "bottom",
          "yref": "paper"
         },
         {
          "font": {
           "size": 16
          },
          "showarrow": false,
          "text": "X-axis",
          "textangle": 90,
          "x": 0.9799999999999999,
          "xanchor": "left",
          "xref": "paper",
          "y": 0.86,
          "yanchor": "middle",
          "yref": "paper"
         },
         {
          "font": {
           "size": 16
          },
          "showarrow": false,
          "text": "Y-axis",
          "textangle": 90,
          "x": 0.9799999999999999,
          "xanchor": "left",
          "xref": "paper",
          "y": 0.49999999999999994,
          "yanchor": "middle",
          "yref": "paper"
         },
         {
          "font": {
           "size": 16
          },
          "showarrow": false,
          "text": "Z-axis",
          "textangle": 90,
          "x": 0.9799999999999999,
          "xanchor": "left",
          "xref": "paper",
          "y": 0.13999999999999999,
          "yanchor": "middle",
          "yref": "paper"
         }
        ],
        "height": 800,
        "showlegend": false,
        "template": {
         "data": {
          "bar": [
           {
            "error_x": {
             "color": "#2a3f5f"
            },
            "error_y": {
             "color": "#2a3f5f"
            },
            "marker": {
             "line": {
              "color": "#E5ECF6",
              "width": 0.5
             },
             "pattern": {
              "fillmode": "overlay",
              "size": 10,
              "solidity": 0.2
             }
            },
            "type": "bar"
           }
          ],
          "barpolar": [
           {
            "marker": {
             "line": {
              "color": "#E5ECF6",
              "width": 0.5
             },
             "pattern": {
              "fillmode": "overlay",
              "size": 10,
              "solidity": 0.2
             }
            },
            "type": "barpolar"
           }
          ],
          "carpet": [
           {
            "aaxis": {
             "endlinecolor": "#2a3f5f",
             "gridcolor": "white",
             "linecolor": "white",
             "minorgridcolor": "white",
             "startlinecolor": "#2a3f5f"
            },
            "baxis": {
             "endlinecolor": "#2a3f5f",
             "gridcolor": "white",
             "linecolor": "white",
             "minorgridcolor": "white",
             "startlinecolor": "#2a3f5f"
            },
            "type": "carpet"
           }
          ],
          "choropleth": [
           {
            "colorbar": {
             "outlinewidth": 0,
             "ticks": ""
            },
            "type": "choropleth"
           }
          ],
          "contour": [
           {
            "colorbar": {
             "outlinewidth": 0,
             "ticks": ""
            },
            "colorscale": [
             [
              0,
              "#0d0887"
             ],
             [
              0.1111111111111111,
              "#46039f"
             ],
             [
              0.2222222222222222,
              "#7201a8"
             ],
             [
              0.3333333333333333,
              "#9c179e"
             ],
             [
              0.4444444444444444,
              "#bd3786"
             ],
             [
              0.5555555555555556,
              "#d8576b"
             ],
             [
              0.6666666666666666,
              "#ed7953"
             ],
             [
              0.7777777777777778,
              "#fb9f3a"
             ],
             [
              0.8888888888888888,
              "#fdca26"
             ],
             [
              1,
              "#f0f921"
             ]
            ],
            "type": "contour"
           }
          ],
          "contourcarpet": [
           {
            "colorbar": {
             "outlinewidth": 0,
             "ticks": ""
            },
            "type": "contourcarpet"
           }
          ],
          "heatmap": [
           {
            "colorbar": {
             "outlinewidth": 0,
             "ticks": ""
            },
            "colorscale": [
             [
              0,
              "#0d0887"
             ],
             [
              0.1111111111111111,
              "#46039f"
             ],
             [
              0.2222222222222222,
              "#7201a8"
             ],
             [
              0.3333333333333333,
              "#9c179e"
             ],
             [
              0.4444444444444444,
              "#bd3786"
             ],
             [
              0.5555555555555556,
              "#d8576b"
             ],
             [
              0.6666666666666666,
              "#ed7953"
             ],
             [
              0.7777777777777778,
              "#fb9f3a"
             ],
             [
              0.8888888888888888,
              "#fdca26"
             ],
             [
              1,
              "#f0f921"
             ]
            ],
            "type": "heatmap"
           }
          ],
          "histogram": [
           {
            "marker": {
             "pattern": {
              "fillmode": "overlay",
              "size": 10,
              "solidity": 0.2
             }
            },
            "type": "histogram"
           }
          ],
          "histogram2d": [
           {
            "colorbar": {
             "outlinewidth": 0,
             "ticks": ""
            },
            "colorscale": [
             [
              0,
              "#0d0887"
             ],
             [
              0.1111111111111111,
              "#46039f"
             ],
             [
              0.2222222222222222,
              "#7201a8"
             ],
             [
              0.3333333333333333,
              "#9c179e"
             ],
             [
              0.4444444444444444,
              "#bd3786"
             ],
             [
              0.5555555555555556,
              "#d8576b"
             ],
             [
              0.6666666666666666,
              "#ed7953"
             ],
             [
              0.7777777777777778,
              "#fb9f3a"
             ],
             [
              0.8888888888888888,
              "#fdca26"
             ],
             [
              1,
              "#f0f921"
             ]
            ],
            "type": "histogram2d"
           }
          ],
          "histogram2dcontour": [
           {
            "colorbar": {
             "outlinewidth": 0,
             "ticks": ""
            },
            "colorscale": [
             [
              0,
              "#0d0887"
             ],
             [
              0.1111111111111111,
              "#46039f"
             ],
             [
              0.2222222222222222,
              "#7201a8"
             ],
             [
              0.3333333333333333,
              "#9c179e"
             ],
             [
              0.4444444444444444,
              "#bd3786"
             ],
             [
              0.5555555555555556,
              "#d8576b"
             ],
             [
              0.6666666666666666,
              "#ed7953"
             ],
             [
              0.7777777777777778,
              "#fb9f3a"
             ],
             [
              0.8888888888888888,
              "#fdca26"
             ],
             [
              1,
              "#f0f921"
             ]
            ],
            "type": "histogram2dcontour"
           }
          ],
          "mesh3d": [
           {
            "colorbar": {
             "outlinewidth": 0,
             "ticks": ""
            },
            "type": "mesh3d"
           }
          ],
          "parcoords": [
           {
            "line": {
             "colorbar": {
              "outlinewidth": 0,
              "ticks": ""
             }
            },
            "type": "parcoords"
           }
          ],
          "pie": [
           {
            "automargin": true,
            "type": "pie"
           }
          ],
          "scatter": [
           {
            "fillpattern": {
             "fillmode": "overlay",
             "size": 10,
             "solidity": 0.2
            },
            "type": "scatter"
           }
          ],
          "scatter3d": [
           {
            "line": {
             "colorbar": {
              "outlinewidth": 0,
              "ticks": ""
             }
            },
            "marker": {
             "colorbar": {
              "outlinewidth": 0,
              "ticks": ""
             }
            },
            "type": "scatter3d"
           }
          ],
          "scattercarpet": [
           {
            "marker": {
             "colorbar": {
              "outlinewidth": 0,
              "ticks": ""
             }
            },
            "type": "scattercarpet"
           }
          ],
          "scattergeo": [
           {
            "marker": {
             "colorbar": {
              "outlinewidth": 0,
              "ticks": ""
             }
            },
            "type": "scattergeo"
           }
          ],
          "scattergl": [
           {
            "marker": {
             "colorbar": {
              "outlinewidth": 0,
              "ticks": ""
             }
            },
            "type": "scattergl"
           }
          ],
          "scattermap": [
           {
            "marker": {
             "colorbar": {
              "outlinewidth": 0,
              "ticks": ""
             }
            },
            "type": "scattermap"
           }
          ],
          "scattermapbox": [
           {
            "marker": {
             "colorbar": {
              "outlinewidth": 0,
              "ticks": ""
             }
            },
            "type": "scattermapbox"
           }
          ],
          "scatterpolar": [
           {
            "marker": {
             "colorbar": {
              "outlinewidth": 0,
              "ticks": ""
             }
            },
            "type": "scatterpolar"
           }
          ],
          "scatterpolargl": [
           {
            "marker": {
             "colorbar": {
              "outlinewidth": 0,
              "ticks": ""
             }
            },
            "type": "scatterpolargl"
           }
          ],
          "scatterternary": [
           {
            "marker": {
             "colorbar": {
              "outlinewidth": 0,
              "ticks": ""
             }
            },
            "type": "scatterternary"
           }
          ],
          "surface": [
           {
            "colorbar": {
             "outlinewidth": 0,
             "ticks": ""
            },
            "colorscale": [
             [
              0,
              "#0d0887"
             ],
             [
              0.1111111111111111,
              "#46039f"
             ],
             [
              0.2222222222222222,
              "#7201a8"
             ],
             [
              0.3333333333333333,
              "#9c179e"
             ],
             [
              0.4444444444444444,
              "#bd3786"
             ],
             [
              0.5555555555555556,
              "#d8576b"
             ],
             [
              0.6666666666666666,
              "#ed7953"
             ],
             [
              0.7777777777777778,
              "#fb9f3a"
             ],
             [
              0.8888888888888888,
              "#fdca26"
             ],
             [
              1,
              "#f0f921"
             ]
            ],
            "type": "surface"
           }
          ],
          "table": [
           {
            "cells": {
             "fill": {
              "color": "#EBF0F8"
             },
             "line": {
              "color": "white"
             }
            },
            "header": {
             "fill": {
              "color": "#C8D4E3"
             },
             "line": {
              "color": "white"
             }
            },
            "type": "table"
           }
          ]
         },
         "layout": {
          "annotationdefaults": {
           "arrowcolor": "#2a3f5f",
           "arrowhead": 0,
           "arrowwidth": 1
          },
          "autotypenumbers": "strict",
          "coloraxis": {
           "colorbar": {
            "outlinewidth": 0,
            "ticks": ""
           }
          },
          "colorscale": {
           "diverging": [
            [
             0,
             "#8e0152"
            ],
            [
             0.1,
             "#c51b7d"
            ],
            [
             0.2,
             "#de77ae"
            ],
            [
             0.3,
             "#f1b6da"
            ],
            [
             0.4,
             "#fde0ef"
            ],
            [
             0.5,
             "#f7f7f7"
            ],
            [
             0.6,
             "#e6f5d0"
            ],
            [
             0.7,
             "#b8e186"
            ],
            [
             0.8,
             "#7fbc41"
            ],
            [
             0.9,
             "#4d9221"
            ],
            [
             1,
             "#276419"
            ]
           ],
           "sequential": [
            [
             0,
             "#0d0887"
            ],
            [
             0.1111111111111111,
             "#46039f"
            ],
            [
             0.2222222222222222,
             "#7201a8"
            ],
            [
             0.3333333333333333,
             "#9c179e"
            ],
            [
             0.4444444444444444,
             "#bd3786"
            ],
            [
             0.5555555555555556,
             "#d8576b"
            ],
            [
             0.6666666666666666,
             "#ed7953"
            ],
            [
             0.7777777777777778,
             "#fb9f3a"
            ],
            [
             0.8888888888888888,
             "#fdca26"
            ],
            [
             1,
             "#f0f921"
            ]
           ],
           "sequentialminus": [
            [
             0,
             "#0d0887"
            ],
            [
             0.1111111111111111,
             "#46039f"
            ],
            [
             0.2222222222222222,
             "#7201a8"
            ],
            [
             0.3333333333333333,
             "#9c179e"
            ],
            [
             0.4444444444444444,
             "#bd3786"
            ],
            [
             0.5555555555555556,
             "#d8576b"
            ],
            [
             0.6666666666666666,
             "#ed7953"
            ],
            [
             0.7777777777777778,
             "#fb9f3a"
            ],
            [
             0.8888888888888888,
             "#fdca26"
            ],
            [
             1,
             "#f0f921"
            ]
           ]
          },
          "colorway": [
           "#636efa",
           "#EF553B",
           "#00cc96",
           "#ab63fa",
           "#FFA15A",
           "#19d3f3",
           "#FF6692",
           "#B6E880",
           "#FF97FF",
           "#FECB52"
          ],
          "font": {
           "color": "#2a3f5f"
          },
          "geo": {
           "bgcolor": "white",
           "lakecolor": "white",
           "landcolor": "#E5ECF6",
           "showlakes": true,
           "showland": true,
           "subunitcolor": "white"
          },
          "hoverlabel": {
           "align": "left"
          },
          "hovermode": "closest",
          "mapbox": {
           "style": "light"
          },
          "paper_bgcolor": "white",
          "plot_bgcolor": "#E5ECF6",
          "polar": {
           "angularaxis": {
            "gridcolor": "white",
            "linecolor": "white",
            "ticks": ""
           },
           "bgcolor": "#E5ECF6",
           "radialaxis": {
            "gridcolor": "white",
            "linecolor": "white",
            "ticks": ""
           }
          },
          "scene": {
           "xaxis": {
            "backgroundcolor": "#E5ECF6",
            "gridcolor": "white",
            "gridwidth": 2,
            "linecolor": "white",
            "showbackground": true,
            "ticks": "",
            "zerolinecolor": "white"
           },
           "yaxis": {
            "backgroundcolor": "#E5ECF6",
            "gridcolor": "white",
            "gridwidth": 2,
            "linecolor": "white",
            "showbackground": true,
            "ticks": "",
            "zerolinecolor": "white"
           },
           "zaxis": {
            "backgroundcolor": "#E5ECF6",
            "gridcolor": "white",
            "gridwidth": 2,
            "linecolor": "white",
            "showbackground": true,
            "ticks": "",
            "zerolinecolor": "white"
           }
          },
          "shapedefaults": {
           "line": {
            "color": "#2a3f5f"
           }
          },
          "ternary": {
           "aaxis": {
            "gridcolor": "white",
            "linecolor": "white",
            "ticks": ""
           },
           "baxis": {
            "gridcolor": "white",
            "linecolor": "white",
            "ticks": ""
           },
           "bgcolor": "#E5ECF6",
           "caxis": {
            "gridcolor": "white",
            "linecolor": "white",
            "ticks": ""
           }
          },
          "title": {
           "x": 0.05
          },
          "xaxis": {
           "automargin": true,
           "gridcolor": "white",
           "linecolor": "white",
           "ticks": "",
           "title": {
            "standoff": 15
           },
           "zerolinecolor": "white",
           "zerolinewidth": 2
          },
          "yaxis": {
           "automargin": true,
           "gridcolor": "white",
           "linecolor": "white",
           "ticks": "",
           "title": {
            "standoff": 15
           },
           "zerolinecolor": "white",
           "zerolinewidth": 2
          }
         }
        },
        "title": {
         "text": "Acceleration Patterns by Activity (X, Y, Z axes)"
        },
        "xaxis": {
         "anchor": "y",
         "domain": [
          0,
          0.07874999999999999
         ]
        },
        "xaxis10": {
         "anchor": "y10",
         "domain": [
          0.12874999999999998,
          0.20749999999999996
         ]
        },
        "xaxis11": {
         "anchor": "y11",
         "domain": [
          0.25749999999999995,
          0.33624999999999994
         ]
        },
        "xaxis12": {
         "anchor": "y12",
         "domain": [
          0.38625,
          0.46499999999999997
         ]
        },
        "xaxis13": {
         "anchor": "y13",
         "domain": [
          0.5149999999999999,
          0.5937499999999999
         ]
        },
        "xaxis14": {
         "anchor": "y14",
         "domain": [
          0.6437499999999999,
          0.7224999999999999
         ]
        },
        "xaxis15": {
         "anchor": "y15",
         "domain": [
          0.7725,
          0.85125
         ]
        },
        "xaxis16": {
         "anchor": "y16",
         "domain": [
          0.9012499999999999,
          0.9799999999999999
         ]
        },
        "xaxis17": {
         "anchor": "y17",
         "domain": [
          0,
          0.07874999999999999
         ],
         "title": {
          "text": "Time (s)"
         }
        },
        "xaxis18": {
         "anchor": "y18",
         "domain": [
          0.12874999999999998,
          0.20749999999999996
         ],
         "title": {
          "text": "Time (s)"
         }
        },
        "xaxis19": {
         "anchor": "y19",
         "domain": [
          0.25749999999999995,
          0.33624999999999994
         ],
         "title": {
          "text": "Time (s)"
         }
        },
        "xaxis2": {
         "anchor": "y2",
         "domain": [
          0.12874999999999998,
          0.20749999999999996
         ]
        },
        "xaxis20": {
         "anchor": "y20",
         "domain": [
          0.38625,
          0.46499999999999997
         ],
         "title": {
          "text": "Time (s)"
         }
        },
        "xaxis21": {
         "anchor": "y21",
         "domain": [
          0.5149999999999999,
          0.5937499999999999
         ],
         "title": {
          "text": "Time (s)"
         }
        },
        "xaxis22": {
         "anchor": "y22",
         "domain": [
          0.6437499999999999,
          0.7224999999999999
         ],
         "title": {
          "text": "Time (s)"
         }
        },
        "xaxis23": {
         "anchor": "y23",
         "domain": [
          0.7725,
          0.85125
         ],
         "title": {
          "text": "Time (s)"
         }
        },
        "xaxis24": {
         "anchor": "y24",
         "domain": [
          0.9012499999999999,
          0.9799999999999999
         ],
         "title": {
          "text": "Time (s)"
         }
        },
        "xaxis3": {
         "anchor": "y3",
         "domain": [
          0.25749999999999995,
          0.33624999999999994
         ]
        },
        "xaxis4": {
         "anchor": "y4",
         "domain": [
          0.38625,
          0.46499999999999997
         ]
        },
        "xaxis5": {
         "anchor": "y5",
         "domain": [
          0.5149999999999999,
          0.5937499999999999
         ]
        },
        "xaxis6": {
         "anchor": "y6",
         "domain": [
          0.6437499999999999,
          0.7224999999999999
         ]
        },
        "xaxis7": {
         "anchor": "y7",
         "domain": [
          0.7725,
          0.85125
         ]
        },
        "xaxis8": {
         "anchor": "y8",
         "domain": [
          0.9012499999999999,
          0.9799999999999999
         ]
        },
        "xaxis9": {
         "anchor": "y9",
         "domain": [
          0,
          0.07874999999999999
         ]
        },
        "yaxis": {
         "anchor": "x",
         "domain": [
          0.72,
          1
         ],
         "title": {
          "text": "Acceleration (g)"
         }
        },
        "yaxis10": {
         "anchor": "x10",
         "domain": [
          0.36,
          0.6399999999999999
         ]
        },
        "yaxis11": {
         "anchor": "x11",
         "domain": [
          0.36,
          0.6399999999999999
         ]
        },
        "yaxis12": {
         "anchor": "x12",
         "domain": [
          0.36,
          0.6399999999999999
         ]
        },
        "yaxis13": {
         "anchor": "x13",
         "domain": [
          0.36,
          0.6399999999999999
         ]
        },
        "yaxis14": {
         "anchor": "x14",
         "domain": [
          0.36,
          0.6399999999999999
         ]
        },
        "yaxis15": {
         "anchor": "x15",
         "domain": [
          0.36,
          0.6399999999999999
         ]
        },
        "yaxis16": {
         "anchor": "x16",
         "domain": [
          0.36,
          0.6399999999999999
         ]
        },
        "yaxis17": {
         "anchor": "x17",
         "domain": [
          0,
          0.27999999999999997
         ],
         "title": {
          "text": "Acceleration (g)"
         }
        },
        "yaxis18": {
         "anchor": "x18",
         "domain": [
          0,
          0.27999999999999997
         ]
        },
        "yaxis19": {
         "anchor": "x19",
         "domain": [
          0,
          0.27999999999999997
         ]
        },
        "yaxis2": {
         "anchor": "x2",
         "domain": [
          0.72,
          1
         ]
        },
        "yaxis20": {
         "anchor": "x20",
         "domain": [
          0,
          0.27999999999999997
         ]
        },
        "yaxis21": {
         "anchor": "x21",
         "domain": [
          0,
          0.27999999999999997
         ]
        },
        "yaxis22": {
         "anchor": "x22",
         "domain": [
          0,
          0.27999999999999997
         ]
        },
        "yaxis23": {
         "anchor": "x23",
         "domain": [
          0,
          0.27999999999999997
         ]
        },
        "yaxis24": {
         "anchor": "x24",
         "domain": [
          0,
          0.27999999999999997
         ]
        },
        "yaxis3": {
         "anchor": "x3",
         "domain": [
          0.72,
          1
         ]
        },
        "yaxis4": {
         "anchor": "x4",
         "domain": [
          0.72,
          1
         ]
        },
        "yaxis5": {
         "anchor": "x5",
         "domain": [
          0.72,
          1
         ]
        },
        "yaxis6": {
         "anchor": "x6",
         "domain": [
          0.72,
          1
         ]
        },
        "yaxis7": {
         "anchor": "x7",
         "domain": [
          0.72,
          1
         ]
        },
        "yaxis8": {
         "anchor": "x8",
         "domain": [
          0.72,
          1
         ]
        },
        "yaxis9": {
         "anchor": "x9",
         "domain": [
          0.36,
          0.6399999999999999
         ],
         "title": {
          "text": "Acceleration (g)"
         }
        }
       }
      }
     },
     "metadata": {},
     "output_type": "display_data"
    }
   ],
   "source": [
    "import plotly.graph_objects as go\n",
    "from plotly.subplots import make_subplots\n",
    "import numpy as np\n",
    "\n",
    "def plot_acceleration_by_activity_lineplot(X, Y, samples_per_activity=5):\n",
    "    \"\"\"\n",
    "    line plots of acceleration patterns for different activities\n",
    "    \n",
    "    Parameters:\n",
    "    -----------\n",
    "    X : np.array\n",
    "        Array of shape (n_windows, 1000, 3) containing acceleration data\n",
    "    Y : np.array\n",
    "        Array of shape (n_windows,) containing activity labels\n",
    "    samples_per_activity : int\n",
    "        Number of example windows to plot per activity\n",
    "    \"\"\"\n",
    "    # unique activities\n",
    "    unique_activities = np.unique(Y)\n",
    "    # unique_activities = 1\n",
    "    \n",
    "    \n",
    "    activities_to_plot = unique_activities\n",
    "    \n",
    "    # Create subplots: 3 rows (x, y, z) x number of activities\n",
    "    n_activities = len(activities_to_plot)\n",
    "    fig = make_subplots(\n",
    "        rows=3, \n",
    "        cols=n_activities,\n",
    "        subplot_titles=[f\"{act}\" for act in activities_to_plot] * 3,\n",
    "        vertical_spacing=0.08,\n",
    "        horizontal_spacing=0.05,\n",
    "        row_titles=['X-axis', 'Y-axis', 'Z-axis']\n",
    "    )\n",
    "    \n",
    "    # Time axis for 10 seconds at 100Hz\n",
    "    time_axis = np.linspace(0, 10, 1000)\n",
    "    \n",
    "    colors = ['blue', 'orange', 'green', 'red', 'purple']\n",
    "    \n",
    "    for col_idx, activity in enumerate(activities_to_plot, start=1):\n",
    "        # Get indices for this activity\n",
    "        activity_indices = np.where(Y == activity)[0]\n",
    "        \n",
    "        if len(activity_indices) == 0:\n",
    "            continue\n",
    "        \n",
    "        # Sample random windows for this activity\n",
    "        n_samples = min(samples_per_activity, len(activity_indices))\n",
    "        sample_indices = np.random.choice(activity_indices, size=n_samples, replace=False)\n",
    "        \n",
    "        # Plot each sample\n",
    "        for sample_num, idx in enumerate(sample_indices):\n",
    "            window = X[idx]  # Shape: (1000, 3)\n",
    "            \n",
    "            # Plot X acceleration\n",
    "            fig.add_trace(\n",
    "                go.Scatter(\n",
    "                    x=time_axis, \n",
    "                    y=window[:, 0],\n",
    "                    mode='lines',\n",
    "                    line=dict(color=colors[sample_num % len(colors)], width=1),\n",
    "                    showlegend=False,\n",
    "                    opacity=0.7\n",
    "                ),\n",
    "                row=1, col=col_idx\n",
    "            )\n",
    "            \n",
    "            # Plot Y acceleration\n",
    "            fig.add_trace(\n",
    "                go.Scatter(\n",
    "                    x=time_axis, \n",
    "                    y=window[:, 1],\n",
    "                    mode='lines',\n",
    "                    line=dict(color=colors[sample_num % len(colors)], width=1),\n",
    "                    showlegend=False,\n",
    "                    opacity=0.7\n",
    "                ),\n",
    "                row=2, col=col_idx\n",
    "            )\n",
    "            \n",
    "            # Plot Z acceleration\n",
    "            fig.add_trace(\n",
    "                go.Scatter(\n",
    "                    x=time_axis, \n",
    "                    y=window[:, 2],\n",
    "                    mode='lines',\n",
    "                    line=dict(color=colors[sample_num % len(colors)], width=1),\n",
    "                    showlegend=False,\n",
    "                    opacity=0.7\n",
    "                ),\n",
    "                row=3, col=col_idx\n",
    "            )\n",
    "    \n",
    "    # Update axes labels\n",
    "    for col_idx in range(1, n_activities + 1):\n",
    "        fig.update_xaxes(title_text=\"Time (s)\", row=3, col=col_idx)\n",
    "    \n",
    "    for row_idx in range(1, 4):\n",
    "        fig.update_yaxes(title_text=\"Acceleration (g)\", row=row_idx, col=1)\n",
    "    \n",
    "    fig.update_layout(\n",
    "        height=800,\n",
    "        title_text=\"Acceleration Patterns by Activity (X, Y, Z axes)\",\n",
    "        showlegend=False\n",
    "    )\n",
    "    \n",
    "    return fig\n",
    "\n",
    "# Plot for selected activities\n",
    "fig = plot_acceleration_by_activity_lineplot(X, Y, samples_per_activity=2)\n",
    "fig.show()"
   ]
  },
  {
   "cell_type": "code",
   "execution_count": null,
   "id": "8e5f8b4a",
   "metadata": {},
   "outputs": [
    {
     "name": "stdout",
     "output_type": "stream",
     "text": [
      "Original shape: (6826, 1000, 3)\n",
      "Flattened shape: (6826, 3000)\n",
      "\n",
      "Explained variance ratio:\n",
      "  PC1: 31.17%\n",
      "  PC2: 28.30%\n",
      "  Total: 59.47%\n"
     ]
    },
    {
     "data": {
      "application/vnd.plotly.v1+json": {
       "config": {
        "plotlyServerURL": "https://plot.ly"
       },
       "data": [
        {
         "hovertemplate": "Activity=sleep<br>PC1 (31.2%)=%{x}<br>PC2 (28.3%)=%{y}<extra></extra>",
         "legendgroup": "sleep",
         "marker": {
          "color": "#636efa",
          "opacity": 0.6,
          "size": 5,
          "symbol": "circle"
         },
         "mode": "markers",
         "name": "sleep",
         "showlegend": true,
         "type": "scattergl",
         "x": {
          "bdata": "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",
          "dtype": "f4"
         },
         "xaxis": "x",
         "y": {
          "bdata": "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",
          "dtype": "f4"
         },
         "yaxis": "y"
        },
        {
         "hovertemplate": "Activity=household-chores<br>PC1 (31.2%)=%{x}<br>PC2 (28.3%)=%{y}<extra></extra>",
         "legendgroup": "household-chores",
         "marker": {
          "color": "#EF553B",
          "opacity": 0.6,
          "size": 5,
          "symbol": "circle"
         },
         "mode": "markers",
         "name": "household-chores",
         "showlegend": true,
         "type": "scattergl",
         "x": {
          "bdata": "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",
          "dtype": "f4"
         },
         "xaxis": "x",
         "y": {
          "bdata": "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",
          "dtype": "f4"
         },
         "yaxis": "y"
        },
        {
         "hovertemplate": "Activity=walking<br>PC1 (31.2%)=%{x}<br>PC2 (28.3%)=%{y}<extra></extra>",
         "legendgroup": "walking",
         "marker": {
          "color": "#00cc96",
          "opacity": 0.6,
          "size": 5,
          "symbol": "circle"
         },
         "mode": "markers",
         "name": "walking",
         "showlegend": true,
         "type": "scattergl",
         "x": {
          "bdata": "CSnHQRWq3UH2IQZCL3nQQW+UF0JW+hZCyugpvjhSHkLxhxpCMecVQonhDkLaWRxCVOuJQXeyeEFK3RRCMAMWQp3mDUJbMQZCH0sLQhiqIEJxwxlCxH4aQgveHEKCiB5BKvwMQiJZDUKN/BBC2SwQQu+5/EFp0QhCnhYKQn1cFkKjhxJCvfULQiQOD0L0qKJBxssJQvCKCEJr9gtC7DILQgbYC0KAGwtCDOoIQr80C0JmIwdCaqkJQuENDEJqrCRBUABTwV8MjsHGetrBrCKswRQTBsEZvHnB0M6lwBruGkGGsGg/DdDxQQS6BkIaPwVCRQIDQiyPBkID0fNBUtwHQji8BULf8gVC2Z/nQUbsAUKERAZCc80HQjwmDELGWQtC5UYBQtDZCEJE/AhCHscSQowA80Ax9dtBYDYCQgnK20Gz1+BBTEryQbsq/kEUCAdCbM+5QYh7CEKsgwdC6DUtQnmNE0IjrBVC7p4LQg/gBkJR7q9BBOsnQm5GFkLr7B1Co7YUQnfR3UHrbB9CdNsVQgl5bEGhzXvAyYLPwMY+IcKkT7vAWtAbQGOyq8E1mUPBH1c9weXBlME0W5zA30vjQff/A8ENbH5BBySiQQgs2kF1JvNBw4zAwc0sIMFSsoJBMpQpQTiPkkGz6gbC1k4FwvZJDMJrhkRANxj/Qc+SFL/mYHDB2JAwQTR2+b/QOY9AjcxowXXtpkE3LOhBXjVWQQr5n0Ftv4DADf/+QKJxR0ElmjxA8uyZQKFXKcAl+OW/w6mBP6UomEFSz2xBnL4IQalKsUFR7r9BxO6Lv14p5sCkaqhAATuqwcXnQECBYABCXjSUweZdF0Hc/ABCKXytQRK2CkK/jQZCzGf+QVZqAUJeAsVBiGvoQZRra0FMUhJCP+gQQkruFUIEpg1CIDYRQgJ1J0KOXQhCtywmQj7XA0L5gRxCAwwgQq+sH0Ir8SRCXqQaQnhEG0I8FQ1ClGwUQk/8FkIHchpCRdwFQp7xFULw04VBo5rCQRpEGEJGjwZC0VsZQjnsp0E4WQZCcXkSQrPhEEJEK0dBZesMQpLkZ8DAT6496EddQX/DeEGGzlpBKGJtQb1XWUH/gCNBL1ZSQQT8QEHrgIM/P8QzQYoN9z8wZCS/HAMMQQgwKEGno/9A4tOMQReWG8GKqiRBCN4kQfU3JkEvnzZAoEwMQOt4csHGz5TA5kT9QaajPkGQtRNCMF8MQjgsXkDxXcc/uHE5QlpBNkLju7hB0+xHwQat80F997VAHHWFwNEoQEFkrJ1BI1scwHH4jcDJQhLBeGLiQN5O30Gg9IdAEeSSQTirREB/rdvBvBmnQLSCBEGBL7A/2crKQJkwmEEivPVBnX+eQdeJA0IiyuJAbsDgQSIdkEFpXH3BlUEUvleSQ8EE7yzCzVUrwpD/JsLN+iTC4x0Jwm6h78G9lc3B88LEwTOkzcCV6JXAwiAZQPoZIUHsydrBKpODwRL9HcCFnoZAnSJwQHujuj5MgJfA62QUQSvxlUGgtcHB7/4WQZPNQsBXmwO+EDUGQnCRx8HoECHBjqUcQAlmBcJw5QzB6L+nQP/0l0Fa/JjAHiovwcyMHME6I5DB4yQrwcY6JMEWlnNB/ZqjQZAqIUJBPBtCl2oXQnSsH0JgUA1CZpQfQjFTIkI7wy9CG2YXQnOkH0KmRmbBWgPxQS9vdEHzeJlBAg+3Qf/ULkBedJw/UWssPypulT50w/Q+CSpkPxcFbj9rRm8/sP9xPzQldT+OwN1AXvzTvzBj3L+Io6K/dF/CP56rzj/xEU5AVeK4QM0MtEA/KqFA5zilQClKj0CALI9AH2iOQIJRjEAJ39dAiFZcQbAgW0EfmVBBYCe5Qch9pUB3lA1CbjcVQnCbAT/oZ4hBVsjOv+sD6kFcshlCyScFQsAGz0FztIhA6/swwO11JsHvKLG/uAQJQt1yCUJk3wlCdvizQeb8BEKE58RAvhu+QQMrKEJrDRhCxssqQrYsKUIO8dJBBvMjwSur1kA9NydCtCspQm4mJkLMlQJCau7+QYGaBEImlv5BAQWuQX8WNEG1rBlBlA2ZQX3TeUHdKSlBNlPLQQ/dwkHCsfxBcfA2QsiANUKwCqu/3jPdwSskLsEXF95Bgy8yQlFNLEIIVStCKFgyQp+sNELYyDJCLooxQuUZMUKtyjBCQVcrQvs1HUKlkhhCj3QPQoz0F0J7bxZCDAEHQvhJJ0JjzkVBeRk/QgEbQELemx1C6qXjQb6KOEJCm0NCN5NBQoprM0L9yTJCLkM/Qk0VP0ImdyxCmn8wQubUMUK23BpCwHU3Qh3mLELRkjNCUZAsQhksI0L99yxCddclQmueQ0LfFjFCz08zQgsDTEJenjFC1koTQuzJKMGukKjB5hr+QNBgzUErl6LBG+4YQMKXzUEZ3elBMG8AQrf0uUEUqdDA7dgvwJrOzECXr7hBZRqswW/Dmb4cJY9AWcbXwc9XvcExTLnBsuWswa5yT8DOM1hAVOHNv0DlvcBBsbG/WLWcwRMcu0G4KmxBSLnIQVk4QkFFm/NA8t/ZwKVrqcG9/D5CSAAywIUXaEGm4RbBWnF6wdim6sABOkE/DUuIwYPUi8Ep7YfBAgrKQSBWFkC0pAzAU4eNwcNBI8FTZpnBfz+bwcWk+L8DLLY/qNOwwB/8AEF7bshB37oZQjRjK0LA1DVC4ycXQnUnLkKiFkJCKOg4QjR8OkJa8TFCn7UUQpXPHEKTTR9CtFI/QS8pwkG8UBZC6grZQVebC0I52FtBE+EQQm3WHEIfaB5CNiIGQvnL+UE++whCQGsmQs3V/EE1QBtCYyEqQt5dAUC670dB1Wk3v6bfD8EACALC6xEsQJbBdz/oLQlCDXesQbaUq8E1wMvB2c2pQCBmEkL+xkNBj6vVP/kl00FH7wNC4iq2QSR5n0GheINBBOjTQQm8MMG6lb7BdLxawAI38MBXl4lBJ1zrQW/3YEDzwzNBc/+rQVkHVUHwezLBcevFQV4jR0Fhd9PBK2DkwAQxc8G9FirCA0wgwiy/88GNq53Bkl8iQS75HkK184hBy+QBQkd0CELLid9BFv7xQZyAHEId1CVClvAnQVuZMEFoY3dBuw8BvkQ6WMGXJ19B5TNMwcZsnsEZrIjB39cLwUlp1MHf+PXB+ug0QOVpHsGiuaLBwK21wYuMt8FTUbrBNlmEPhauXkHjFRpCNqhHQg+IHUFzi3VB6KcYv+4jnUDR+QRCEUsEQtv+rMHHNDXBMOlwwVRJgMEIu7tBaWFsQP6j5UBq9OhBMqEZQkiYDUKAB75BBRqbQRyU5kC1ZR7AVZWEP45MYMFXK/3BFSKxwWQ3DsJ5TrXBzyfwwLRIH8Fu8D7BV6uDQH57sUG8ffZBMgxuQWAnfEFqnadBmWtIQURKq0G/65hAYBeRwJ4rzUF04wVCDYk8QmaUF0KAfVBCUB1MQj65R0LfHzFCPiowQR1R6EH+KkS/YQGPwLGXZsDluvJAxLcZQfXWyEEnw6BBOivXwFE+8kFvnOdAPbpbQoCAKUK8ymVBygsFQQEk1kEemNA/teGLwbY0RUCtMgHAmtMBQmYNlUElVMnAvWpcQVesz0CvyrnAp/K/P7zCE8EbUbPBFW9/wRK1c8A=",
          "dtype": "f4"
         },
         "xaxis": "x",
         "y": {
          "bdata": "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",
          "dtype": "f4"
         },
         "yaxis": "y"
        },
        {
         "hovertemplate": "Activity=sitting<br>PC1 (31.2%)=%{x}<br>PC2 (28.3%)=%{y}<extra></extra>",
         "legendgroup": "sitting",
         "marker": {
          "color": "#ab63fa",
          "opacity": 0.6,
          "size": 5,
          "symbol": "circle"
         },
         "mode": "markers",
         "name": "sitting",
         "showlegend": true,
         "type": "scattergl",
         "x": {
          "bdata": "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",
          "dtype": "f4"
         },
         "xaxis": "x",
         "y": {
          "bdata": "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",
          "dtype": "f4"
         },
         "yaxis": "y"
        },
        {
         "hovertemplate": "Activity=mixed-activity<br>PC1 (31.2%)=%{x}<br>PC2 (28.3%)=%{y}<extra></extra>",
         "legendgroup": "mixed-activity",
         "marker": {
          "color": "#FFA15A",
          "opacity": 0.6,
          "size": 5,
          "symbol": "circle"
         },
         "mode": "markers",
         "name": "mixed-activity",
         "showlegend": true,
         "type": "scattergl",
         "x": {
          "bdata": "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",
          "dtype": "f4"
         },
         "xaxis": "x",
         "y": {
          "bdata": "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",
          "dtype": "f4"
         },
         "yaxis": "y"
        },
        {
         "hovertemplate": "Activity=bicycling<br>PC1 (31.2%)=%{x}<br>PC2 (28.3%)=%{y}<extra></extra>",
         "legendgroup": "bicycling",
         "marker": {
          "color": "#19d3f3",
          "opacity": 0.6,
          "size": 5,
          "symbol": "circle"
         },
         "mode": "markers",
         "name": "bicycling",
         "showlegend": true,
         "type": "scattergl",
         "x": {
          "bdata": "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",
          "dtype": "f4"
         },
         "xaxis": "x",
         "y": {
          "bdata": "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",
          "dtype": "f4"
         },
         "yaxis": "y"
        },
        {
         "hovertemplate": "Activity=standing<br>PC1 (31.2%)=%{x}<br>PC2 (28.3%)=%{y}<extra></extra>",
         "legendgroup": "standing",
         "marker": {
          "color": "#FF6692",
          "opacity": 0.6,
          "size": 5,
          "symbol": "circle"
         },
         "mode": "markers",
         "name": "standing",
         "showlegend": true,
         "type": "scattergl",
         "x": {
          "bdata": "H3MRQGHGJMFnPpDBl1uRwbKfOMF6y4HAbxVvwBFIaMBxgF7A1JcQv9Vu50AnsTZBE/2ywLhND8F5ng7B0QIPwXfMEcE2NBPBQekSwbKCE8E+7mnBTfeJwazgt8Bfj93Az6uxv3Laq7+YTJy/DRX+QYoSnUFkahhCjwIoQWJQXMB+FIrBs3eiwef41MFeHWTBSTFGQXY+gkFwBwzBq0TJwGE+gEFvTVbACm7HQWZlk8C8VPfBlYGbv2O8I0GoFHPBgEzywYA/tcGPk/DBeLvtwe366cFBd+DB7RH1wcGi7MFvVufBDlf7weMW1D5i5QJChwYFQgvXn8FJr7/B4rcvQd1m0L5Qh/rBmmr+wCHHr8CUewbBwzofQVhTIcFOjF7BRxaQvhSL3MHBQOjAByhtQZcBX0G2CLVAIGI3QJ6kmT1s/lDAJpNzv+mxXEHVx+xBsYPfQRU3pEGcNp5BjAiwQX+wwkELHcNBdnbEQdKBjkG7igdC4QkGQkfGC0IkOgpCAyAGQsOl60FL0gZCDwgNQpPzCEJVuARCkTjwQblX6kFCuO5BKigcQcySw0A6jT5C39jPwdWlm8ALeSNCliqswELtjsGyVZ3Bl7GVwXZ0gMEU11DB7EpkwVz7ZMHxwEXBgL/KwAL1I8EQL5vBD61Owa68msAwNoXBHQCUwaweq8HJP7TBkniYwQ927cEzWyXBK+fZwbNo4cFOhFvByqXRwG+mnsHMucjBgAegwWUUmMEj4rDBF8yCwal6hcGUDHDBYkaMQNurakFf4l4/A0wnwRBfEkGuc4FBYW7cvwbgqcDpzBFBiAwjwTTW2EBF7RNCJnEIQnOkDUIW0BFC0CzQQX14PEBLraxABWAjwHDyej4=",
          "dtype": "f4"
         },
         "xaxis": "x",
         "y": {
          "bdata": "3p8WwvniTMEQuGNBs5dQQbraOUGeHiFBfTYTQeaBD0EoJRNB5iYvwOObD8IiYtfBUhoFQsWZDkKcoQxC+UQLQivhC0JPEQpC7fMIQmYYCEIVqaVBTn9VQKTdncG1wP3Bf+wTwuXRE8LkohPChlQCwWp0k8CTCMi+GKQ9wQGf3MDzY6I/ezMgQKExkMAByoLBN8yUwXNQasHmgDPBzpeawRlhrMGsVrrBBIARwTMIIcGYXalAClE4wSGf9sDBZee//uQKQdo5m0CXoThBiylKQQCtXkEhcYRBNb18QWTAlEFHLJZBvmO+QO0zcMGwIarBArc4weTALMGpRkPBkUR5wa1HWMFZb/TAvi5GwTOiVMGrDFnBLcbewZmmGsEBIpfBq0lswXZtZkCwppTBrrKNwB6/H8E2xqG/679fwKmxkMAqq+XA+7SxwLglMMG0Q0rBHg5IwTqeAsGntVDBfSs/wf50OMGZcjXBJl81wRCmwsA9mUHArgKWwPk5j8CKsqXAYMNVwKUt/L/kHg3AcahjwL5WRsAHQizA8hkHwAJUiMBYbMvA9487weYiXMBW07FBuRuCwc2lbMGD7TjB+I/dwYaNAcKY0vrBZlT/wWzeAsJsggjC2+kFwlVtBMKTLgnCqBEOwknkCcI3bvXBTRMGwtjACsIBOf7BDdX+wdhK78FvbNbBQkH7wSvOqsEXVP3B6OzOwe0jx8FhPAbCRvEMwlEe8cGVfdzBu472wX+T/MHSfOrBCpUCwlgsAMLxjgXCJmoDwlvtpMEZK6bBzDvHwWnX9MH+WMXBZGXuwdROysFHKQHCFDROwK54a8Bfm7PBHBG5wYf3rsGDgqXBY1KiwX4Kw8Fg9kLBrW1WwTm7ucE=",
          "dtype": "f4"
         },
         "yaxis": "y"
        },
        {
         "hovertemplate": "Activity=manual-work<br>PC1 (31.2%)=%{x}<br>PC2 (28.3%)=%{y}<extra></extra>",
         "legendgroup": "manual-work",
         "marker": {
          "color": "#B6E880",
          "opacity": 0.6,
          "size": 5,
          "symbol": "circle"
         },
         "mode": "markers",
         "name": "manual-work",
         "showlegend": true,
         "type": "scattergl",
         "x": {
          "bdata": "noaEv+eZr0GGmfJB/SP4QbLZtEFIWCdB0QaRQZo6AUIPpy/A0N1/QTL/6EHPsx1CKBnoQSFKm0Agx6hBGI/pQa2Q9UDn0PI/qFyAQTzeBEI7lwJCnzotQl4Xa0BVOczA1wi6QUQpg0HzMENBkvdLQT+u2EFceNFBq4sMQsJQ2UGEfeU/C6i5QSyl/sCpj5vAiZrvvnFTtEGQX7dBJLOCwb/78EF2sK/BYcTMPzt7AML4TQPCkAsLP/+l9EHu2MhBVdDZQb4gDUAVoelBPuefQMglLELnPjfAwvWTwSbPBULEaktBRrADQqFl7EG0k+k//L+4wTIKB0J7+YhBThUGQsUSbEERFBNCYsAIQs98oEEp91PBpOP5wWmq+sHdQedBUHPLP+LVsEBAZVPB/6/LPkifsUF5E4jAgd/CwT6xe0FB6PBBxbThQbinXUH8w7dBUzVeQUbBE79SRpxBZ3YfQSDOwsEaOhBBpMAGwP/HBEJakoXBLcAlQUdIPkEKDO5BFeQAQv4+HUI10cFBX5vRQSeiuUF7Ug/Cb2pEwAFjskD+/6VBKT2cQQlRHUGcNTnB8jzmQerRTEGmnTq+2/Y6QsEqpT/kAkzAlufgQdi6BELvmvFBZC7fQcVEuUEQJgBCyBMKQoIU+EEyDcdB9LzDwPst9UFbuitC068AwlYZDEDnlN+/m9iRQQR6jcFjrwTAzGifQekuesA311ZAFzDGwJHosEDqEeTBZ39cwLlJlEHt5eJBJUTlQZWb4EEMQeVBO2zUQfZc6EG46bdBWqnPQY3mA0KUG6tBA6pPQawzp0H92YpBNm4HQsZstUEPahZBigDIwVooN0EQ9zTAF8tQQXZg1b+tbbXBcifsQPGTz8FoqADC3rUMQhNjskE/dThBPmTGwaTg08EAs6fBVRdtQTJ010Gc4G7BUViMQW9VjUHmQNBBnV+BQXLigUGmG6FBlamjQWX66EBRajFB5u0Nwl+FCcIh/KFAATI9QXbJvMBp66TAdaSGQXZkGUFQt1/BgmvVwMseyMDIhmPBCeMVQTye20Et/MBBFhvcQc8mV8Fa2Lc/GQnuQUzMQcED35tAWJfdQFsWm0GKFGVAHv2/QFIHBsLawA3C3PYCwvUNN0AIbzdA0weUQYFVa0DSFu/BaK0Owjs0/8E9SA5BuwCPQZxpw8EJndVAJPkFQo+GD0FTaM3B5Lj+wa52/MHUx2y+ghvOQY8Vb8BWp2pBF6QyQk7PpUGIDZhBSWdhQcBn9UE/672/FCGqwc+Aq8G1EKLBs1G1wcItCD9EUVDA9OKJQTO62EHpJgxCCnyaQUEo9UA8rrtAKmINwlUBK0HOZmdB3+23QfTtvkH2BVVBm2uKQWnoj0HVLp5Bbph+Qe25MkF0vCa/3rb6QPyZRUE/VSNB+RlqQaPUdkEJ3OJBhc5zQbauTMGaKgtBGxf/QTlqlMDgZpVBx/OcQb35s0EP1ZFBT8msQfiygkFwZ1RBNexnQaNIUkFAZ5dBhobDQcGITkJa+MdB2lrJwH2rEcCRfgRCQjoQQoHRCUK8k99BmcYxQUZzmkHlWkZCgjVXQmKKwUE=",
          "dtype": "f4"
         },
         "xaxis": "x",
         "y": {
          "bdata": "r+8xwTyAJMGBd0682dTZv2DtnMDFjS3B9UIAwUM9nkCsNjXB7x2pwPR2P8EQLnRA7JWJPirNw8F+8iDB77nXwOlVJcGxJxY/y7IOwYkbxMBB65rBwGmDwRlkW8FwbOrAo1bKwOlAr8B5uYJA7dEQwT4CdsHAuhDBCT8Lwf453MCKBm3BDxuywDNc4cF7lqzBxmtbwcnLI8G0u27B8VeXwaenMsG+cgbByClGwWEhRMHH5GPBGN/XwFLmMcES+DHB0RTQwAONZcFllMPBEJSYwWzcXcEB91nBZ3RXwQmHTsFfpYnAyi+zwZD5tcEfyqTB6Yt1wRzHF0Ezi7s/HdRXwew6xMC46YfAFr6RwALwt8CFCg7BXZOkvbQBQsH9avy+xzvAPwUwVMG7ZO3B+WfIwdH+T8HdFwbC4hykwTnwlsAsfSjB0e9TQFe4TMCH7oDAfkU+P/auK0G1ITLBmNGlwU5mZMGO7VvBFQvGwK4nO8GFgZHBF/TMwWVBBcLakZnB0OZlwaeEYcHUFETBw/1jwPziWcENhk/BPBYTwfe6MMG30VXB7ZFgwQ9RNME6VhXBcha1wBTt+8CdSpPBylVzv9u55MHATp/BqXdWwcSk08FtqJXBNLBcwYwcr8HvdhXBjX50wZ+3pMHNIsXB6OqvweGnRsEjELHA606FwR0mf8HTrD/BmliFwZFsqcEK+3LBEyuKwZp8msGDaMnB1Ny1wciKgMHyNT5AtNhOwYcBscDKV01AECl5wJolDEEPC7hA9PpMwWLIi7/gU3XA0QQbwVZEA0EBurbBIsYOwq+TA8L8KVHBqRoiwIgn8sBOIznBOse3wd4ho8FSvbjBILd1wROeesFhRL/BU1rHwVSkscHaSWDBbWO5wO1/pMGCw9TBzFGwwZ4rrcHkAZ3Ba/d8wSssC8FvlbDBbdY/wcgOWsHCGX/B/Ee1wWBjqcHCUKjBCExeQDWXmMG4BYPBojVYwWxIh8GsRQXB4owfwdrNjMHTm8TBhRsqwdi+g8E+b3fB4vFQwfU428HRU93BsAmXwUByOMEYeQvB1HU4wcbDPMHH0XzB9vFFwf0Tq8ETBaXBIdpfwVTqcsHTow/BUGi0wX6DhcH12wjBe6Z+wW1mHcAVclvBqgwBwY7UZMAhsXLB9R3FwPhwj8CC6qDAQu0OwSoSecHCVWHBr5InwLuGfcCNXD3BISUjwQYuPcFgxb7AKfZhwYQgocGc+kHBK7W7wCdij7yQZmhAFcDZwZKAlsEmfq3BmmvXwRyxwsFkec/Bv/eOwRFWA8JMcuHBeIhxwTYyIcEkng7BreoDv+p5jMGd3lzBhB1Rwdn+s8Hi17XBiAeMwd65WcFSF2rBa9ptwSZAbsG0G2vBf9uFwaepusEzdsjBpYKrwZOE1cFucsTBlQzMwS3Px8FpmaLBzhGRwQnEssGjArfBMyKWwV7FocHAE43BGW0XwdRxk8GrLqzBxQTMwWrm08EH7cPBu+tJwaxqq8GLSMTBEXuywf+XxcBscPHBnmWkwS9bTsGIp37B2wjHwdK/ZMFuva7Bd7HuwSIH88GArjrBS6NPwQqXusE=",
          "dtype": "f4"
         },
         "yaxis": "y"
        }
       ],
       "layout": {
        "height": 600,
        "legend": {
         "title": {
          "text": "Activity"
         },
         "tracegroupgap": 0
        },
        "template": {
         "data": {
          "bar": [
           {
            "error_x": {
             "color": "#2a3f5f"
            },
            "error_y": {
             "color": "#2a3f5f"
            },
            "marker": {
             "line": {
              "color": "#E5ECF6",
              "width": 0.5
             },
             "pattern": {
              "fillmode": "overlay",
              "size": 10,
              "solidity": 0.2
             }
            },
            "type": "bar"
           }
          ],
          "barpolar": [
           {
            "marker": {
             "line": {
              "color": "#E5ECF6",
              "width": 0.5
             },
             "pattern": {
              "fillmode": "overlay",
              "size": 10,
              "solidity": 0.2
             }
            },
            "type": "barpolar"
           }
          ],
          "carpet": [
           {
            "aaxis": {
             "endlinecolor": "#2a3f5f",
             "gridcolor": "white",
             "linecolor": "white",
             "minorgridcolor": "white",
             "startlinecolor": "#2a3f5f"
            },
            "baxis": {
             "endlinecolor": "#2a3f5f",
             "gridcolor": "white",
             "linecolor": "white",
             "minorgridcolor": "white",
             "startlinecolor": "#2a3f5f"
            },
            "type": "carpet"
           }
          ],
          "choropleth": [
           {
            "colorbar": {
             "outlinewidth": 0,
             "ticks": ""
            },
            "type": "choropleth"
           }
          ],
          "contour": [
           {
            "colorbar": {
             "outlinewidth": 0,
             "ticks": ""
            },
            "colorscale": [
             [
              0,
              "#0d0887"
             ],
             [
              0.1111111111111111,
              "#46039f"
             ],
             [
              0.2222222222222222,
              "#7201a8"
             ],
             [
              0.3333333333333333,
              "#9c179e"
             ],
             [
              0.4444444444444444,
              "#bd3786"
             ],
             [
              0.5555555555555556,
              "#d8576b"
             ],
             [
              0.6666666666666666,
              "#ed7953"
             ],
             [
              0.7777777777777778,
              "#fb9f3a"
             ],
             [
              0.8888888888888888,
              "#fdca26"
             ],
             [
              1,
              "#f0f921"
             ]
            ],
            "type": "contour"
           }
          ],
          "contourcarpet": [
           {
            "colorbar": {
             "outlinewidth": 0,
             "ticks": ""
            },
            "type": "contourcarpet"
           }
          ],
          "heatmap": [
           {
            "colorbar": {
             "outlinewidth": 0,
             "ticks": ""
            },
            "colorscale": [
             [
              0,
              "#0d0887"
             ],
             [
              0.1111111111111111,
              "#46039f"
             ],
             [
              0.2222222222222222,
              "#7201a8"
             ],
             [
              0.3333333333333333,
              "#9c179e"
             ],
             [
              0.4444444444444444,
              "#bd3786"
             ],
             [
              0.5555555555555556,
              "#d8576b"
             ],
             [
              0.6666666666666666,
              "#ed7953"
             ],
             [
              0.7777777777777778,
              "#fb9f3a"
             ],
             [
              0.8888888888888888,
              "#fdca26"
             ],
             [
              1,
              "#f0f921"
             ]
            ],
            "type": "heatmap"
           }
          ],
          "histogram": [
           {
            "marker": {
             "pattern": {
              "fillmode": "overlay",
              "size": 10,
              "solidity": 0.2
             }
            },
            "type": "histogram"
           }
          ],
          "histogram2d": [
           {
            "colorbar": {
             "outlinewidth": 0,
             "ticks": ""
            },
            "colorscale": [
             [
              0,
              "#0d0887"
             ],
             [
              0.1111111111111111,
              "#46039f"
             ],
             [
              0.2222222222222222,
              "#7201a8"
             ],
             [
              0.3333333333333333,
              "#9c179e"
             ],
             [
              0.4444444444444444,
              "#bd3786"
             ],
             [
              0.5555555555555556,
              "#d8576b"
             ],
             [
              0.6666666666666666,
              "#ed7953"
             ],
             [
              0.7777777777777778,
              "#fb9f3a"
             ],
             [
              0.8888888888888888,
              "#fdca26"
             ],
             [
              1,
              "#f0f921"
             ]
            ],
            "type": "histogram2d"
           }
          ],
          "histogram2dcontour": [
           {
            "colorbar": {
             "outlinewidth": 0,
             "ticks": ""
            },
            "colorscale": [
             [
              0,
              "#0d0887"
             ],
             [
              0.1111111111111111,
              "#46039f"
             ],
             [
              0.2222222222222222,
              "#7201a8"
             ],
             [
              0.3333333333333333,
              "#9c179e"
             ],
             [
              0.4444444444444444,
              "#bd3786"
             ],
             [
              0.5555555555555556,
              "#d8576b"
             ],
             [
              0.6666666666666666,
              "#ed7953"
             ],
             [
              0.7777777777777778,
              "#fb9f3a"
             ],
             [
              0.8888888888888888,
              "#fdca26"
             ],
             [
              1,
              "#f0f921"
             ]
            ],
            "type": "histogram2dcontour"
           }
          ],
          "mesh3d": [
           {
            "colorbar": {
             "outlinewidth": 0,
             "ticks": ""
            },
            "type": "mesh3d"
           }
          ],
          "parcoords": [
           {
            "line": {
             "colorbar": {
              "outlinewidth": 0,
              "ticks": ""
             }
            },
            "type": "parcoords"
           }
          ],
          "pie": [
           {
            "automargin": true,
            "type": "pie"
           }
          ],
          "scatter": [
           {
            "fillpattern": {
             "fillmode": "overlay",
             "size": 10,
             "solidity": 0.2
            },
            "type": "scatter"
           }
          ],
          "scatter3d": [
           {
            "line": {
             "colorbar": {
              "outlinewidth": 0,
              "ticks": ""
             }
            },
            "marker": {
             "colorbar": {
              "outlinewidth": 0,
              "ticks": ""
             }
            },
            "type": "scatter3d"
           }
          ],
          "scattercarpet": [
           {
            "marker": {
             "colorbar": {
              "outlinewidth": 0,
              "ticks": ""
             }
            },
            "type": "scattercarpet"
           }
          ],
          "scattergeo": [
           {
            "marker": {
             "colorbar": {
              "outlinewidth": 0,
              "ticks": ""
             }
            },
            "type": "scattergeo"
           }
          ],
          "scattergl": [
           {
            "marker": {
             "colorbar": {
              "outlinewidth": 0,
              "ticks": ""
             }
            },
            "type": "scattergl"
           }
          ],
          "scattermap": [
           {
            "marker": {
             "colorbar": {
              "outlinewidth": 0,
              "ticks": ""
             }
            },
            "type": "scattermap"
           }
          ],
          "scattermapbox": [
           {
            "marker": {
             "colorbar": {
              "outlinewidth": 0,
              "ticks": ""
             }
            },
            "type": "scattermapbox"
           }
          ],
          "scatterpolar": [
           {
            "marker": {
             "colorbar": {
              "outlinewidth": 0,
              "ticks": ""
             }
            },
            "type": "scatterpolar"
           }
          ],
          "scatterpolargl": [
           {
            "marker": {
             "colorbar": {
              "outlinewidth": 0,
              "ticks": ""
             }
            },
            "type": "scatterpolargl"
           }
          ],
          "scatterternary": [
           {
            "marker": {
             "colorbar": {
              "outlinewidth": 0,
              "ticks": ""
             }
            },
            "type": "scatterternary"
           }
          ],
          "surface": [
           {
            "colorbar": {
             "outlinewidth": 0,
             "ticks": ""
            },
            "colorscale": [
             [
              0,
              "#0d0887"
             ],
             [
              0.1111111111111111,
              "#46039f"
             ],
             [
              0.2222222222222222,
              "#7201a8"
             ],
             [
              0.3333333333333333,
              "#9c179e"
             ],
             [
              0.4444444444444444,
              "#bd3786"
             ],
             [
              0.5555555555555556,
              "#d8576b"
             ],
             [
              0.6666666666666666,
              "#ed7953"
             ],
             [
              0.7777777777777778,
              "#fb9f3a"
             ],
             [
              0.8888888888888888,
              "#fdca26"
             ],
             [
              1,
              "#f0f921"
             ]
            ],
            "type": "surface"
           }
          ],
          "table": [
           {
            "cells": {
             "fill": {
              "color": "#EBF0F8"
             },
             "line": {
              "color": "white"
             }
            },
            "header": {
             "fill": {
              "color": "#C8D4E3"
             },
             "line": {
              "color": "white"
             }
            },
            "type": "table"
           }
          ]
         },
         "layout": {
          "annotationdefaults": {
           "arrowcolor": "#2a3f5f",
           "arrowhead": 0,
           "arrowwidth": 1
          },
          "autotypenumbers": "strict",
          "coloraxis": {
           "colorbar": {
            "outlinewidth": 0,
            "ticks": ""
           }
          },
          "colorscale": {
           "diverging": [
            [
             0,
             "#8e0152"
            ],
            [
             0.1,
             "#c51b7d"
            ],
            [
             0.2,
             "#de77ae"
            ],
            [
             0.3,
             "#f1b6da"
            ],
            [
             0.4,
             "#fde0ef"
            ],
            [
             0.5,
             "#f7f7f7"
            ],
            [
             0.6,
             "#e6f5d0"
            ],
            [
             0.7,
             "#b8e186"
            ],
            [
             0.8,
             "#7fbc41"
            ],
            [
             0.9,
             "#4d9221"
            ],
            [
             1,
             "#276419"
            ]
           ],
           "sequential": [
            [
             0,
             "#0d0887"
            ],
            [
             0.1111111111111111,
             "#46039f"
            ],
            [
             0.2222222222222222,
             "#7201a8"
            ],
            [
             0.3333333333333333,
             "#9c179e"
            ],
            [
             0.4444444444444444,
             "#bd3786"
            ],
            [
             0.5555555555555556,
             "#d8576b"
            ],
            [
             0.6666666666666666,
             "#ed7953"
            ],
            [
             0.7777777777777778,
             "#fb9f3a"
            ],
            [
             0.8888888888888888,
             "#fdca26"
            ],
            [
             1,
             "#f0f921"
            ]
           ],
           "sequentialminus": [
            [
             0,
             "#0d0887"
            ],
            [
             0.1111111111111111,
             "#46039f"
            ],
            [
             0.2222222222222222,
             "#7201a8"
            ],
            [
             0.3333333333333333,
             "#9c179e"
            ],
            [
             0.4444444444444444,
             "#bd3786"
            ],
            [
             0.5555555555555556,
             "#d8576b"
            ],
            [
             0.6666666666666666,
             "#ed7953"
            ],
            [
             0.7777777777777778,
             "#fb9f3a"
            ],
            [
             0.8888888888888888,
             "#fdca26"
            ],
            [
             1,
             "#f0f921"
            ]
           ]
          },
          "colorway": [
           "#636efa",
           "#EF553B",
           "#00cc96",
           "#ab63fa",
           "#FFA15A",
           "#19d3f3",
           "#FF6692",
           "#B6E880",
           "#FF97FF",
           "#FECB52"
          ],
          "font": {
           "color": "#2a3f5f"
          },
          "geo": {
           "bgcolor": "white",
           "lakecolor": "white",
           "landcolor": "#E5ECF6",
           "showlakes": true,
           "showland": true,
           "subunitcolor": "white"
          },
          "hoverlabel": {
           "align": "left"
          },
          "hovermode": "closest",
          "mapbox": {
           "style": "light"
          },
          "paper_bgcolor": "white",
          "plot_bgcolor": "#E5ECF6",
          "polar": {
           "angularaxis": {
            "gridcolor": "white",
            "linecolor": "white",
            "ticks": ""
           },
           "bgcolor": "#E5ECF6",
           "radialaxis": {
            "gridcolor": "white",
            "linecolor": "white",
            "ticks": ""
           }
          },
          "scene": {
           "xaxis": {
            "backgroundcolor": "#E5ECF6",
            "gridcolor": "white",
            "gridwidth": 2,
            "linecolor": "white",
            "showbackground": true,
            "ticks": "",
            "zerolinecolor": "white"
           },
           "yaxis": {
            "backgroundcolor": "#E5ECF6",
            "gridcolor": "white",
            "gridwidth": 2,
            "linecolor": "white",
            "showbackground": true,
            "ticks": "",
            "zerolinecolor": "white"
           },
           "zaxis": {
            "backgroundcolor": "#E5ECF6",
            "gridcolor": "white",
            "gridwidth": 2,
            "linecolor": "white",
            "showbackground": true,
            "ticks": "",
            "zerolinecolor": "white"
           }
          },
          "shapedefaults": {
           "line": {
            "color": "#2a3f5f"
           }
          },
          "ternary": {
           "aaxis": {
            "gridcolor": "white",
            "linecolor": "white",
            "ticks": ""
           },
           "baxis": {
            "gridcolor": "white",
            "linecolor": "white",
            "ticks": ""
           },
           "bgcolor": "#E5ECF6",
           "caxis": {
            "gridcolor": "white",
            "linecolor": "white",
            "ticks": ""
           }
          },
          "title": {
           "x": 0.05
          },
          "xaxis": {
           "automargin": true,
           "gridcolor": "white",
           "linecolor": "white",
           "ticks": "",
           "title": {
            "standoff": 15
           },
           "zerolinecolor": "white",
           "zerolinewidth": 2
          },
          "yaxis": {
           "automargin": true,
           "gridcolor": "white",
           "linecolor": "white",
           "ticks": "",
           "title": {
            "standoff": 15
           },
           "zerolinecolor": "white",
           "zerolinewidth": 2
          }
         }
        },
        "title": {
         "text": "PCA: Activity Clustering in 2D Space<br>Explained Variance: PC1=31.2%, PC2=28.3%"
        },
        "xaxis": {
         "anchor": "y",
         "domain": [
          0,
          1
         ],
         "title": {
          "text": "PC1 (31.2%)"
         }
        },
        "yaxis": {
         "anchor": "x",
         "domain": [
          0,
          1
         ],
         "title": {
          "text": "PC2 (28.3%)"
         }
        }
       }
      }
     },
     "metadata": {},
     "output_type": "display_data"
    }
   ],
   "source": [
    "from sklearn.decomposition import PCA\n",
    "from sklearn.preprocessing import StandardScaler\n",
    "\n",
    "\n",
    "def apply_pca_visualization(X, Y, n_components=2):\n",
    "    \"\"\"\n",
    "    Apply PCA to visualize activity clusters in 2D\n",
    "    \n",
    "    Parameters:\n",
    "    -----------\n",
    "    X : np.array\n",
    "        Shape (n_windows, 1000, 3) - windowed acceleration data\n",
    "    Y : np.array\n",
    "        Shape (n_windows,) - activity labels\n",
    "    \n",
    "    Returns:\n",
    "    --------\n",
    "    plotly figure\n",
    "    \"\"\"\n",
    "    # Flatten each window into a feature vector\n",
    "    # From (n_windows, 1000, 3) to (n_windows, 3000)\n",
    "    X_flattened = X.reshape(X.shape[0], -1)\n",
    "    \n",
    "    print(f\"Original shape: {X.shape}\")\n",
    "    print(f\"Flattened shape: {X_flattened.shape}\")\n",
    "    \n",
    "    # Standardize features (PCA needs normalization)\n",
    "    scaler = StandardScaler()\n",
    "    X_scaled = scaler.fit_transform(X_flattened)\n",
    "    \n",
    "    # Apply PCA\n",
    "    pca = PCA(n_components=n_components)\n",
    "    X_pca = pca.fit_transform(X_scaled)\n",
    "    \n",
    "    # Create dataframe for plotting\n",
    "    df_pca = pd.DataFrame({\n",
    "        'PC1': X_pca[:, 0],\n",
    "        'PC2': X_pca[:, 1],\n",
    "        'Activity': Y\n",
    "    })\n",
    "    \n",
    "    # Print explained variance\n",
    "    explained_var = pca.explained_variance_ratio_\n",
    "    print(f\"\\nExplained variance ratio:\")\n",
    "    for i, var in enumerate(explained_var):\n",
    "        print(f\"  PC{i+1}: {var*100:.2f}%\")\n",
    "    print(f\"  Total: {sum(explained_var)*100:.2f}%\")\n",
    "    \n",
    "    # Create visualization\n",
    "    fig = px.scatter(\n",
    "        df_pca,\n",
    "        x='PC1',\n",
    "        y='PC2',\n",
    "        color='Activity',\n",
    "        title=f'PCA: Activity Clustering <br>Explained Variance: PC1={explained_var[0]*100:.1f}%, PC2={explained_var[1]*100:.1f}%',\n",
    "        labels={'PC1': f'PC1 ({explained_var[0]*100:.1f}%)', \n",
    "                'PC2': f'PC2 ({explained_var[1]*100:.1f}%)'},\n",
    "        opacity=0.6,\n",
    "        height=600\n",
    "    )\n",
    "    \n",
    "    fig.update_traces(marker=dict(size=5))\n",
    "    \n",
    "    return fig, pca, df_pca\n",
    "\n",
    "# Apply 2D PCA\n",
    "fig_2d, pca_model, df_pca = apply_pca_visualization(X, Y, n_components=2)\n",
    "fig_2d.show()"
   ]
  },
  {
   "cell_type": "markdown",
   "id": "2e0d20c9",
   "metadata": {},
   "source": [
    "### take away from the above visulization plot is:\n",
    "    1. Sleep detection (almost perfect separation)\n",
    "    2. Bicycling detection (distinct cluster)\n",
    "    3. Walking vs static activities (clear left-right separation)\n",
    "\n",
    "seeing this makes me wonder if hierarchical classification approach  works well in this case."
   ]
  },
  {
   "cell_type": "code",
   "execution_count": 65,
   "id": "d351bbcf",
   "metadata": {},
   "outputs": [
    {
     "data": {
      "text/html": [
       "<div>\n",
       "<style scoped>\n",
       "    .dataframe tbody tr th:only-of-type {\n",
       "        vertical-align: middle;\n",
       "    }\n",
       "\n",
       "    .dataframe tbody tr th {\n",
       "        vertical-align: top;\n",
       "    }\n",
       "\n",
       "    .dataframe thead th {\n",
       "        text-align: right;\n",
       "    }\n",
       "</style>\n",
       "<table border=\"1\" class=\"dataframe\">\n",
       "  <thead>\n",
       "    <tr style=\"text-align: right;\">\n",
       "      <th></th>\n",
       "      <th>label:WillettsSpecific2018</th>\n",
       "      <th>label:WillettsMET2018</th>\n",
       "      <th>label:DohertySpecific2018</th>\n",
       "      <th>label:Willetts2018</th>\n",
       "      <th>label:Doherty2018</th>\n",
       "      <th>label:Walmsley2020</th>\n",
       "    </tr>\n",
       "    <tr>\n",
       "      <th>annotation</th>\n",
       "      <th></th>\n",
       "      <th></th>\n",
       "      <th></th>\n",
       "      <th></th>\n",
       "      <th></th>\n",
       "      <th></th>\n",
       "    </tr>\n",
       "  </thead>\n",
       "  <tbody>\n",
       "    <tr>\n",
       "      <th>7030 sleeping;MET 0.95</th>\n",
       "      <td>sleep</td>\n",
       "      <td>sleep</td>\n",
       "      <td>sleep</td>\n",
       "      <td>sleep</td>\n",
       "      <td>sleep</td>\n",
       "      <td>sleep</td>\n",
       "    </tr>\n",
       "    <tr>\n",
       "      <th>occupation;office and administrative support;11580 office/computer work general;MET 1.5</th>\n",
       "      <td>sitting</td>\n",
       "      <td>sitstand+lowactivity</td>\n",
       "      <td>sedentary-screen</td>\n",
       "      <td>sit-stand</td>\n",
       "      <td>sedentary</td>\n",
       "      <td>sedentary</td>\n",
       "    </tr>\n",
       "    <tr>\n",
       "      <th>home activity;household chores;preparing meals/cooking/washing dishes;5035 kitchen activity general cooking/washing/dishes/cleaning up;MET 3.3</th>\n",
       "      <td>household-chores</td>\n",
       "      <td>sitstand+activity</td>\n",
       "      <td>tasks-moderate</td>\n",
       "      <td>mixed</td>\n",
       "      <td>moderate</td>\n",
       "      <td>light</td>\n",
       "    </tr>\n",
       "    <tr>\n",
       "      <th>occupation;office and administrative support;11580 office wok/computer work general;MET 1.5</th>\n",
       "      <td>sitting</td>\n",
       "      <td>sitstand+lowactivity</td>\n",
       "      <td>sedentary-screen</td>\n",
       "      <td>sit-stand</td>\n",
       "      <td>sedentary</td>\n",
       "      <td>sedentary</td>\n",
       "    </tr>\n",
       "    <tr>\n",
       "      <th>home activity;miscellaneous;sitting;9060 sitting/lying reading or without observable/identifiable activities;MET 1.3</th>\n",
       "      <td>sitting</td>\n",
       "      <td>sitstand+lowactivity</td>\n",
       "      <td>sedentary-non-screen</td>\n",
       "      <td>sit-stand</td>\n",
       "      <td>sedentary</td>\n",
       "      <td>sedentary</td>\n",
       "    </tr>\n",
       "    <tr>\n",
       "      <th>...</th>\n",
       "      <td>...</td>\n",
       "      <td>...</td>\n",
       "      <td>...</td>\n",
       "      <td>...</td>\n",
       "      <td>...</td>\n",
       "      <td>...</td>\n",
       "    </tr>\n",
       "    <tr>\n",
       "      <th>transportation;walking;17250 walking as the single means to a destination not to work or class;MET 3.0</th>\n",
       "      <td>mixed-activity</td>\n",
       "      <td>walking</td>\n",
       "      <td>walking</td>\n",
       "      <td>mixed</td>\n",
       "      <td>walking</td>\n",
       "      <td>moderate-vigorous</td>\n",
       "    </tr>\n",
       "    <tr>\n",
       "      <th>transportation;walking;17270 walking as the single means to work or class (not from);MET 3.5</th>\n",
       "      <td>walking</td>\n",
       "      <td>walking</td>\n",
       "      <td>walking</td>\n",
       "      <td>walking</td>\n",
       "      <td>walking</td>\n",
       "      <td>moderate-vigorous</td>\n",
       "    </tr>\n",
       "    <tr>\n",
       "      <th>transportation;public transportation;16016 riding in a bus or train;MET 1.3</th>\n",
       "      <td>vehicle</td>\n",
       "      <td>vehicle</td>\n",
       "      <td>vehicle</td>\n",
       "      <td>vehicle</td>\n",
       "      <td>sedentary</td>\n",
       "      <td>sedentary</td>\n",
       "    </tr>\n",
       "    <tr>\n",
       "      <th>household-chores;sitstand+lowactivity;MET 2.8</th>\n",
       "      <td>household-chores</td>\n",
       "      <td>sitstand+lowactivity</td>\n",
       "      <td>tasks-light</td>\n",
       "      <td>mixed</td>\n",
       "      <td>tasks-light</td>\n",
       "      <td>light</td>\n",
       "    </tr>\n",
       "    <tr>\n",
       "      <th>vehicle;MET 1.3</th>\n",
       "      <td>vehicle</td>\n",
       "      <td>vehicle</td>\n",
       "      <td>vehicle</td>\n",
       "      <td>vehicle</td>\n",
       "      <td>sedentary</td>\n",
       "      <td>sedentary</td>\n",
       "    </tr>\n",
       "  </tbody>\n",
       "</table>\n",
       "<p>206 rows × 6 columns</p>\n",
       "</div>"
      ],
      "text/plain": [
       "                                                   label:WillettsSpecific2018  \\\n",
       "annotation                                                                      \n",
       "7030 sleeping;MET 0.95                                                  sleep   \n",
       "occupation;office and administrative support;11...                    sitting   \n",
       "home activity;household chores;preparing meals/...           household-chores   \n",
       "occupation;office and administrative support;11...                    sitting   \n",
       "home activity;miscellaneous;sitting;9060 sittin...                    sitting   \n",
       "...                                                                       ...   \n",
       "transportation;walking;17250 walking as the sin...             mixed-activity   \n",
       "transportation;walking;17270 walking as the sin...                    walking   \n",
       "transportation;public transportation;16016 ridi...                    vehicle   \n",
       "household-chores;sitstand+lowactivity;MET 2.8                household-chores   \n",
       "vehicle;MET 1.3                                                       vehicle   \n",
       "\n",
       "                                                   label:WillettsMET2018  \\\n",
       "annotation                                                                 \n",
       "7030 sleeping;MET 0.95                                             sleep   \n",
       "occupation;office and administrative support;11...  sitstand+lowactivity   \n",
       "home activity;household chores;preparing meals/...     sitstand+activity   \n",
       "occupation;office and administrative support;11...  sitstand+lowactivity   \n",
       "home activity;miscellaneous;sitting;9060 sittin...  sitstand+lowactivity   \n",
       "...                                                                  ...   \n",
       "transportation;walking;17250 walking as the sin...               walking   \n",
       "transportation;walking;17270 walking as the sin...               walking   \n",
       "transportation;public transportation;16016 ridi...               vehicle   \n",
       "household-chores;sitstand+lowactivity;MET 2.8       sitstand+lowactivity   \n",
       "vehicle;MET 1.3                                                  vehicle   \n",
       "\n",
       "                                                   label:DohertySpecific2018  \\\n",
       "annotation                                                                     \n",
       "7030 sleeping;MET 0.95                                                 sleep   \n",
       "occupation;office and administrative support;11...          sedentary-screen   \n",
       "home activity;household chores;preparing meals/...            tasks-moderate   \n",
       "occupation;office and administrative support;11...          sedentary-screen   \n",
       "home activity;miscellaneous;sitting;9060 sittin...      sedentary-non-screen   \n",
       "...                                                                      ...   \n",
       "transportation;walking;17250 walking as the sin...                   walking   \n",
       "transportation;walking;17270 walking as the sin...                   walking   \n",
       "transportation;public transportation;16016 ridi...                   vehicle   \n",
       "household-chores;sitstand+lowactivity;MET 2.8                    tasks-light   \n",
       "vehicle;MET 1.3                                                      vehicle   \n",
       "\n",
       "                                                   label:Willetts2018  \\\n",
       "annotation                                                              \n",
       "7030 sleeping;MET 0.95                                          sleep   \n",
       "occupation;office and administrative support;11...          sit-stand   \n",
       "home activity;household chores;preparing meals/...              mixed   \n",
       "occupation;office and administrative support;11...          sit-stand   \n",
       "home activity;miscellaneous;sitting;9060 sittin...          sit-stand   \n",
       "...                                                               ...   \n",
       "transportation;walking;17250 walking as the sin...              mixed   \n",
       "transportation;walking;17270 walking as the sin...            walking   \n",
       "transportation;public transportation;16016 ridi...            vehicle   \n",
       "household-chores;sitstand+lowactivity;MET 2.8                   mixed   \n",
       "vehicle;MET 1.3                                               vehicle   \n",
       "\n",
       "                                                   label:Doherty2018  \\\n",
       "annotation                                                             \n",
       "7030 sleeping;MET 0.95                                         sleep   \n",
       "occupation;office and administrative support;11...         sedentary   \n",
       "home activity;household chores;preparing meals/...          moderate   \n",
       "occupation;office and administrative support;11...         sedentary   \n",
       "home activity;miscellaneous;sitting;9060 sittin...         sedentary   \n",
       "...                                                              ...   \n",
       "transportation;walking;17250 walking as the sin...           walking   \n",
       "transportation;walking;17270 walking as the sin...           walking   \n",
       "transportation;public transportation;16016 ridi...         sedentary   \n",
       "household-chores;sitstand+lowactivity;MET 2.8            tasks-light   \n",
       "vehicle;MET 1.3                                            sedentary   \n",
       "\n",
       "                                                   label:Walmsley2020  \n",
       "annotation                                                             \n",
       "7030 sleeping;MET 0.95                                          sleep  \n",
       "occupation;office and administrative support;11...          sedentary  \n",
       "home activity;household chores;preparing meals/...              light  \n",
       "occupation;office and administrative support;11...          sedentary  \n",
       "home activity;miscellaneous;sitting;9060 sittin...          sedentary  \n",
       "...                                                               ...  \n",
       "transportation;walking;17250 walking as the sin...  moderate-vigorous  \n",
       "transportation;walking;17270 walking as the sin...  moderate-vigorous  \n",
       "transportation;public transportation;16016 ridi...          sedentary  \n",
       "household-chores;sitstand+lowactivity;MET 2.8                   light  \n",
       "vehicle;MET 1.3                                             sedentary  \n",
       "\n",
       "[206 rows x 6 columns]"
      ]
     },
     "execution_count": 65,
     "metadata": {},
     "output_type": "execute_result"
    }
   ],
   "source": [
    "annotation_df"
   ]
  },
  {
   "cell_type": "code",
   "execution_count": null,
   "id": "98acebc1",
   "metadata": {},
   "outputs": [],
   "source": []
  }
 ],
 "metadata": {
  "kernelspec": {
   "display_name": "text-entailment",
   "language": "python",
   "name": "python3"
  },
  "language_info": {
   "codemirror_mode": {
    "name": "ipython",
    "version": 3
   },
   "file_extension": ".py",
   "mimetype": "text/x-python",
   "name": "python",
   "nbconvert_exporter": "python",
   "pygments_lexer": "ipython3",
   "version": "3.13.5"
  }
 },
 "nbformat": 4,
 "nbformat_minor": 5
}
